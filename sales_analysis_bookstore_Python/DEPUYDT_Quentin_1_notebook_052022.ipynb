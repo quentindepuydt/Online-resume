{
  "cells": [
    {
      "cell_type": "code",
      "execution_count": 8,
      "metadata": {
        "id": "Qq3xsZ1QRBBV"
      },
      "outputs": [],
      "source": [
        "%matplotlib inline\n",
        "import pandas as pd\n",
        "import numpy as np\n",
        "import matplotlib as mpl\n",
        "import matplotlib.pyplot as plt\n",
        "import seaborn as sns\n",
        "from pandas.api.types import is_string_dtype, is_numeric_dtype"
      ]
    },
    {
      "cell_type": "code",
      "source": [
        "from google.colab import files\n",
        "data_to_load = files.upload()"
      ],
      "metadata": {
        "colab": {
          "resources": {
            "http://localhost:8080/nbextensions/google.colab/files.js": {
              "data": "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",
              "ok": true,
              "headers": [
                [
                  "content-type",
                  "application/javascript"
                ]
              ],
              "status": 200,
              "status_text": "OK"
            }
          },
          "base_uri": "https://localhost:8080/",
          "height": 39
        },
        "id": "yVTq_yqoR1dV",
        "outputId": "edb342b7-4f3a-4076-be03-f75b02a83a7e"
      },
      "execution_count": 9,
      "outputs": [
        {
          "output_type": "display_data",
          "data": {
            "text/plain": [
              "<IPython.core.display.HTML object>"
            ],
            "text/html": [
              "\n",
              "     <input type=\"file\" id=\"files-71702ed8-f48a-46e0-8af6-4f92a7a8ca98\" name=\"files[]\" multiple disabled\n",
              "        style=\"border:none\" />\n",
              "     <output id=\"result-71702ed8-f48a-46e0-8af6-4f92a7a8ca98\">\n",
              "      Upload widget is only available when the cell has been executed in the\n",
              "      current browser session. Please rerun this cell to enable.\n",
              "      </output>\n",
              "      <script src=\"/nbextensions/google.colab/files.js\"></script> "
            ]
          },
          "metadata": {}
        }
      ]
    },
    {
      "cell_type": "code",
      "execution_count": 210,
      "metadata": {
        "id": "7n3cirOcRBBY"
      },
      "outputs": [],
      "source": [
        "customers = pd.read_csv(\"customers.csv\")\n",
        "products = pd.read_csv(\"products.csv\")\n",
        "transactions = pd.read_csv(\"transactions.csv\")"
      ]
    },
    {
      "cell_type": "markdown",
      "metadata": {
        "id": "2L9s8WagRBBZ"
      },
      "source": [
        "## Observations des tables :"
      ]
    },
    {
      "cell_type": "code",
      "execution_count": 211,
      "metadata": {
        "colab": {
          "base_uri": "https://localhost:8080/"
        },
        "id": "Fy6RbH9SRBBa",
        "outputId": "e79f2425-87c1-4836-f343-a1794e72bbac"
      },
      "outputs": [
        {
          "output_type": "stream",
          "name": "stdout",
          "text": [
            "<class 'pandas.core.frame.DataFrame'>\n",
            "RangeIndex: 8623 entries, 0 to 8622\n",
            "Data columns (total 3 columns):\n",
            " #   Column     Non-Null Count  Dtype \n",
            "---  ------     --------------  ----- \n",
            " 0   client_id  8623 non-null   object\n",
            " 1   sex        8623 non-null   object\n",
            " 2   birth      8623 non-null   int64 \n",
            "dtypes: int64(1), object(2)\n",
            "memory usage: 202.2+ KB\n"
          ]
        }
      ],
      "source": [
        "customers.info()"
      ]
    },
    {
      "cell_type": "code",
      "execution_count": 212,
      "metadata": {
        "colab": {
          "base_uri": "https://localhost:8080/"
        },
        "id": "0vxqxSzoRBBb",
        "outputId": "54da897c-9d93-4d36-d49b-54c134adec47"
      },
      "outputs": [
        {
          "output_type": "stream",
          "name": "stdout",
          "text": [
            "<class 'pandas.core.frame.DataFrame'>\n",
            "RangeIndex: 3287 entries, 0 to 3286\n",
            "Data columns (total 3 columns):\n",
            " #   Column   Non-Null Count  Dtype  \n",
            "---  ------   --------------  -----  \n",
            " 0   id_prod  3287 non-null   object \n",
            " 1   price    3287 non-null   float64\n",
            " 2   categ    3287 non-null   int64  \n",
            "dtypes: float64(1), int64(1), object(1)\n",
            "memory usage: 77.2+ KB\n"
          ]
        }
      ],
      "source": [
        "products.info()\n"
      ]
    },
    {
      "cell_type": "code",
      "execution_count": 213,
      "metadata": {
        "colab": {
          "base_uri": "https://localhost:8080/"
        },
        "id": "19xrI9snRBBc",
        "outputId": "892d6dcf-04d3-4dff-c6eb-2433c4953e83"
      },
      "outputs": [
        {
          "output_type": "stream",
          "name": "stdout",
          "text": [
            "<class 'pandas.core.frame.DataFrame'>\n",
            "RangeIndex: 679532 entries, 0 to 679531\n",
            "Data columns (total 4 columns):\n",
            " #   Column      Non-Null Count   Dtype \n",
            "---  ------      --------------   ----- \n",
            " 0   id_prod     679532 non-null  object\n",
            " 1   date        679532 non-null  object\n",
            " 2   session_id  679532 non-null  object\n",
            " 3   client_id   679532 non-null  object\n",
            "dtypes: object(4)\n",
            "memory usage: 20.7+ MB\n"
          ]
        }
      ],
      "source": [
        "transactions.info()"
      ]
    },
    {
      "cell_type": "markdown",
      "metadata": {
        "id": "4s04wWsZRBBc"
      },
      "source": [
        "## Tests sur la table customers"
      ]
    },
    {
      "cell_type": "code",
      "execution_count": 214,
      "metadata": {
        "colab": {
          "base_uri": "https://localhost:8080/"
        },
        "id": "MD-kGEyQRBBd",
        "outputId": "5bcfcf49-9fd8-4454-cb5a-8790c209e665"
      },
      "outputs": [
        {
          "output_type": "execute_result",
          "data": {
            "text/plain": [
              "True"
            ]
          },
          "metadata": {},
          "execution_count": 214
        }
      ],
      "source": [
        "customers.isna().sum()\n",
        "customers.duplicated().sum()\n",
        "\n",
        "#On supprime les client_id test en ne gardant que les id commençant par \"c_\"\n",
        "customers = customers.loc[customers[\"client_id\"].str.startswith(\"c_\")]\n",
        "\n",
        "#On teste l'unicité de la clé primaire de la table\n",
        "customers[\"client_id\"].nunique() == customers.shape[0]"
      ]
    },
    {
      "cell_type": "markdown",
      "metadata": {
        "id": "gfSfiXBeRBBe"
      },
      "source": [
        "## Tests sur la table products"
      ]
    },
    {
      "cell_type": "code",
      "execution_count": 215,
      "metadata": {
        "colab": {
          "base_uri": "https://localhost:8080/"
        },
        "id": "FPPtBBPDRBBf",
        "outputId": "25ae5198-3f2a-47d5-d51a-848e5b7be547"
      },
      "outputs": [
        {
          "output_type": "stream",
          "name": "stdout",
          "text": [
            "True\n",
            "0\n",
            "3286\n"
          ]
        }
      ],
      "source": [
        "products.isna().sum()\n",
        "products.duplicated().sum()\n",
        "\n",
        "#On supprime les id_prod test en ne gardant que les id ne commençant pas par \"T\"\n",
        "products = products.loc[~products[\"id_prod\"].str.startswith(\"T_\")]\n",
        "\n",
        "#On teste l'unicité de la clé primaire de la table\n",
        "print(products[\"id_prod\"].nunique() == products.shape[0])\n",
        "\n",
        "#On regarde si tous les prix sont strictement positifs\n",
        "print((products[\"price\"] <= 0).sum() )\n",
        "\n",
        "#On regarde si le premier chiffre de id_prod correspond à la catégorie du produit\n",
        "print((products[\"id_prod\"].str[0] == products[\"categ\"].astype(str)).sum())\n",
        "\n"
      ]
    },
    {
      "cell_type": "markdown",
      "metadata": {
        "id": "v_YI6Qy3RBBg"
      },
      "source": [
        "## Tests sur la table transactions"
      ]
    },
    {
      "cell_type": "code",
      "execution_count": 216,
      "metadata": {
        "colab": {
          "base_uri": "https://localhost:8080/"
        },
        "id": "pG1NRERSRBBh",
        "outputId": "d2ca0406-e294-4f14-8cc7-890dd51fd7ed"
      },
      "outputs": [
        {
          "output_type": "execute_result",
          "data": {
            "text/plain": [
              "True"
            ]
          },
          "metadata": {},
          "execution_count": 216
        }
      ],
      "source": [
        "#On retire les transactions test qui ont le session_id s_0\n",
        "transactions = transactions.loc[transactions[\"session_id\"] != \"s_0\"]\n",
        "\n",
        "transactions.isna().sum()\n",
        "transactions.duplicated().sum()\n",
        "\n",
        "#On teste l'unicité de la clé primaire de la table\n",
        "transactions[\"date\"].nunique() == transactions.shape[0]\n",
        "\n"
      ]
    },
    {
      "cell_type": "code",
      "execution_count": 217,
      "metadata": {
        "id": "Fe5cSt3oRBBh"
      },
      "outputs": [],
      "source": [
        "#On regarde les id_prod de la table products non présents dans transactions\n",
        "#[x for x in products['id_prod'].unique() if not x in transactions['id_prod'].unique()]"
      ]
    },
    {
      "cell_type": "code",
      "execution_count": 218,
      "metadata": {
        "id": "MjQLzOyRRBBh"
      },
      "outputs": [],
      "source": [
        "#On regarde les id_prod de la table transactions non présents dans products\n",
        "#[x for x in transactions['id_prod'].unique() if not x in products['id_prod'].unique()]"
      ]
    },
    {
      "cell_type": "code",
      "execution_count": 219,
      "metadata": {
        "id": "dBhHBl8xRBBi"
      },
      "outputs": [],
      "source": [
        "#On regarde les client_id de la table transactions non présents dans customers\n",
        "#[x for x in transactions['client_id'].unique() if not x in customers['client_id'].unique()]"
      ]
    },
    {
      "cell_type": "code",
      "execution_count": 220,
      "metadata": {
        "colab": {
          "base_uri": "https://localhost:8080/",
          "height": 441
        },
        "id": "xYHwmHRsRBBi",
        "outputId": "22dbf30d-b7cc-470b-b956-05e432af24ec"
      },
      "outputs": [
        {
          "output_type": "stream",
          "name": "stdout",
          "text": [
            "11.732794627383296\n"
          ]
        },
        {
          "output_type": "execute_result",
          "data": {
            "text/plain": [
              "       id_prod                        date session_id client_id\n",
              "2633    0_2245  2022-09-23 07:22:38.636773   s_272266    c_4746\n",
              "10106   0_2245  2022-07-23 09:24:14.133889   s_242482    c_6713\n",
              "11727   0_2245  2022-12-03 03:26:35.696673   s_306338    c_5108\n",
              "15675   0_2245  2021-08-16 11:33:25.481411    s_76493    c_1391\n",
              "16377   0_2245  2022-07-16 05:53:01.627491   s_239078    c_7954\n",
              "...        ...                         ...        ...       ...\n",
              "669730  0_2245  2021-08-25 09:06:03.504061    s_80395     c_131\n",
              "670682  0_2245  2022-03-06 19:59:19.462288   s_175311    c_4167\n",
              "671286  0_2245  2022-05-16 11:35:20.319501   s_209381    c_4453\n",
              "675679  0_2245  2022-02-11 09:05:43.952857   s_163405    c_1098\n",
              "677996  0_2245  2021-12-14 22:34:54.589921   s_134446    c_4854\n",
              "\n",
              "[221 rows x 4 columns]"
            ],
            "text/html": [
              "\n",
              "  <div id=\"df-3b3a8b9a-15af-433e-aeef-7662a9f09b2b\">\n",
              "    <div class=\"colab-df-container\">\n",
              "      <div>\n",
              "<style scoped>\n",
              "    .dataframe tbody tr th:only-of-type {\n",
              "        vertical-align: middle;\n",
              "    }\n",
              "\n",
              "    .dataframe tbody tr th {\n",
              "        vertical-align: top;\n",
              "    }\n",
              "\n",
              "    .dataframe thead th {\n",
              "        text-align: right;\n",
              "    }\n",
              "</style>\n",
              "<table border=\"1\" class=\"dataframe\">\n",
              "  <thead>\n",
              "    <tr style=\"text-align: right;\">\n",
              "      <th></th>\n",
              "      <th>id_prod</th>\n",
              "      <th>date</th>\n",
              "      <th>session_id</th>\n",
              "      <th>client_id</th>\n",
              "    </tr>\n",
              "  </thead>\n",
              "  <tbody>\n",
              "    <tr>\n",
              "      <th>2633</th>\n",
              "      <td>0_2245</td>\n",
              "      <td>2022-09-23 07:22:38.636773</td>\n",
              "      <td>s_272266</td>\n",
              "      <td>c_4746</td>\n",
              "    </tr>\n",
              "    <tr>\n",
              "      <th>10106</th>\n",
              "      <td>0_2245</td>\n",
              "      <td>2022-07-23 09:24:14.133889</td>\n",
              "      <td>s_242482</td>\n",
              "      <td>c_6713</td>\n",
              "    </tr>\n",
              "    <tr>\n",
              "      <th>11727</th>\n",
              "      <td>0_2245</td>\n",
              "      <td>2022-12-03 03:26:35.696673</td>\n",
              "      <td>s_306338</td>\n",
              "      <td>c_5108</td>\n",
              "    </tr>\n",
              "    <tr>\n",
              "      <th>15675</th>\n",
              "      <td>0_2245</td>\n",
              "      <td>2021-08-16 11:33:25.481411</td>\n",
              "      <td>s_76493</td>\n",
              "      <td>c_1391</td>\n",
              "    </tr>\n",
              "    <tr>\n",
              "      <th>16377</th>\n",
              "      <td>0_2245</td>\n",
              "      <td>2022-07-16 05:53:01.627491</td>\n",
              "      <td>s_239078</td>\n",
              "      <td>c_7954</td>\n",
              "    </tr>\n",
              "    <tr>\n",
              "      <th>...</th>\n",
              "      <td>...</td>\n",
              "      <td>...</td>\n",
              "      <td>...</td>\n",
              "      <td>...</td>\n",
              "    </tr>\n",
              "    <tr>\n",
              "      <th>669730</th>\n",
              "      <td>0_2245</td>\n",
              "      <td>2021-08-25 09:06:03.504061</td>\n",
              "      <td>s_80395</td>\n",
              "      <td>c_131</td>\n",
              "    </tr>\n",
              "    <tr>\n",
              "      <th>670682</th>\n",
              "      <td>0_2245</td>\n",
              "      <td>2022-03-06 19:59:19.462288</td>\n",
              "      <td>s_175311</td>\n",
              "      <td>c_4167</td>\n",
              "    </tr>\n",
              "    <tr>\n",
              "      <th>671286</th>\n",
              "      <td>0_2245</td>\n",
              "      <td>2022-05-16 11:35:20.319501</td>\n",
              "      <td>s_209381</td>\n",
              "      <td>c_4453</td>\n",
              "    </tr>\n",
              "    <tr>\n",
              "      <th>675679</th>\n",
              "      <td>0_2245</td>\n",
              "      <td>2022-02-11 09:05:43.952857</td>\n",
              "      <td>s_163405</td>\n",
              "      <td>c_1098</td>\n",
              "    </tr>\n",
              "    <tr>\n",
              "      <th>677996</th>\n",
              "      <td>0_2245</td>\n",
              "      <td>2021-12-14 22:34:54.589921</td>\n",
              "      <td>s_134446</td>\n",
              "      <td>c_4854</td>\n",
              "    </tr>\n",
              "  </tbody>\n",
              "</table>\n",
              "<p>221 rows × 4 columns</p>\n",
              "</div>\n",
              "      <button class=\"colab-df-convert\" onclick=\"convertToInteractive('df-3b3a8b9a-15af-433e-aeef-7662a9f09b2b')\"\n",
              "              title=\"Convert this dataframe to an interactive table.\"\n",
              "              style=\"display:none;\">\n",
              "        \n",
              "  <svg xmlns=\"http://www.w3.org/2000/svg\" height=\"24px\"viewBox=\"0 0 24 24\"\n",
              "       width=\"24px\">\n",
              "    <path d=\"M0 0h24v24H0V0z\" fill=\"none\"/>\n",
              "    <path d=\"M18.56 5.44l.94 2.06.94-2.06 2.06-.94-2.06-.94-.94-2.06-.94 2.06-2.06.94zm-11 1L8.5 8.5l.94-2.06 2.06-.94-2.06-.94L8.5 2.5l-.94 2.06-2.06.94zm10 10l.94 2.06.94-2.06 2.06-.94-2.06-.94-.94-2.06-.94 2.06-2.06.94z\"/><path d=\"M17.41 7.96l-1.37-1.37c-.4-.4-.92-.59-1.43-.59-.52 0-1.04.2-1.43.59L10.3 9.45l-7.72 7.72c-.78.78-.78 2.05 0 2.83L4 21.41c.39.39.9.59 1.41.59.51 0 1.02-.2 1.41-.59l7.78-7.78 2.81-2.81c.8-.78.8-2.07 0-2.86zM5.41 20L4 18.59l7.72-7.72 1.47 1.35L5.41 20z\"/>\n",
              "  </svg>\n",
              "      </button>\n",
              "      \n",
              "  <style>\n",
              "    .colab-df-container {\n",
              "      display:flex;\n",
              "      flex-wrap:wrap;\n",
              "      gap: 12px;\n",
              "    }\n",
              "\n",
              "    .colab-df-convert {\n",
              "      background-color: #E8F0FE;\n",
              "      border: none;\n",
              "      border-radius: 50%;\n",
              "      cursor: pointer;\n",
              "      display: none;\n",
              "      fill: #1967D2;\n",
              "      height: 32px;\n",
              "      padding: 0 0 0 0;\n",
              "      width: 32px;\n",
              "    }\n",
              "\n",
              "    .colab-df-convert:hover {\n",
              "      background-color: #E2EBFA;\n",
              "      box-shadow: 0px 1px 2px rgba(60, 64, 67, 0.3), 0px 1px 3px 1px rgba(60, 64, 67, 0.15);\n",
              "      fill: #174EA6;\n",
              "    }\n",
              "\n",
              "    [theme=dark] .colab-df-convert {\n",
              "      background-color: #3B4455;\n",
              "      fill: #D2E3FC;\n",
              "    }\n",
              "\n",
              "    [theme=dark] .colab-df-convert:hover {\n",
              "      background-color: #434B5C;\n",
              "      box-shadow: 0px 1px 3px 1px rgba(0, 0, 0, 0.15);\n",
              "      filter: drop-shadow(0px 1px 2px rgba(0, 0, 0, 0.3));\n",
              "      fill: #FFFFFF;\n",
              "    }\n",
              "  </style>\n",
              "\n",
              "      <script>\n",
              "        const buttonEl =\n",
              "          document.querySelector('#df-3b3a8b9a-15af-433e-aeef-7662a9f09b2b button.colab-df-convert');\n",
              "        buttonEl.style.display =\n",
              "          google.colab.kernel.accessAllowed ? 'block' : 'none';\n",
              "\n",
              "        async function convertToInteractive(key) {\n",
              "          const element = document.querySelector('#df-3b3a8b9a-15af-433e-aeef-7662a9f09b2b');\n",
              "          const dataTable =\n",
              "            await google.colab.kernel.invokeFunction('convertToInteractive',\n",
              "                                                     [key], {});\n",
              "          if (!dataTable) return;\n",
              "\n",
              "          const docLinkHtml = 'Like what you see? Visit the ' +\n",
              "            '<a target=\"_blank\" href=https://colab.research.google.com/notebooks/data_table.ipynb>data table notebook</a>'\n",
              "            + ' to learn more about interactive tables.';\n",
              "          element.innerHTML = '';\n",
              "          dataTable['output_type'] = 'display_data';\n",
              "          await google.colab.output.renderOutput(dataTable, element);\n",
              "          const docLink = document.createElement('div');\n",
              "          docLink.innerHTML = docLinkHtml;\n",
              "          element.appendChild(docLink);\n",
              "        }\n",
              "      </script>\n",
              "    </div>\n",
              "  </div>\n",
              "  "
            ]
          },
          "metadata": {},
          "execution_count": 220
        }
      ],
      "source": [
        "#on calcule le prix moyen des livres de la catégorie 0 car le livre manquant a un id_prod commençant par 0 pour remplir les infos manquantes (prix et catégorie) après la jointure dans les 221 transactions concernées par ce livre.\n",
        "\n",
        "prix_moyen_0 = products[products[\"categ\"] == 0][\"price\"].mean()\n",
        "print(prix_moyen_0)\n",
        "transactions.loc[transactions[\"id_prod\"] == \"0_2245\"]"
      ]
    },
    {
      "cell_type": "code",
      "execution_count": 221,
      "metadata": {
        "colab": {
          "base_uri": "https://localhost:8080/",
          "height": 238
        },
        "id": "hH0Nm23PRBBj",
        "outputId": "1684e3f7-e67e-469c-91e4-4afe3e80f77b"
      },
      "outputs": [
        {
          "output_type": "execute_result",
          "data": {
            "text/plain": [
              "                           id_prod session_id client_id sex  birth  price  \\\n",
              "date                                                                        \n",
              "2022-05-20 13:21:29.043970  0_1518   s_211425     c_103   f   1986   4.18   \n",
              "2022-02-02 07:55:19.149409   1_251   s_158752    c_8534   m   1988  15.99   \n",
              "2022-06-18 15:44:33.155329  0_1277   s_225667    c_6714   f   1968   7.99   \n",
              "2021-06-24 04:19:29.835891   2_209    s_52962    c_6941   m   2000  69.99   \n",
              "2023-01-11 08:22:08.194479  0_1509   s_325227    c_4232   m   1980   4.99   \n",
              "\n",
              "                            categ  \n",
              "date                               \n",
              "2022-05-20 13:21:29.043970    0.0  \n",
              "2022-02-02 07:55:19.149409    1.0  \n",
              "2022-06-18 15:44:33.155329    0.0  \n",
              "2021-06-24 04:19:29.835891    2.0  \n",
              "2023-01-11 08:22:08.194479    0.0  "
            ],
            "text/html": [
              "\n",
              "  <div id=\"df-5e8c20c8-c280-40c0-a4b2-dac85ce71a91\">\n",
              "    <div class=\"colab-df-container\">\n",
              "      <div>\n",
              "<style scoped>\n",
              "    .dataframe tbody tr th:only-of-type {\n",
              "        vertical-align: middle;\n",
              "    }\n",
              "\n",
              "    .dataframe tbody tr th {\n",
              "        vertical-align: top;\n",
              "    }\n",
              "\n",
              "    .dataframe thead th {\n",
              "        text-align: right;\n",
              "    }\n",
              "</style>\n",
              "<table border=\"1\" class=\"dataframe\">\n",
              "  <thead>\n",
              "    <tr style=\"text-align: right;\">\n",
              "      <th></th>\n",
              "      <th>id_prod</th>\n",
              "      <th>session_id</th>\n",
              "      <th>client_id</th>\n",
              "      <th>sex</th>\n",
              "      <th>birth</th>\n",
              "      <th>price</th>\n",
              "      <th>categ</th>\n",
              "    </tr>\n",
              "    <tr>\n",
              "      <th>date</th>\n",
              "      <th></th>\n",
              "      <th></th>\n",
              "      <th></th>\n",
              "      <th></th>\n",
              "      <th></th>\n",
              "      <th></th>\n",
              "      <th></th>\n",
              "    </tr>\n",
              "  </thead>\n",
              "  <tbody>\n",
              "    <tr>\n",
              "      <th>2022-05-20 13:21:29.043970</th>\n",
              "      <td>0_1518</td>\n",
              "      <td>s_211425</td>\n",
              "      <td>c_103</td>\n",
              "      <td>f</td>\n",
              "      <td>1986</td>\n",
              "      <td>4.18</td>\n",
              "      <td>0.0</td>\n",
              "    </tr>\n",
              "    <tr>\n",
              "      <th>2022-02-02 07:55:19.149409</th>\n",
              "      <td>1_251</td>\n",
              "      <td>s_158752</td>\n",
              "      <td>c_8534</td>\n",
              "      <td>m</td>\n",
              "      <td>1988</td>\n",
              "      <td>15.99</td>\n",
              "      <td>1.0</td>\n",
              "    </tr>\n",
              "    <tr>\n",
              "      <th>2022-06-18 15:44:33.155329</th>\n",
              "      <td>0_1277</td>\n",
              "      <td>s_225667</td>\n",
              "      <td>c_6714</td>\n",
              "      <td>f</td>\n",
              "      <td>1968</td>\n",
              "      <td>7.99</td>\n",
              "      <td>0.0</td>\n",
              "    </tr>\n",
              "    <tr>\n",
              "      <th>2021-06-24 04:19:29.835891</th>\n",
              "      <td>2_209</td>\n",
              "      <td>s_52962</td>\n",
              "      <td>c_6941</td>\n",
              "      <td>m</td>\n",
              "      <td>2000</td>\n",
              "      <td>69.99</td>\n",
              "      <td>2.0</td>\n",
              "    </tr>\n",
              "    <tr>\n",
              "      <th>2023-01-11 08:22:08.194479</th>\n",
              "      <td>0_1509</td>\n",
              "      <td>s_325227</td>\n",
              "      <td>c_4232</td>\n",
              "      <td>m</td>\n",
              "      <td>1980</td>\n",
              "      <td>4.99</td>\n",
              "      <td>0.0</td>\n",
              "    </tr>\n",
              "  </tbody>\n",
              "</table>\n",
              "</div>\n",
              "      <button class=\"colab-df-convert\" onclick=\"convertToInteractive('df-5e8c20c8-c280-40c0-a4b2-dac85ce71a91')\"\n",
              "              title=\"Convert this dataframe to an interactive table.\"\n",
              "              style=\"display:none;\">\n",
              "        \n",
              "  <svg xmlns=\"http://www.w3.org/2000/svg\" height=\"24px\"viewBox=\"0 0 24 24\"\n",
              "       width=\"24px\">\n",
              "    <path d=\"M0 0h24v24H0V0z\" fill=\"none\"/>\n",
              "    <path d=\"M18.56 5.44l.94 2.06.94-2.06 2.06-.94-2.06-.94-.94-2.06-.94 2.06-2.06.94zm-11 1L8.5 8.5l.94-2.06 2.06-.94-2.06-.94L8.5 2.5l-.94 2.06-2.06.94zm10 10l.94 2.06.94-2.06 2.06-.94-2.06-.94-.94-2.06-.94 2.06-2.06.94z\"/><path d=\"M17.41 7.96l-1.37-1.37c-.4-.4-.92-.59-1.43-.59-.52 0-1.04.2-1.43.59L10.3 9.45l-7.72 7.72c-.78.78-.78 2.05 0 2.83L4 21.41c.39.39.9.59 1.41.59.51 0 1.02-.2 1.41-.59l7.78-7.78 2.81-2.81c.8-.78.8-2.07 0-2.86zM5.41 20L4 18.59l7.72-7.72 1.47 1.35L5.41 20z\"/>\n",
              "  </svg>\n",
              "      </button>\n",
              "      \n",
              "  <style>\n",
              "    .colab-df-container {\n",
              "      display:flex;\n",
              "      flex-wrap:wrap;\n",
              "      gap: 12px;\n",
              "    }\n",
              "\n",
              "    .colab-df-convert {\n",
              "      background-color: #E8F0FE;\n",
              "      border: none;\n",
              "      border-radius: 50%;\n",
              "      cursor: pointer;\n",
              "      display: none;\n",
              "      fill: #1967D2;\n",
              "      height: 32px;\n",
              "      padding: 0 0 0 0;\n",
              "      width: 32px;\n",
              "    }\n",
              "\n",
              "    .colab-df-convert:hover {\n",
              "      background-color: #E2EBFA;\n",
              "      box-shadow: 0px 1px 2px rgba(60, 64, 67, 0.3), 0px 1px 3px 1px rgba(60, 64, 67, 0.15);\n",
              "      fill: #174EA6;\n",
              "    }\n",
              "\n",
              "    [theme=dark] .colab-df-convert {\n",
              "      background-color: #3B4455;\n",
              "      fill: #D2E3FC;\n",
              "    }\n",
              "\n",
              "    [theme=dark] .colab-df-convert:hover {\n",
              "      background-color: #434B5C;\n",
              "      box-shadow: 0px 1px 3px 1px rgba(0, 0, 0, 0.15);\n",
              "      filter: drop-shadow(0px 1px 2px rgba(0, 0, 0, 0.3));\n",
              "      fill: #FFFFFF;\n",
              "    }\n",
              "  </style>\n",
              "\n",
              "      <script>\n",
              "        const buttonEl =\n",
              "          document.querySelector('#df-5e8c20c8-c280-40c0-a4b2-dac85ce71a91 button.colab-df-convert');\n",
              "        buttonEl.style.display =\n",
              "          google.colab.kernel.accessAllowed ? 'block' : 'none';\n",
              "\n",
              "        async function convertToInteractive(key) {\n",
              "          const element = document.querySelector('#df-5e8c20c8-c280-40c0-a4b2-dac85ce71a91');\n",
              "          const dataTable =\n",
              "            await google.colab.kernel.invokeFunction('convertToInteractive',\n",
              "                                                     [key], {});\n",
              "          if (!dataTable) return;\n",
              "\n",
              "          const docLinkHtml = 'Like what you see? Visit the ' +\n",
              "            '<a target=\"_blank\" href=https://colab.research.google.com/notebooks/data_table.ipynb>data table notebook</a>'\n",
              "            + ' to learn more about interactive tables.';\n",
              "          element.innerHTML = '';\n",
              "          dataTable['output_type'] = 'display_data';\n",
              "          await google.colab.output.renderOutput(dataTable, element);\n",
              "          const docLink = document.createElement('div');\n",
              "          docLink.innerHTML = docLinkHtml;\n",
              "          element.appendChild(docLink);\n",
              "        }\n",
              "      </script>\n",
              "    </div>\n",
              "  </div>\n",
              "  "
            ]
          },
          "metadata": {},
          "execution_count": 221
        }
      ],
      "source": [
        "#On fait notre jointure en prennant comme point de départ la table \"transactions\" à laquelle on vient rattacher les 2 autres tables par des jointures left successives.\n",
        "#On convertit également la colonne date au format datetime pour l'utiliser comme index.\n",
        "joint1 = pd.merge(transactions, customers, on=\"client_id\", how=\"left\",)\n",
        "full_table = pd.merge(joint1, products, on=\"id_prod\", how=\"left\")\n",
        "full_table['date'] = pd.to_datetime(full_table['date'])\n",
        "full_table = full_table.set_index('date')\n",
        "full_table.head()"
      ]
    },
    {
      "cell_type": "code",
      "execution_count": 222,
      "metadata": {
        "colab": {
          "base_uri": "https://localhost:8080/"
        },
        "id": "NmwntEkkRBBj",
        "outputId": "0998a5d6-302a-4713-8d58-08b687927d1f"
      },
      "outputs": [
        {
          "output_type": "execute_result",
          "data": {
            "text/plain": [
              "id_prod       0\n",
              "session_id    0\n",
              "client_id     0\n",
              "sex           0\n",
              "birth         0\n",
              "price         0\n",
              "categ         0\n",
              "dtype: int64"
            ]
          },
          "metadata": {},
          "execution_count": 222
        }
      ],
      "source": [
        "#On remplace les valeurs NaN de la table full_table concernant le prix et la catégorie manquante du 0_2245 par la moyenne des prix de la catégorie 0 et 0 pour la catégorie.\n",
        "full_table[\"categ\"].fillna(value=0, inplace=True)\n",
        "full_table[\"price\"].fillna(value=prix_moyen_0, inplace=True)\n",
        "\n",
        "full_table.isna().sum()"
      ]
    },
    {
      "cell_type": "markdown",
      "metadata": {
        "id": "KlarmI2dRBBk"
      },
      "source": [
        "## On s'intéresse alors à l'évolution du CA:"
      ]
    },
    {
      "cell_type": "code",
      "execution_count": 223,
      "metadata": {
        "colab": {
          "base_uri": "https://localhost:8080/",
          "height": 856
        },
        "id": "TDozYh5MRBBk",
        "outputId": "efee566d-9bc8-45ce-a330-026f9286edbe"
      },
      "outputs": [
        {
          "output_type": "execute_result",
          "data": {
            "text/plain": [
              "<matplotlib.axes._subplots.AxesSubplot at 0x7f5f0b125f90>"
            ]
          },
          "metadata": {},
          "execution_count": 223
        },
        {
          "output_type": "display_data",
          "data": {
            "text/plain": [
              "<Figure size 432x288 with 1 Axes>"
            ],
            "image/png": "[encoded data removed]"
          },
          "metadata": {
            "needs_background": "light"
          }
        },
        {
          "output_type": "display_data",
          "data": {
            "text/plain": [
              "<Figure size 432x288 with 1 Axes>"
            ],
            "image/png": "[encoded data removed]"
          },
          "metadata": {
            "needs_background": "light"
          }
        },
        {
          "output_type": "display_data",
          "data": {
            "text/plain": [
              "<Figure size 432x288 with 1 Axes>"
            ],
            "image/png": "[encoded data removed]"
          },
          "metadata": {
            "needs_background": "light"
          }
        }
      ],
      "source": [
        "#On regarde les ventes par jour et par catégorie:\n",
        "\n",
        "categ0_day = full_table[full_table[\"categ\"] == 0].resample('D')[\"price\"].sum().to_frame()\n",
        "categ1_day = full_table[full_table[\"categ\"] == 1].resample('D')[\"price\"].sum().to_frame()\n",
        "categ2_day = full_table[full_table[\"categ\"] == 2].resample('D')[\"price\"].sum().to_frame()\n",
        "\n",
        "categ0_day.plot()\n",
        "\n",
        "categ1_day.plot()\n",
        "\n",
        "categ2_day.plot()\n"
      ]
    },
    {
      "cell_type": "code",
      "execution_count": 224,
      "metadata": {
        "colab": {
          "base_uri": "https://localhost:8080/",
          "height": 555
        },
        "id": "c4CDaMIORBBl",
        "outputId": "7e2db01b-67a1-45cc-8cf1-e2f327026cc1"
      },
      "outputs": [
        {
          "output_type": "stream",
          "name": "stderr",
          "text": [
            "/usr/local/lib/python3.7/dist-packages/ipykernel_launcher.py:4: FutureWarning: Indexing a DataFrame with a datetimelike index using a single string to slice the rows, like `frame[string]`, is deprecated and will be removed in a future version. Use `frame.loc[string]` instead.\n",
            "  after removing the cwd from sys.path.\n"
          ]
        },
        {
          "output_type": "execute_result",
          "data": {
            "text/plain": [
              "[<matplotlib.lines.Line2D at 0x7f5f07dff950>]"
            ]
          },
          "metadata": {},
          "execution_count": 224
        },
        {
          "output_type": "display_data",
          "data": {
            "text/plain": [
              "<Figure size 864x576 with 1 Axes>"
            ],
            "image/png": "[encoded data removed]"
          },
          "metadata": {
            "needs_background": "light"
          }
        }
      ],
      "source": [
        "#On voit qu'au mois d'octobre il y a un problème avec les ventes de la catégorie 1:\n",
        "\n",
        "#On regarde les ventes d'octobre pour la catégorie 1:\n",
        "octobre = full_table[\"2021-10\"]\n",
        "\n",
        "categ1_oct = octobre[octobre[\"categ\"] == 1].resample('H', label='right')[\"price\"].sum()\n",
        "plt.figure(figsize=(12,8))\n",
        "plt.plot(categ1_oct)\n",
        "\n",
        "#On voit que du 2 au 28 octobre, nous n'avons aucune données pour les ventes de la catégorie 1.\n",
        "#Nous gardons quand même ces données mais en étant conscient que ce bug d'entrée des ventes aura un impact sur les analyses à venir."
      ]
    },
    {
      "cell_type": "markdown",
      "metadata": {
        "id": "xtgitl4WRBBl"
      },
      "source": [
        "## Decomposition en moyennes mobiles pour déterminer la tendance"
      ]
    },
    {
      "cell_type": "code",
      "execution_count": 225,
      "metadata": {
        "colab": {
          "base_uri": "https://localhost:8080/",
          "height": 898
        },
        "id": "4UvxbZk4RBBm",
        "outputId": "ada5ed80-cb9a-439b-b038-480ba7266664"
      },
      "outputs": [
        {
          "output_type": "execute_result",
          "data": {
            "text/plain": [
              "                    price\n",
              "date                     \n",
              "2021-03-31            NaN\n",
              "2021-04-30  483952.365544\n",
              "2021-05-31  484493.860348\n",
              "2021-06-30  486696.784366\n",
              "2021-07-31  483147.801964\n",
              "2021-08-31  490884.729955\n",
              "2021-09-30  436884.242750\n",
              "2021-10-31  448182.467015\n",
              "2021-11-30  454388.445690\n",
              "2021-12-31  522560.707161\n",
              "2022-01-31  529032.541425\n",
              "2022-02-28  525561.268485\n",
              "2022-03-31  514816.450202\n",
              "2022-04-30  508689.704860\n",
              "2022-05-31  502193.924467\n",
              "2022-06-30  508114.162604\n",
              "2022-07-31  504527.765152\n",
              "2022-08-31  503901.723681\n",
              "2022-09-30  502938.785152\n",
              "2022-10-31  499683.074613\n",
              "2022-11-30  505039.665152\n",
              "2022-12-31  508235.525690\n",
              "2023-01-31  494891.488631\n",
              "2023-02-28            NaN"
            ],
            "text/html": [
              "\n",
              "  <div id=\"df-9d7ccb0a-359c-4f9f-b8db-eea9864043ed\">\n",
              "    <div class=\"colab-df-container\">\n",
              "      <div>\n",
              "<style scoped>\n",
              "    .dataframe tbody tr th:only-of-type {\n",
              "        vertical-align: middle;\n",
              "    }\n",
              "\n",
              "    .dataframe tbody tr th {\n",
              "        vertical-align: top;\n",
              "    }\n",
              "\n",
              "    .dataframe thead th {\n",
              "        text-align: right;\n",
              "    }\n",
              "</style>\n",
              "<table border=\"1\" class=\"dataframe\">\n",
              "  <thead>\n",
              "    <tr style=\"text-align: right;\">\n",
              "      <th></th>\n",
              "      <th>price</th>\n",
              "    </tr>\n",
              "    <tr>\n",
              "      <th>date</th>\n",
              "      <th></th>\n",
              "    </tr>\n",
              "  </thead>\n",
              "  <tbody>\n",
              "    <tr>\n",
              "      <th>2021-03-31</th>\n",
              "      <td>NaN</td>\n",
              "    </tr>\n",
              "    <tr>\n",
              "      <th>2021-04-30</th>\n",
              "      <td>483952.365544</td>\n",
              "    </tr>\n",
              "    <tr>\n",
              "      <th>2021-05-31</th>\n",
              "      <td>484493.860348</td>\n",
              "    </tr>\n",
              "    <tr>\n",
              "      <th>2021-06-30</th>\n",
              "      <td>486696.784366</td>\n",
              "    </tr>\n",
              "    <tr>\n",
              "      <th>2021-07-31</th>\n",
              "      <td>483147.801964</td>\n",
              "    </tr>\n",
              "    <tr>\n",
              "      <th>2021-08-31</th>\n",
              "      <td>490884.729955</td>\n",
              "    </tr>\n",
              "    <tr>\n",
              "      <th>2021-09-30</th>\n",
              "      <td>436884.242750</td>\n",
              "    </tr>\n",
              "    <tr>\n",
              "      <th>2021-10-31</th>\n",
              "      <td>448182.467015</td>\n",
              "    </tr>\n",
              "    <tr>\n",
              "      <th>2021-11-30</th>\n",
              "      <td>454388.445690</td>\n",
              "    </tr>\n",
              "    <tr>\n",
              "      <th>2021-12-31</th>\n",
              "      <td>522560.707161</td>\n",
              "    </tr>\n",
              "    <tr>\n",
              "      <th>2022-01-31</th>\n",
              "      <td>529032.541425</td>\n",
              "    </tr>\n",
              "    <tr>\n",
              "      <th>2022-02-28</th>\n",
              "      <td>525561.268485</td>\n",
              "    </tr>\n",
              "    <tr>\n",
              "      <th>2022-03-31</th>\n",
              "      <td>514816.450202</td>\n",
              "    </tr>\n",
              "    <tr>\n",
              "      <th>2022-04-30</th>\n",
              "      <td>508689.704860</td>\n",
              "    </tr>\n",
              "    <tr>\n",
              "      <th>2022-05-31</th>\n",
              "      <td>502193.924467</td>\n",
              "    </tr>\n",
              "    <tr>\n",
              "      <th>2022-06-30</th>\n",
              "      <td>508114.162604</td>\n",
              "    </tr>\n",
              "    <tr>\n",
              "      <th>2022-07-31</th>\n",
              "      <td>504527.765152</td>\n",
              "    </tr>\n",
              "    <tr>\n",
              "      <th>2022-08-31</th>\n",
              "      <td>503901.723681</td>\n",
              "    </tr>\n",
              "    <tr>\n",
              "      <th>2022-09-30</th>\n",
              "      <td>502938.785152</td>\n",
              "    </tr>\n",
              "    <tr>\n",
              "      <th>2022-10-31</th>\n",
              "      <td>499683.074613</td>\n",
              "    </tr>\n",
              "    <tr>\n",
              "      <th>2022-11-30</th>\n",
              "      <td>505039.665152</td>\n",
              "    </tr>\n",
              "    <tr>\n",
              "      <th>2022-12-31</th>\n",
              "      <td>508235.525690</td>\n",
              "    </tr>\n",
              "    <tr>\n",
              "      <th>2023-01-31</th>\n",
              "      <td>494891.488631</td>\n",
              "    </tr>\n",
              "    <tr>\n",
              "      <th>2023-02-28</th>\n",
              "      <td>NaN</td>\n",
              "    </tr>\n",
              "  </tbody>\n",
              "</table>\n",
              "</div>\n",
              "      <button class=\"colab-df-convert\" onclick=\"convertToInteractive('df-9d7ccb0a-359c-4f9f-b8db-eea9864043ed')\"\n",
              "              title=\"Convert this dataframe to an interactive table.\"\n",
              "              style=\"display:none;\">\n",
              "        \n",
              "  <svg xmlns=\"http://www.w3.org/2000/svg\" height=\"24px\"viewBox=\"0 0 24 24\"\n",
              "       width=\"24px\">\n",
              "    <path d=\"M0 0h24v24H0V0z\" fill=\"none\"/>\n",
              "    <path d=\"M18.56 5.44l.94 2.06.94-2.06 2.06-.94-2.06-.94-.94-2.06-.94 2.06-2.06.94zm-11 1L8.5 8.5l.94-2.06 2.06-.94-2.06-.94L8.5 2.5l-.94 2.06-2.06.94zm10 10l.94 2.06.94-2.06 2.06-.94-2.06-.94-.94-2.06-.94 2.06-2.06.94z\"/><path d=\"M17.41 7.96l-1.37-1.37c-.4-.4-.92-.59-1.43-.59-.52 0-1.04.2-1.43.59L10.3 9.45l-7.72 7.72c-.78.78-.78 2.05 0 2.83L4 21.41c.39.39.9.59 1.41.59.51 0 1.02-.2 1.41-.59l7.78-7.78 2.81-2.81c.8-.78.8-2.07 0-2.86zM5.41 20L4 18.59l7.72-7.72 1.47 1.35L5.41 20z\"/>\n",
              "  </svg>\n",
              "      </button>\n",
              "      \n",
              "  <style>\n",
              "    .colab-df-container {\n",
              "      display:flex;\n",
              "      flex-wrap:wrap;\n",
              "      gap: 12px;\n",
              "    }\n",
              "\n",
              "    .colab-df-convert {\n",
              "      background-color: #E8F0FE;\n",
              "      border: none;\n",
              "      border-radius: 50%;\n",
              "      cursor: pointer;\n",
              "      display: none;\n",
              "      fill: #1967D2;\n",
              "      height: 32px;\n",
              "      padding: 0 0 0 0;\n",
              "      width: 32px;\n",
              "    }\n",
              "\n",
              "    .colab-df-convert:hover {\n",
              "      background-color: #E2EBFA;\n",
              "      box-shadow: 0px 1px 2px rgba(60, 64, 67, 0.3), 0px 1px 3px 1px rgba(60, 64, 67, 0.15);\n",
              "      fill: #174EA6;\n",
              "    }\n",
              "\n",
              "    [theme=dark] .colab-df-convert {\n",
              "      background-color: #3B4455;\n",
              "      fill: #D2E3FC;\n",
              "    }\n",
              "\n",
              "    [theme=dark] .colab-df-convert:hover {\n",
              "      background-color: #434B5C;\n",
              "      box-shadow: 0px 1px 3px 1px rgba(0, 0, 0, 0.15);\n",
              "      filter: drop-shadow(0px 1px 2px rgba(0, 0, 0, 0.3));\n",
              "      fill: #FFFFFF;\n",
              "    }\n",
              "  </style>\n",
              "\n",
              "      <script>\n",
              "        const buttonEl =\n",
              "          document.querySelector('#df-9d7ccb0a-359c-4f9f-b8db-eea9864043ed button.colab-df-convert');\n",
              "        buttonEl.style.display =\n",
              "          google.colab.kernel.accessAllowed ? 'block' : 'none';\n",
              "\n",
              "        async function convertToInteractive(key) {\n",
              "          const element = document.querySelector('#df-9d7ccb0a-359c-4f9f-b8db-eea9864043ed');\n",
              "          const dataTable =\n",
              "            await google.colab.kernel.invokeFunction('convertToInteractive',\n",
              "                                                     [key], {});\n",
              "          if (!dataTable) return;\n",
              "\n",
              "          const docLinkHtml = 'Like what you see? Visit the ' +\n",
              "            '<a target=\"_blank\" href=https://colab.research.google.com/notebooks/data_table.ipynb>data table notebook</a>'\n",
              "            + ' to learn more about interactive tables.';\n",
              "          element.innerHTML = '';\n",
              "          dataTable['output_type'] = 'display_data';\n",
              "          await google.colab.output.renderOutput(dataTable, element);\n",
              "          const docLink = document.createElement('div');\n",
              "          docLink.innerHTML = docLinkHtml;\n",
              "          element.appendChild(docLink);\n",
              "        }\n",
              "      </script>\n",
              "    </div>\n",
              "  </div>\n",
              "  "
            ]
          },
          "metadata": {},
          "execution_count": 225
        }
      ],
      "source": [
        "#On calcule le CA mensuel pour pouvoir calculer les moyennes mobiles (notre estimation de la tendance)\n",
        "\n",
        "CA_month = full_table.resample('M')[\"price\"].sum().to_frame()\n",
        "\n",
        "#On applique une moyenne mobile sur les CA mensuels pour obtenir une tendance\n",
        "\n",
        "trend = CA_month.rolling(window=3, center=True).mean()\n",
        "trend.set_index(CA_month.index)"
      ]
    },
    {
      "cell_type": "code",
      "execution_count": 226,
      "metadata": {
        "colab": {
          "base_uri": "https://localhost:8080/",
          "height": 72
        },
        "id": "RI51p2JHRBBm",
        "outputId": "4f43ddf1-1870-405a-aefc-13cd26d97971"
      },
      "outputs": [
        {
          "output_type": "execute_result",
          "data": {
            "text/plain": [
              "<matplotlib.legend.Legend at 0x7f5f0b31e610>"
            ]
          },
          "metadata": {},
          "execution_count": 226
        },
        {
          "output_type": "display_data",
          "data": {
            "text/plain": [
              "<Figure size 864x576 with 1 Axes>"
            ],
            "image/png": "[encoded data removed]"
          },
          "metadata": {
            "needs_background": "light"
          }
        }
      ],
      "source": [
        "plt.figure(figsize=(12,8))\n",
        "plt.plot(CA_month, label=\"Chiffre d'affaire\")\n",
        "plt.plot(trend, label=\"Courbe de tendance\", ls='--')\n",
        "plt.title(\"Chiffre d'affaires et tendance\")\n",
        "plt.xlabel(\"Mois\")\n",
        "plt.ylabel(\"Chiffre d'affaire mensuel\")\n",
        "plt.legend()"
      ]
    },
    {
      "cell_type": "markdown",
      "metadata": {
        "id": "szIS58qTRBBn"
      },
      "source": [
        "## Décomposition complète de la série:"
      ]
    },
    {
      "cell_type": "code",
      "execution_count": 227,
      "metadata": {
        "id": "i3RUq0BVRBBn"
      },
      "outputs": [],
      "source": [
        "#On obtient la série détendancée en soustrayant la tendance. Il nous reste la saisonnalité et le bruit.\n",
        "\n",
        "detrend = (CA_month - trend)\n",
        "CA_month = CA_month.rename(columns={'price':'data'})\n",
        "\n",
        "detrend['month'] = detrend.index.month\n",
        "\n",
        "#On récupère la saisonnalité en faisant la moyenne de chaque mois de la série détendancée.\n",
        "\n",
        "seasonnality = detrend.groupby('month')['price'].mean()\n",
        "season = pd.merge(detrend, seasonnality,on='month', how='left')\n",
        "season = season.rename(columns={'price_x':'detrend', 'price_y':'seasonnality'})\n",
        "\n",
        "season = season.set_index(detrend.index)\n",
        "season = season.drop(['month'], axis=1)\n",
        "trend = trend.rename(columns={'price':'trend'})"
      ]
    },
    {
      "cell_type": "code",
      "execution_count": 228,
      "metadata": {
        "id": "XN9dO_rgRBBn"
      },
      "outputs": [],
      "source": [
        "decomposition = pd.merge(CA_month, trend, on='date', how='left')\n",
        "decomposition = pd.merge(decomposition, season, on='date', how='left')"
      ]
    },
    {
      "cell_type": "code",
      "execution_count": 229,
      "metadata": {
        "id": "7DcUOhq3RBBn"
      },
      "outputs": [],
      "source": [
        "#Enfin on extrait le bruit en soustrayant la tendance et la saisonnalité à la série de départ.\n",
        "decomposition['noise'] = decomposition['data'] - (decomposition['trend'] + decomposition['seasonnality'])"
      ]
    },
    {
      "cell_type": "code",
      "execution_count": 230,
      "metadata": {
        "colab": {
          "base_uri": "https://localhost:8080/",
          "height": 834
        },
        "id": "MGa1CBegRBBo",
        "outputId": "701119a2-a122-495c-bc0e-233366675aed"
      },
      "outputs": [
        {
          "output_type": "execute_result",
          "data": {
            "text/plain": [
              "                     data          trend        detrend  seasonnality  \\\n",
              "date                                                                    \n",
              "2021-03-31  482546.205152            NaN            NaN    769.140539   \n",
              "2021-04-30  476273.559125  483952.365544   -7678.806420 -11602.656077   \n",
              "2021-05-31  493037.332357  484493.860348    8543.472009  11834.936128   \n",
              "2021-06-30  484170.689562  486696.784366   -2526.094804  -7271.003923   \n",
              "2021-07-31  482882.331179  483147.801964    -265.470786   3065.338799   \n",
              "2021-08-31  482390.385152  490884.729955   -8494.344804  -2917.468064   \n",
              "2021-09-30  507381.473536  436884.242750   70497.230786  30889.285393   \n",
              "2021-10-31  320880.869562  448182.467015 -127301.597452 -59474.787060   \n",
              "2021-11-30  516285.057946  454388.445690   61896.612256  26825.473923   \n",
              "2021-12-31  525999.409562  522560.707161    3438.702402   2746.536740   \n",
              "2022-01-31  525397.653973  529032.541425   -3634.887452   9548.151740   \n",
              "2022-02-28  535700.560741  525561.268485   10139.292256  10139.292256   \n",
              "2022-03-31  515585.590741  514816.450202     769.140539    769.140539   \n",
              "2022-04-30  493163.199125  508689.704860  -15526.505735 -11602.656077   \n",
              "2022-05-31  517320.324714  502193.924467   15126.400247  11834.936128   \n",
              "2022-06-30  496098.249562  508114.162604  -12015.913042  -7271.003923   \n",
              "2022-07-31  510923.913536  504527.765152    6396.148384   3065.338799   \n",
              "2022-08-31  506561.132357  503901.723681    2659.408676  -2917.468064   \n",
              "2022-09-30  494220.125152  502938.785152   -8718.660000  30889.285393   \n",
              "2022-10-31  508035.097946  499683.074613    8352.023333 -59474.787060   \n",
              "2022-11-30  496794.000741  505039.665152   -8245.664411  26825.473923   \n",
              "2022-12-31  510289.896768  508235.525690    2054.371077   2746.536740   \n",
              "2023-01-31  517622.679562  494891.488631   22731.190932   9548.151740   \n",
              "2023-02-28  456761.889562            NaN            NaN  10139.292256   \n",
              "\n",
              "                   noise  \n",
              "date                      \n",
              "2021-03-31           NaN  \n",
              "2021-04-30   3923.849658  \n",
              "2021-05-31  -3291.464119  \n",
              "2021-06-30   4744.909119  \n",
              "2021-07-31  -3330.809585  \n",
              "2021-08-31  -5576.876740  \n",
              "2021-09-30  39607.945393  \n",
              "2021-10-31 -67826.810393  \n",
              "2021-11-30  35071.138333  \n",
              "2021-12-31    692.165662  \n",
              "2022-01-31 -13183.039192  \n",
              "2022-02-28      0.000000  \n",
              "2022-03-31      0.000000  \n",
              "2022-04-30  -3923.849658  \n",
              "2022-05-31   3291.464119  \n",
              "2022-06-30  -4744.909119  \n",
              "2022-07-31   3330.809585  \n",
              "2022-08-31   5576.876740  \n",
              "2022-09-30 -39607.945393  \n",
              "2022-10-31  67826.810393  \n",
              "2022-11-30 -35071.138333  \n",
              "2022-12-31   -692.165662  \n",
              "2023-01-31  13183.039192  \n",
              "2023-02-28           NaN  "
            ],
            "text/html": [
              "\n",
              "  <div id=\"df-ca77e886-573a-4bee-8184-ec555f608887\">\n",
              "    <div class=\"colab-df-container\">\n",
              "      <div>\n",
              "<style scoped>\n",
              "    .dataframe tbody tr th:only-of-type {\n",
              "        vertical-align: middle;\n",
              "    }\n",
              "\n",
              "    .dataframe tbody tr th {\n",
              "        vertical-align: top;\n",
              "    }\n",
              "\n",
              "    .dataframe thead th {\n",
              "        text-align: right;\n",
              "    }\n",
              "</style>\n",
              "<table border=\"1\" class=\"dataframe\">\n",
              "  <thead>\n",
              "    <tr style=\"text-align: right;\">\n",
              "      <th></th>\n",
              "      <th>data</th>\n",
              "      <th>trend</th>\n",
              "      <th>detrend</th>\n",
              "      <th>seasonnality</th>\n",
              "      <th>noise</th>\n",
              "    </tr>\n",
              "    <tr>\n",
              "      <th>date</th>\n",
              "      <th></th>\n",
              "      <th></th>\n",
              "      <th></th>\n",
              "      <th></th>\n",
              "      <th></th>\n",
              "    </tr>\n",
              "  </thead>\n",
              "  <tbody>\n",
              "    <tr>\n",
              "      <th>2021-03-31</th>\n",
              "      <td>482546.205152</td>\n",
              "      <td>NaN</td>\n",
              "      <td>NaN</td>\n",
              "      <td>769.140539</td>\n",
              "      <td>NaN</td>\n",
              "    </tr>\n",
              "    <tr>\n",
              "      <th>2021-04-30</th>\n",
              "      <td>476273.559125</td>\n",
              "      <td>483952.365544</td>\n",
              "      <td>-7678.806420</td>\n",
              "      <td>-11602.656077</td>\n",
              "      <td>3923.849658</td>\n",
              "    </tr>\n",
              "    <tr>\n",
              "      <th>2021-05-31</th>\n",
              "      <td>493037.332357</td>\n",
              "      <td>484493.860348</td>\n",
              "      <td>8543.472009</td>\n",
              "      <td>11834.936128</td>\n",
              "      <td>-3291.464119</td>\n",
              "    </tr>\n",
              "    <tr>\n",
              "      <th>2021-06-30</th>\n",
              "      <td>484170.689562</td>\n",
              "      <td>486696.784366</td>\n",
              "      <td>-2526.094804</td>\n",
              "      <td>-7271.003923</td>\n",
              "      <td>4744.909119</td>\n",
              "    </tr>\n",
              "    <tr>\n",
              "      <th>2021-07-31</th>\n",
              "      <td>482882.331179</td>\n",
              "      <td>483147.801964</td>\n",
              "      <td>-265.470786</td>\n",
              "      <td>3065.338799</td>\n",
              "      <td>-3330.809585</td>\n",
              "    </tr>\n",
              "    <tr>\n",
              "      <th>2021-08-31</th>\n",
              "      <td>482390.385152</td>\n",
              "      <td>490884.729955</td>\n",
              "      <td>-8494.344804</td>\n",
              "      <td>-2917.468064</td>\n",
              "      <td>-5576.876740</td>\n",
              "    </tr>\n",
              "    <tr>\n",
              "      <th>2021-09-30</th>\n",
              "      <td>507381.473536</td>\n",
              "      <td>436884.242750</td>\n",
              "      <td>70497.230786</td>\n",
              "      <td>30889.285393</td>\n",
              "      <td>39607.945393</td>\n",
              "    </tr>\n",
              "    <tr>\n",
              "      <th>2021-10-31</th>\n",
              "      <td>320880.869562</td>\n",
              "      <td>448182.467015</td>\n",
              "      <td>-127301.597452</td>\n",
              "      <td>-59474.787060</td>\n",
              "      <td>-67826.810393</td>\n",
              "    </tr>\n",
              "    <tr>\n",
              "      <th>2021-11-30</th>\n",
              "      <td>516285.057946</td>\n",
              "      <td>454388.445690</td>\n",
              "      <td>61896.612256</td>\n",
              "      <td>26825.473923</td>\n",
              "      <td>35071.138333</td>\n",
              "    </tr>\n",
              "    <tr>\n",
              "      <th>2021-12-31</th>\n",
              "      <td>525999.409562</td>\n",
              "      <td>522560.707161</td>\n",
              "      <td>3438.702402</td>\n",
              "      <td>2746.536740</td>\n",
              "      <td>692.165662</td>\n",
              "    </tr>\n",
              "    <tr>\n",
              "      <th>2022-01-31</th>\n",
              "      <td>525397.653973</td>\n",
              "      <td>529032.541425</td>\n",
              "      <td>-3634.887452</td>\n",
              "      <td>9548.151740</td>\n",
              "      <td>-13183.039192</td>\n",
              "    </tr>\n",
              "    <tr>\n",
              "      <th>2022-02-28</th>\n",
              "      <td>535700.560741</td>\n",
              "      <td>525561.268485</td>\n",
              "      <td>10139.292256</td>\n",
              "      <td>10139.292256</td>\n",
              "      <td>0.000000</td>\n",
              "    </tr>\n",
              "    <tr>\n",
              "      <th>2022-03-31</th>\n",
              "      <td>515585.590741</td>\n",
              "      <td>514816.450202</td>\n",
              "      <td>769.140539</td>\n",
              "      <td>769.140539</td>\n",
              "      <td>0.000000</td>\n",
              "    </tr>\n",
              "    <tr>\n",
              "      <th>2022-04-30</th>\n",
              "      <td>493163.199125</td>\n",
              "      <td>508689.704860</td>\n",
              "      <td>-15526.505735</td>\n",
              "      <td>-11602.656077</td>\n",
              "      <td>-3923.849658</td>\n",
              "    </tr>\n",
              "    <tr>\n",
              "      <th>2022-05-31</th>\n",
              "      <td>517320.324714</td>\n",
              "      <td>502193.924467</td>\n",
              "      <td>15126.400247</td>\n",
              "      <td>11834.936128</td>\n",
              "      <td>3291.464119</td>\n",
              "    </tr>\n",
              "    <tr>\n",
              "      <th>2022-06-30</th>\n",
              "      <td>496098.249562</td>\n",
              "      <td>508114.162604</td>\n",
              "      <td>-12015.913042</td>\n",
              "      <td>-7271.003923</td>\n",
              "      <td>-4744.909119</td>\n",
              "    </tr>\n",
              "    <tr>\n",
              "      <th>2022-07-31</th>\n",
              "      <td>510923.913536</td>\n",
              "      <td>504527.765152</td>\n",
              "      <td>6396.148384</td>\n",
              "      <td>3065.338799</td>\n",
              "      <td>3330.809585</td>\n",
              "    </tr>\n",
              "    <tr>\n",
              "      <th>2022-08-31</th>\n",
              "      <td>506561.132357</td>\n",
              "      <td>503901.723681</td>\n",
              "      <td>2659.408676</td>\n",
              "      <td>-2917.468064</td>\n",
              "      <td>5576.876740</td>\n",
              "    </tr>\n",
              "    <tr>\n",
              "      <th>2022-09-30</th>\n",
              "      <td>494220.125152</td>\n",
              "      <td>502938.785152</td>\n",
              "      <td>-8718.660000</td>\n",
              "      <td>30889.285393</td>\n",
              "      <td>-39607.945393</td>\n",
              "    </tr>\n",
              "    <tr>\n",
              "      <th>2022-10-31</th>\n",
              "      <td>508035.097946</td>\n",
              "      <td>499683.074613</td>\n",
              "      <td>8352.023333</td>\n",
              "      <td>-59474.787060</td>\n",
              "      <td>67826.810393</td>\n",
              "    </tr>\n",
              "    <tr>\n",
              "      <th>2022-11-30</th>\n",
              "      <td>496794.000741</td>\n",
              "      <td>505039.665152</td>\n",
              "      <td>-8245.664411</td>\n",
              "      <td>26825.473923</td>\n",
              "      <td>-35071.138333</td>\n",
              "    </tr>\n",
              "    <tr>\n",
              "      <th>2022-12-31</th>\n",
              "      <td>510289.896768</td>\n",
              "      <td>508235.525690</td>\n",
              "      <td>2054.371077</td>\n",
              "      <td>2746.536740</td>\n",
              "      <td>-692.165662</td>\n",
              "    </tr>\n",
              "    <tr>\n",
              "      <th>2023-01-31</th>\n",
              "      <td>517622.679562</td>\n",
              "      <td>494891.488631</td>\n",
              "      <td>22731.190932</td>\n",
              "      <td>9548.151740</td>\n",
              "      <td>13183.039192</td>\n",
              "    </tr>\n",
              "    <tr>\n",
              "      <th>2023-02-28</th>\n",
              "      <td>456761.889562</td>\n",
              "      <td>NaN</td>\n",
              "      <td>NaN</td>\n",
              "      <td>10139.292256</td>\n",
              "      <td>NaN</td>\n",
              "    </tr>\n",
              "  </tbody>\n",
              "</table>\n",
              "</div>\n",
              "      <button class=\"colab-df-convert\" onclick=\"convertToInteractive('df-ca77e886-573a-4bee-8184-ec555f608887')\"\n",
              "              title=\"Convert this dataframe to an interactive table.\"\n",
              "              style=\"display:none;\">\n",
              "        \n",
              "  <svg xmlns=\"http://www.w3.org/2000/svg\" height=\"24px\"viewBox=\"0 0 24 24\"\n",
              "       width=\"24px\">\n",
              "    <path d=\"M0 0h24v24H0V0z\" fill=\"none\"/>\n",
              "    <path d=\"M18.56 5.44l.94 2.06.94-2.06 2.06-.94-2.06-.94-.94-2.06-.94 2.06-2.06.94zm-11 1L8.5 8.5l.94-2.06 2.06-.94-2.06-.94L8.5 2.5l-.94 2.06-2.06.94zm10 10l.94 2.06.94-2.06 2.06-.94-2.06-.94-.94-2.06-.94 2.06-2.06.94z\"/><path d=\"M17.41 7.96l-1.37-1.37c-.4-.4-.92-.59-1.43-.59-.52 0-1.04.2-1.43.59L10.3 9.45l-7.72 7.72c-.78.78-.78 2.05 0 2.83L4 21.41c.39.39.9.59 1.41.59.51 0 1.02-.2 1.41-.59l7.78-7.78 2.81-2.81c.8-.78.8-2.07 0-2.86zM5.41 20L4 18.59l7.72-7.72 1.47 1.35L5.41 20z\"/>\n",
              "  </svg>\n",
              "      </button>\n",
              "      \n",
              "  <style>\n",
              "    .colab-df-container {\n",
              "      display:flex;\n",
              "      flex-wrap:wrap;\n",
              "      gap: 12px;\n",
              "    }\n",
              "\n",
              "    .colab-df-convert {\n",
              "      background-color: #E8F0FE;\n",
              "      border: none;\n",
              "      border-radius: 50%;\n",
              "      cursor: pointer;\n",
              "      display: none;\n",
              "      fill: #1967D2;\n",
              "      height: 32px;\n",
              "      padding: 0 0 0 0;\n",
              "      width: 32px;\n",
              "    }\n",
              "\n",
              "    .colab-df-convert:hover {\n",
              "      background-color: #E2EBFA;\n",
              "      box-shadow: 0px 1px 2px rgba(60, 64, 67, 0.3), 0px 1px 3px 1px rgba(60, 64, 67, 0.15);\n",
              "      fill: #174EA6;\n",
              "    }\n",
              "\n",
              "    [theme=dark] .colab-df-convert {\n",
              "      background-color: #3B4455;\n",
              "      fill: #D2E3FC;\n",
              "    }\n",
              "\n",
              "    [theme=dark] .colab-df-convert:hover {\n",
              "      background-color: #434B5C;\n",
              "      box-shadow: 0px 1px 3px 1px rgba(0, 0, 0, 0.15);\n",
              "      filter: drop-shadow(0px 1px 2px rgba(0, 0, 0, 0.3));\n",
              "      fill: #FFFFFF;\n",
              "    }\n",
              "  </style>\n",
              "\n",
              "      <script>\n",
              "        const buttonEl =\n",
              "          document.querySelector('#df-ca77e886-573a-4bee-8184-ec555f608887 button.colab-df-convert');\n",
              "        buttonEl.style.display =\n",
              "          google.colab.kernel.accessAllowed ? 'block' : 'none';\n",
              "\n",
              "        async function convertToInteractive(key) {\n",
              "          const element = document.querySelector('#df-ca77e886-573a-4bee-8184-ec555f608887');\n",
              "          const dataTable =\n",
              "            await google.colab.kernel.invokeFunction('convertToInteractive',\n",
              "                                                     [key], {});\n",
              "          if (!dataTable) return;\n",
              "\n",
              "          const docLinkHtml = 'Like what you see? Visit the ' +\n",
              "            '<a target=\"_blank\" href=https://colab.research.google.com/notebooks/data_table.ipynb>data table notebook</a>'\n",
              "            + ' to learn more about interactive tables.';\n",
              "          element.innerHTML = '';\n",
              "          dataTable['output_type'] = 'display_data';\n",
              "          await google.colab.output.renderOutput(dataTable, element);\n",
              "          const docLink = document.createElement('div');\n",
              "          docLink.innerHTML = docLinkHtml;\n",
              "          element.appendChild(docLink);\n",
              "        }\n",
              "      </script>\n",
              "    </div>\n",
              "  </div>\n",
              "  "
            ]
          },
          "metadata": {},
          "execution_count": 230
        }
      ],
      "source": [
        "#On obtient ainsi le tableau reprennant toutes les composantes de la série temporelle.\n",
        "decomposition"
      ]
    },
    {
      "cell_type": "code",
      "execution_count": 231,
      "metadata": {
        "colab": {
          "base_uri": "https://localhost:8080/",
          "height": 282
        },
        "id": "3aYBD7N8RBBo",
        "outputId": "7020b658-0da5-446d-b5f7-401bd38dcfc2"
      },
      "outputs": [
        {
          "output_type": "execute_result",
          "data": {
            "text/plain": [
              "[<matplotlib.lines.Line2D at 0x7f5f082af490>]"
            ]
          },
          "metadata": {},
          "execution_count": 231
        },
        {
          "output_type": "display_data",
          "data": {
            "text/plain": [
              "<Figure size 432x288 with 1 Axes>"
            ],
            "image/png": "[encoded data removed]"
          },
          "metadata": {
            "needs_background": "light"
          }
        }
      ],
      "source": [
        "#On vérifie que la somme des composants correspond bien à la série initiale.\n",
        "plt.plot(decomposition.data)\n",
        "# plt.plot(decomposition.trend)\n",
        "plt.plot((decomposition.trend + decomposition.seasonnality + decomposition.noise))"
      ]
    },
    {
      "cell_type": "code",
      "execution_count": 232,
      "metadata": {
        "colab": {
          "base_uri": "https://localhost:8080/",
          "height": 1000
        },
        "id": "r50vw49HRBBo",
        "outputId": "733797fd-f10b-44fc-da10-44817626e168"
      },
      "outputs": [
        {
          "output_type": "stream",
          "name": "stdout",
          "text": [
            "Chiffre d'affaire total :  11,856,321.63 €\n",
            "catégorie 0 :  4,422,323.92 €\n",
            "catégorie 1 :  4,653,722.69 €\n",
            "catégorie 2 :  2,780,275.02 €\n"
          ]
        },
        {
          "output_type": "execute_result",
          "data": {
            "text/plain": [
              "<matplotlib.legend.Legend at 0x7f5f06bbd750>"
            ]
          },
          "metadata": {},
          "execution_count": 232
        },
        {
          "output_type": "display_data",
          "data": {
            "text/plain": [
              "<Figure size 864x576 with 1 Axes>"
            ],
            "image/png": "[encoded data removed]"
          },
          "metadata": {
            "needs_background": "light"
          }
        }
      ],
      "source": [
        "#On peut calculer le chiffre d'affaire\n",
        "    # - total sur les 2 ans d'activité :\n",
        "\n",
        "CA_total = full_table[\"price\"].sum()\n",
        "print(\"Chiffre d'affaire total : \", format(CA_total, \",.2f\"), \"€\")\n",
        "    \n",
        "    \n",
        "    # - par catégorie :\n",
        "CA_categ0 = full_table[full_table[\"categ\"] == 0][\"price\"].sum()\n",
        "CA_categ1 = full_table[full_table[\"categ\"] == 1][\"price\"].sum()\n",
        "CA_categ2 = full_table[full_table[\"categ\"] == 2][\"price\"].sum()\n",
        "print(\"catégorie 0 : \", format(CA_categ0, \",.2f\"), \"€\")\n",
        "print(\"catégorie 1 : \",format(CA_categ1, \",.2f\"), \"€\") \n",
        "print(\"catégorie 2 : \",format(CA_categ2, \",.2f\"), \"€\")\n",
        "\n",
        "\n",
        "colors = sns.color_palette(\"bright\")\n",
        "data = [CA_categ0, CA_categ1, CA_categ2]\n",
        "labels = [\"Catégorie 0\", \"Catégorie 1\", \"Catégorie 2\"]\n",
        "\n",
        "plt.figure(figsize=(12,8))\n",
        "plt.pie(data,\n",
        "       labels=labels,\n",
        "       labeldistance=None,\n",
        "       colors=colors,\n",
        "       autopct = '%0.0f%%',\n",
        "       startangle=-45,\n",
        "       frame=True,\n",
        "    #    textprops={'color':'Yellow', 'fontsize':10},\n",
        "       shadow=True)\n",
        "plt.title(\"Répartition du CA par catégorie\")\n",
        "plt.legend()"
      ]
    },
    {
      "cell_type": "code",
      "source": [
        "#On regarde la répartition des prix par catégorie pour mieux comprendre le résultat précédent:\n",
        "\n",
        "plt.boxplot(full_table[full_table['categ'] == 0.0]['price'], positions = [0])\n",
        "plt.boxplot(full_table[full_table['categ'] == 1.0]['price'], positions = [1])\n",
        "plt.boxplot(full_table[full_table['categ'] == 2.0]['price'], positions = [2])"
      ],
      "metadata": {
        "colab": {
          "base_uri": "https://localhost:8080/",
          "height": 404
        },
        "id": "FONMLXuzT1uD",
        "outputId": "99db8a13-3e02-48e1-fac7-30d674a36c0d"
      },
      "execution_count": 233,
      "outputs": [
        {
          "output_type": "execute_result",
          "data": {
            "text/plain": [
              "{'boxes': [<matplotlib.lines.Line2D at 0x7f5f0868aed0>],\n",
              " 'caps': [<matplotlib.lines.Line2D at 0x7f5f086777d0>,\n",
              "  <matplotlib.lines.Line2D at 0x7f5f08677d50>],\n",
              " 'fliers': [<matplotlib.lines.Line2D at 0x7f5f086707d0>],\n",
              " 'means': [],\n",
              " 'medians': [<matplotlib.lines.Line2D at 0x7f5f08670290>],\n",
              " 'whiskers': [<matplotlib.lines.Line2D at 0x7f5f08471d50>,\n",
              "  <matplotlib.lines.Line2D at 0x7f5f08677290>]}"
            ]
          },
          "metadata": {},
          "execution_count": 233
        },
        {
          "output_type": "display_data",
          "data": {
            "text/plain": [
              "<Figure size 432x288 with 1 Axes>"
            ],
            "image/png": "[encoded data removed]"
          },
          "metadata": {
            "needs_background": "light"
          }
        }
      ]
    },
    {
      "cell_type": "markdown",
      "source": [
        "On voit ici que les prix de la catégorie 2 sont bien plus élevés que les deux autres catégories. Cela explique la prédominance de ces dernières dans le chiffre d'affaires."
      ],
      "metadata": {
        "id": "pOfTZyaDUhxc"
      }
    },
    {
      "cell_type": "code",
      "execution_count": 234,
      "metadata": {
        "colab": {
          "base_uri": "https://localhost:8080/",
          "height": 1000
        },
        "id": "Mmt8MJuARBBp",
        "outputId": "10ddb4b7-3356-4225-9f3e-77ffd957faf4"
      },
      "outputs": [
        {
          "output_type": "stream",
          "name": "stdout",
          "text": [
            "sex\n",
            "f    5.861056e+06\n",
            "m    5.995266e+06\n",
            "Name: price, dtype: float64\n"
          ]
        },
        {
          "output_type": "execute_result",
          "data": {
            "text/plain": [
              "<matplotlib.legend.Legend at 0x7f5f094d9790>"
            ]
          },
          "metadata": {},
          "execution_count": 234
        },
        {
          "output_type": "display_data",
          "data": {
            "text/plain": [
              "<Figure size 864x576 with 1 Axes>"
            ],
            "image/png": "[encoded data removed]"
          },
          "metadata": {
            "needs_background": "light"
          }
        }
      ],
      "source": [
        "    # - par sexe :\n",
        "print(full_table.groupby(by=\"sex\")[\"price\"].sum())\n",
        "femme = full_table[full_table[\"sex\"] == 'f'][\"price\"].sum()\n",
        "homme = full_table[full_table[\"sex\"] == 'm'][\"price\"].sum()\n",
        "data=[femme, homme]\n",
        "labels=[\"Femme\", \"Homme\"]\n",
        "plt.figure(figsize=(12,8))\n",
        "plt.pie(data,\n",
        "        labels=labels,\n",
        "        colors=colors,\n",
        "        labeldistance=None,\n",
        "        autopct = '%0.0f%%',\n",
        "        startangle=90,\n",
        "        frame=True,\n",
        "        shadow=True)\n",
        "plt.title(\"Répartition  du CA par sexe\")\n",
        "plt.legend()"
      ]
    },
    {
      "cell_type": "code",
      "execution_count": 235,
      "metadata": {
        "id": "AbvetRzuRBBp"
      },
      "outputs": [],
      "source": [
        "#On veut analyser les ventes en segmentant les clients en fonction de leur âge.\n",
        "\n",
        "#On crée une colonne \"age\" des clients en fonction de l'année en cours.\n",
        "from datetime import date\n",
        "today = date.today()\n",
        "full_table[\"age\"] = today.year - full_table[\"birth\"]\n"
      ]
    },
    {
      "cell_type": "code",
      "execution_count": 236,
      "metadata": {
        "colab": {
          "base_uri": "https://localhost:8080/",
          "height": 282
        },
        "id": "LDy5rxnqRBBq",
        "outputId": "f217a4ee-4e42-4883-c0e5-96afa9494c63"
      },
      "outputs": [
        {
          "output_type": "execute_result",
          "data": {
            "text/plain": [
              "[<matplotlib.lines.Line2D at 0x7f5f0a691350>]"
            ]
          },
          "metadata": {},
          "execution_count": 236
        },
        {
          "output_type": "display_data",
          "data": {
            "text/plain": [
              "<Figure size 432x288 with 1 Axes>"
            ],
            "image/png": "[encoded data removed]"
          },
          "metadata": {
            "needs_background": "light"
          }
        }
      ],
      "source": [
        "plt.plot(full_table.groupby(\"age\")[\"price\"].mean())"
      ]
    },
    {
      "cell_type": "code",
      "execution_count": 237,
      "metadata": {
        "id": "vbMq6qNCRBBq"
      },
      "outputs": [],
      "source": [
        "# 3 catégories se dégagent : 17-30, 31-50 et les 51+\n",
        "#On crée donc une colonne \"segment\" qui associe une catégorie d'âge à un client, cela afin de traiter l'information en tant que variable qualitative\n",
        "\n",
        "full_table['segment'] = pd.cut(full_table['age'], bins=[full_table['age'].min()-1, 30, 50, full_table['age'].max()], right=True, labels=[\"17-30\", \"31-50\", \"51 et +\"])\n",
        "\n",
        "#On peut alors afficher les ventes par segment d'age :\n",
        "full_table.groupby(\"segment\")[\"price\"].sum()\n",
        "\n",
        "g17_30 = full_table[full_table[\"segment\"] == \"17-30\"][\"price\"].sum()\n",
        "g31_50 = full_table[full_table[\"segment\"] == \"31-50\"][\"price\"].sum()\n",
        "g51_93 = full_table[full_table[\"segment\"] == \"51 et +\"][\"price\"].sum()"
      ]
    },
    {
      "cell_type": "code",
      "execution_count": 238,
      "metadata": {
        "colab": {
          "base_uri": "https://localhost:8080/",
          "height": 947
        },
        "id": "XH9QwPfmRBBq",
        "outputId": "38862245-fdae-44e5-8ddb-e2b920d0386f"
      },
      "outputs": [
        {
          "output_type": "execute_result",
          "data": {
            "text/plain": [
              "<matplotlib.legend.Legend at 0x7f5f0a76a4d0>"
            ]
          },
          "metadata": {},
          "execution_count": 238
        },
        {
          "output_type": "display_data",
          "data": {
            "text/plain": [
              "<Figure size 864x576 with 1 Axes>"
            ],
            "image/png": "[encoded data removed]"
          },
          "metadata": {
            "needs_background": "light"
          }
        }
      ],
      "source": [
        "data=[g17_30, g31_50, g51_93]\n",
        "labels=[\"17-30\", \"31-50\", \"51 et +\"]\n",
        "\n",
        "plt.figure(figsize=(12,8))\n",
        "plt.pie(data,\n",
        "        labels=labels,\n",
        "        colors=colors,\n",
        "        labeldistance=None,\n",
        "        autopct = '%0.0f%%',\n",
        "        startangle=180,\n",
        "        frame=True,\n",
        "        shadow=True)\n",
        "plt.title(\"Répartition  du CA par groupe d'âge\")\n",
        "plt.legend()"
      ]
    },
    {
      "cell_type": "code",
      "source": [
        ""
      ],
      "metadata": {
        "id": "HQkneH5eaXJT"
      },
      "execution_count": 238,
      "outputs": []
    },
    {
      "cell_type": "code",
      "execution_count": 239,
      "metadata": {
        "colab": {
          "base_uri": "https://localhost:8080/",
          "height": 394
        },
        "id": "4TZv1e9ARBBr",
        "outputId": "7a70eb84-9216-4d2d-a50d-45cee28fbc3d"
      },
      "outputs": [
        {
          "output_type": "execute_result",
          "data": {
            "text/plain": [
              "         nombre de ventes\n",
              "id_prod                  \n",
              "1_369                2252\n",
              "1_417                2189\n",
              "1_414                2180\n",
              "1_498                2128\n",
              "1_425                2096\n",
              "1_403                1960\n",
              "1_412                1951\n",
              "1_413                1945\n",
              "1_406                1939\n",
              "1_407                1935"
            ],
            "text/html": [
              "\n",
              "  <div id=\"df-bff15ae9-6877-4ca8-86e6-b1053defa9a4\">\n",
              "    <div class=\"colab-df-container\">\n",
              "      <div>\n",
              "<style scoped>\n",
              "    .dataframe tbody tr th:only-of-type {\n",
              "        vertical-align: middle;\n",
              "    }\n",
              "\n",
              "    .dataframe tbody tr th {\n",
              "        vertical-align: top;\n",
              "    }\n",
              "\n",
              "    .dataframe thead th {\n",
              "        text-align: right;\n",
              "    }\n",
              "</style>\n",
              "<table border=\"1\" class=\"dataframe\">\n",
              "  <thead>\n",
              "    <tr style=\"text-align: right;\">\n",
              "      <th></th>\n",
              "      <th>nombre de ventes</th>\n",
              "    </tr>\n",
              "    <tr>\n",
              "      <th>id_prod</th>\n",
              "      <th></th>\n",
              "    </tr>\n",
              "  </thead>\n",
              "  <tbody>\n",
              "    <tr>\n",
              "      <th>1_369</th>\n",
              "      <td>2252</td>\n",
              "    </tr>\n",
              "    <tr>\n",
              "      <th>1_417</th>\n",
              "      <td>2189</td>\n",
              "    </tr>\n",
              "    <tr>\n",
              "      <th>1_414</th>\n",
              "      <td>2180</td>\n",
              "    </tr>\n",
              "    <tr>\n",
              "      <th>1_498</th>\n",
              "      <td>2128</td>\n",
              "    </tr>\n",
              "    <tr>\n",
              "      <th>1_425</th>\n",
              "      <td>2096</td>\n",
              "    </tr>\n",
              "    <tr>\n",
              "      <th>1_403</th>\n",
              "      <td>1960</td>\n",
              "    </tr>\n",
              "    <tr>\n",
              "      <th>1_412</th>\n",
              "      <td>1951</td>\n",
              "    </tr>\n",
              "    <tr>\n",
              "      <th>1_413</th>\n",
              "      <td>1945</td>\n",
              "    </tr>\n",
              "    <tr>\n",
              "      <th>1_406</th>\n",
              "      <td>1939</td>\n",
              "    </tr>\n",
              "    <tr>\n",
              "      <th>1_407</th>\n",
              "      <td>1935</td>\n",
              "    </tr>\n",
              "  </tbody>\n",
              "</table>\n",
              "</div>\n",
              "      <button class=\"colab-df-convert\" onclick=\"convertToInteractive('df-bff15ae9-6877-4ca8-86e6-b1053defa9a4')\"\n",
              "              title=\"Convert this dataframe to an interactive table.\"\n",
              "              style=\"display:none;\">\n",
              "        \n",
              "  <svg xmlns=\"http://www.w3.org/2000/svg\" height=\"24px\"viewBox=\"0 0 24 24\"\n",
              "       width=\"24px\">\n",
              "    <path d=\"M0 0h24v24H0V0z\" fill=\"none\"/>\n",
              "    <path d=\"M18.56 5.44l.94 2.06.94-2.06 2.06-.94-2.06-.94-.94-2.06-.94 2.06-2.06.94zm-11 1L8.5 8.5l.94-2.06 2.06-.94-2.06-.94L8.5 2.5l-.94 2.06-2.06.94zm10 10l.94 2.06.94-2.06 2.06-.94-2.06-.94-.94-2.06-.94 2.06-2.06.94z\"/><path d=\"M17.41 7.96l-1.37-1.37c-.4-.4-.92-.59-1.43-.59-.52 0-1.04.2-1.43.59L10.3 9.45l-7.72 7.72c-.78.78-.78 2.05 0 2.83L4 21.41c.39.39.9.59 1.41.59.51 0 1.02-.2 1.41-.59l7.78-7.78 2.81-2.81c.8-.78.8-2.07 0-2.86zM5.41 20L4 18.59l7.72-7.72 1.47 1.35L5.41 20z\"/>\n",
              "  </svg>\n",
              "      </button>\n",
              "      \n",
              "  <style>\n",
              "    .colab-df-container {\n",
              "      display:flex;\n",
              "      flex-wrap:wrap;\n",
              "      gap: 12px;\n",
              "    }\n",
              "\n",
              "    .colab-df-convert {\n",
              "      background-color: #E8F0FE;\n",
              "      border: none;\n",
              "      border-radius: 50%;\n",
              "      cursor: pointer;\n",
              "      display: none;\n",
              "      fill: #1967D2;\n",
              "      height: 32px;\n",
              "      padding: 0 0 0 0;\n",
              "      width: 32px;\n",
              "    }\n",
              "\n",
              "    .colab-df-convert:hover {\n",
              "      background-color: #E2EBFA;\n",
              "      box-shadow: 0px 1px 2px rgba(60, 64, 67, 0.3), 0px 1px 3px 1px rgba(60, 64, 67, 0.15);\n",
              "      fill: #174EA6;\n",
              "    }\n",
              "\n",
              "    [theme=dark] .colab-df-convert {\n",
              "      background-color: #3B4455;\n",
              "      fill: #D2E3FC;\n",
              "    }\n",
              "\n",
              "    [theme=dark] .colab-df-convert:hover {\n",
              "      background-color: #434B5C;\n",
              "      box-shadow: 0px 1px 3px 1px rgba(0, 0, 0, 0.15);\n",
              "      filter: drop-shadow(0px 1px 2px rgba(0, 0, 0, 0.3));\n",
              "      fill: #FFFFFF;\n",
              "    }\n",
              "  </style>\n",
              "\n",
              "      <script>\n",
              "        const buttonEl =\n",
              "          document.querySelector('#df-bff15ae9-6877-4ca8-86e6-b1053defa9a4 button.colab-df-convert');\n",
              "        buttonEl.style.display =\n",
              "          google.colab.kernel.accessAllowed ? 'block' : 'none';\n",
              "\n",
              "        async function convertToInteractive(key) {\n",
              "          const element = document.querySelector('#df-bff15ae9-6877-4ca8-86e6-b1053defa9a4');\n",
              "          const dataTable =\n",
              "            await google.colab.kernel.invokeFunction('convertToInteractive',\n",
              "                                                     [key], {});\n",
              "          if (!dataTable) return;\n",
              "\n",
              "          const docLinkHtml = 'Like what you see? Visit the ' +\n",
              "            '<a target=\"_blank\" href=https://colab.research.google.com/notebooks/data_table.ipynb>data table notebook</a>'\n",
              "            + ' to learn more about interactive tables.';\n",
              "          element.innerHTML = '';\n",
              "          dataTable['output_type'] = 'display_data';\n",
              "          await google.colab.output.renderOutput(dataTable, element);\n",
              "          const docLink = document.createElement('div');\n",
              "          docLink.innerHTML = docLinkHtml;\n",
              "          element.appendChild(docLink);\n",
              "        }\n",
              "      </script>\n",
              "    </div>\n",
              "  </div>\n",
              "  "
            ]
          },
          "metadata": {},
          "execution_count": 239
        }
      ],
      "source": [
        "#10 Livres les plus vendus :\n",
        "book_first10 = full_table.groupby(\"id_prod\")[\"price\"].count().sort_values(ascending=False)[:10].to_frame()\n",
        "book_first10.rename(columns={\"price\":\"nombre de ventes\"})"
      ]
    },
    {
      "cell_type": "code",
      "execution_count": 240,
      "metadata": {
        "colab": {
          "base_uri": "https://localhost:8080/"
        },
        "id": "yMkHLM0BRBBr",
        "outputId": "2b1c0dac-865c-4616-b952-f091d0ae2894"
      },
      "outputs": [
        {
          "output_type": "execute_result",
          "data": {
            "text/plain": [
              "166     0_1151\n",
              "313     0_1284\n",
              "417     0_1379\n",
              "549     0_1498\n",
              "595     0_1539\n",
              "665     0_1601\n",
              "698     0_1633\n",
              "752     0_1683\n",
              "802     0_1728\n",
              "1327    0_2201\n",
              "1785     0_541\n",
              "1793     0_549\n",
              "2080     0_807\n",
              "2109     0_833\n",
              "2167     0_886\n",
              "3176      2_23\n",
              "3248      2_81\n",
              "3264      2_98\n",
              "Name: id_prod, dtype: object"
            ]
          },
          "metadata": {},
          "execution_count": 240
        }
      ],
      "source": [
        "#Livres les moins vendus :\n",
        "\n",
        "lsb = full_table.groupby(\"id_prod\")[\"price\"].count().reset_index()\n",
        "lsb.loc[lsb['price']==1, 'id_prod']\n",
        "#Tous ces livres n'ont été vendu qu'une seule fois"
      ]
    },
    {
      "cell_type": "code",
      "execution_count": 241,
      "metadata": {
        "colab": {
          "base_uri": "https://localhost:8080/"
        },
        "id": "jtwx6Z3jRBBr",
        "outputId": "dffa65db-9253-4940-e85b-7ac408c8e0db"
      },
      "outputs": [
        {
          "output_type": "stream",
          "name": "stdout",
          "text": [
            "En moyenne, on vend 208.0 exemplaires d'un livre. La médiane du nombre d'exemplaires uniques vendus est de 57.0.\n"
          ]
        }
      ],
      "source": [
        "a = round(full_table.groupby(\"id_prod\")[\"price\"].count().mean(),1)\n",
        "b = full_table.groupby(\"id_prod\")[\"price\"].count().median()\n",
        "\n",
        "print(\"En moyenne, on vend {0} exemplaires d'un livre. La médiane du nombre d'exemplaires uniques vendus est de {1}.\".format(a, b))\n"
      ]
    },
    {
      "cell_type": "code",
      "execution_count": 242,
      "metadata": {
        "id": "u8Cp40WjRBBs"
      },
      "outputs": [],
      "source": [
        "montant_total_achat = full_table.groupby(\"client_id\")[\"price\"].sum().to_frame()\n",
        "montant_total_achat = montant_total_achat.rename(columns={\"price\":\"montant_total_achat\"})"
      ]
    },
    {
      "cell_type": "code",
      "execution_count": 243,
      "metadata": {
        "id": "SiyclqTIRBBs"
      },
      "outputs": [],
      "source": [
        "freq_achat = full_table.groupby(\"client_id\")[\"session_id\"].count().to_frame()\n",
        "freq_achat = freq_achat.rename(columns={\"session_id\":\"freq_achat\"})"
      ]
    },
    {
      "cell_type": "code",
      "execution_count": 244,
      "metadata": {
        "id": "J5Vx_6UXRBBs"
      },
      "outputs": [],
      "source": [
        "full_table = pd.merge(full_table, montant_total_achat, on=\"client_id\", how=\"left\")\n",
        "full_table = pd.merge(full_table, freq_achat, on=\"client_id\", how=\"left\")"
      ]
    },
    {
      "cell_type": "code",
      "execution_count": 245,
      "metadata": {
        "colab": {
          "base_uri": "https://localhost:8080/",
          "height": 424
        },
        "id": "u-ZNDk1lRBBt",
        "outputId": "33e681b2-cdc4-4bf7-fc75-ecdcaafdccc6"
      },
      "outputs": [
        {
          "output_type": "execute_result",
          "data": {
            "text/plain": [
              "       id_prod session_id client_id sex  birth  price  categ  age  segment  \\\n",
              "0       0_1518   s_211425     c_103   f   1986   4.18    0.0   36    31-50   \n",
              "1        1_251   s_158752    c_8534   m   1988  15.99    1.0   34    31-50   \n",
              "2       0_1277   s_225667    c_6714   f   1968   7.99    0.0   54  51 et +   \n",
              "3        2_209    s_52962    c_6941   m   2000  69.99    2.0   22    17-30   \n",
              "4       0_1509   s_325227    c_4232   m   1980   4.99    0.0   42    31-50   \n",
              "...        ...        ...       ...  ..    ...    ...    ...  ...      ...   \n",
              "679327  0_1551   s_150195    c_8489   f   1951  12.99    0.0   71  51 et +   \n",
              "679328   1_639   s_181434    c_4370   f   1977  10.99    1.0   45    31-50   \n",
              "679329  0_1425   s_314704     c_304   f   1988  12.99    0.0   34    31-50   \n",
              "679330  0_1994    s_63204    c_2227   m   1986   4.98    0.0   36    31-50   \n",
              "679331   1_523   s_274568    c_3873   m   1995  23.99    1.0   27    17-30   \n",
              "\n",
              "        montant_total_achat  freq_achat  panier_moyen  \n",
              "0               2288.490000         195     11.735846  \n",
              "1               3498.140000         247     14.162510  \n",
              "2             153669.316768        9187     16.726822  \n",
              "3                886.500000          17     52.147059  \n",
              "4               2381.560000         168     14.175952  \n",
              "...                     ...         ...           ...  \n",
              "679327          1088.840000          73     14.915616  \n",
              "679328          1186.770000          84     14.128214  \n",
              "679329          1692.890000         117     14.469145  \n",
              "679330          3056.290000         234     13.061068  \n",
              "679331          2207.570000          86     25.669419  \n",
              "\n",
              "[679332 rows x 12 columns]"
            ],
            "text/html": [
              "\n",
              "  <div id=\"df-be27f45b-2857-410d-9fb3-6b2ad7cef7d8\">\n",
              "    <div class=\"colab-df-container\">\n",
              "      <div>\n",
              "<style scoped>\n",
              "    .dataframe tbody tr th:only-of-type {\n",
              "        vertical-align: middle;\n",
              "    }\n",
              "\n",
              "    .dataframe tbody tr th {\n",
              "        vertical-align: top;\n",
              "    }\n",
              "\n",
              "    .dataframe thead th {\n",
              "        text-align: right;\n",
              "    }\n",
              "</style>\n",
              "<table border=\"1\" class=\"dataframe\">\n",
              "  <thead>\n",
              "    <tr style=\"text-align: right;\">\n",
              "      <th></th>\n",
              "      <th>id_prod</th>\n",
              "      <th>session_id</th>\n",
              "      <th>client_id</th>\n",
              "      <th>sex</th>\n",
              "      <th>birth</th>\n",
              "      <th>price</th>\n",
              "      <th>categ</th>\n",
              "      <th>age</th>\n",
              "      <th>segment</th>\n",
              "      <th>montant_total_achat</th>\n",
              "      <th>freq_achat</th>\n",
              "      <th>panier_moyen</th>\n",
              "    </tr>\n",
              "  </thead>\n",
              "  <tbody>\n",
              "    <tr>\n",
              "      <th>0</th>\n",
              "      <td>0_1518</td>\n",
              "      <td>s_211425</td>\n",
              "      <td>c_103</td>\n",
              "      <td>f</td>\n",
              "      <td>1986</td>\n",
              "      <td>4.18</td>\n",
              "      <td>0.0</td>\n",
              "      <td>36</td>\n",
              "      <td>31-50</td>\n",
              "      <td>2288.490000</td>\n",
              "      <td>195</td>\n",
              "      <td>11.735846</td>\n",
              "    </tr>\n",
              "    <tr>\n",
              "      <th>1</th>\n",
              "      <td>1_251</td>\n",
              "      <td>s_158752</td>\n",
              "      <td>c_8534</td>\n",
              "      <td>m</td>\n",
              "      <td>1988</td>\n",
              "      <td>15.99</td>\n",
              "      <td>1.0</td>\n",
              "      <td>34</td>\n",
              "      <td>31-50</td>\n",
              "      <td>3498.140000</td>\n",
              "      <td>247</td>\n",
              "      <td>14.162510</td>\n",
              "    </tr>\n",
              "    <tr>\n",
              "      <th>2</th>\n",
              "      <td>0_1277</td>\n",
              "      <td>s_225667</td>\n",
              "      <td>c_6714</td>\n",
              "      <td>f</td>\n",
              "      <td>1968</td>\n",
              "      <td>7.99</td>\n",
              "      <td>0.0</td>\n",
              "      <td>54</td>\n",
              "      <td>51 et +</td>\n",
              "      <td>153669.316768</td>\n",
              "      <td>9187</td>\n",
              "      <td>16.726822</td>\n",
              "    </tr>\n",
              "    <tr>\n",
              "      <th>3</th>\n",
              "      <td>2_209</td>\n",
              "      <td>s_52962</td>\n",
              "      <td>c_6941</td>\n",
              "      <td>m</td>\n",
              "      <td>2000</td>\n",
              "      <td>69.99</td>\n",
              "      <td>2.0</td>\n",
              "      <td>22</td>\n",
              "      <td>17-30</td>\n",
              "      <td>886.500000</td>\n",
              "      <td>17</td>\n",
              "      <td>52.147059</td>\n",
              "    </tr>\n",
              "    <tr>\n",
              "      <th>4</th>\n",
              "      <td>0_1509</td>\n",
              "      <td>s_325227</td>\n",
              "      <td>c_4232</td>\n",
              "      <td>m</td>\n",
              "      <td>1980</td>\n",
              "      <td>4.99</td>\n",
              "      <td>0.0</td>\n",
              "      <td>42</td>\n",
              "      <td>31-50</td>\n",
              "      <td>2381.560000</td>\n",
              "      <td>168</td>\n",
              "      <td>14.175952</td>\n",
              "    </tr>\n",
              "    <tr>\n",
              "      <th>...</th>\n",
              "      <td>...</td>\n",
              "      <td>...</td>\n",
              "      <td>...</td>\n",
              "      <td>...</td>\n",
              "      <td>...</td>\n",
              "      <td>...</td>\n",
              "      <td>...</td>\n",
              "      <td>...</td>\n",
              "      <td>...</td>\n",
              "      <td>...</td>\n",
              "      <td>...</td>\n",
              "      <td>...</td>\n",
              "    </tr>\n",
              "    <tr>\n",
              "      <th>679327</th>\n",
              "      <td>0_1551</td>\n",
              "      <td>s_150195</td>\n",
              "      <td>c_8489</td>\n",
              "      <td>f</td>\n",
              "      <td>1951</td>\n",
              "      <td>12.99</td>\n",
              "      <td>0.0</td>\n",
              "      <td>71</td>\n",
              "      <td>51 et +</td>\n",
              "      <td>1088.840000</td>\n",
              "      <td>73</td>\n",
              "      <td>14.915616</td>\n",
              "    </tr>\n",
              "    <tr>\n",
              "      <th>679328</th>\n",
              "      <td>1_639</td>\n",
              "      <td>s_181434</td>\n",
              "      <td>c_4370</td>\n",
              "      <td>f</td>\n",
              "      <td>1977</td>\n",
              "      <td>10.99</td>\n",
              "      <td>1.0</td>\n",
              "      <td>45</td>\n",
              "      <td>31-50</td>\n",
              "      <td>1186.770000</td>\n",
              "      <td>84</td>\n",
              "      <td>14.128214</td>\n",
              "    </tr>\n",
              "    <tr>\n",
              "      <th>679329</th>\n",
              "      <td>0_1425</td>\n",
              "      <td>s_314704</td>\n",
              "      <td>c_304</td>\n",
              "      <td>f</td>\n",
              "      <td>1988</td>\n",
              "      <td>12.99</td>\n",
              "      <td>0.0</td>\n",
              "      <td>34</td>\n",
              "      <td>31-50</td>\n",
              "      <td>1692.890000</td>\n",
              "      <td>117</td>\n",
              "      <td>14.469145</td>\n",
              "    </tr>\n",
              "    <tr>\n",
              "      <th>679330</th>\n",
              "      <td>0_1994</td>\n",
              "      <td>s_63204</td>\n",
              "      <td>c_2227</td>\n",
              "      <td>m</td>\n",
              "      <td>1986</td>\n",
              "      <td>4.98</td>\n",
              "      <td>0.0</td>\n",
              "      <td>36</td>\n",
              "      <td>31-50</td>\n",
              "      <td>3056.290000</td>\n",
              "      <td>234</td>\n",
              "      <td>13.061068</td>\n",
              "    </tr>\n",
              "    <tr>\n",
              "      <th>679331</th>\n",
              "      <td>1_523</td>\n",
              "      <td>s_274568</td>\n",
              "      <td>c_3873</td>\n",
              "      <td>m</td>\n",
              "      <td>1995</td>\n",
              "      <td>23.99</td>\n",
              "      <td>1.0</td>\n",
              "      <td>27</td>\n",
              "      <td>17-30</td>\n",
              "      <td>2207.570000</td>\n",
              "      <td>86</td>\n",
              "      <td>25.669419</td>\n",
              "    </tr>\n",
              "  </tbody>\n",
              "</table>\n",
              "<p>679332 rows × 12 columns</p>\n",
              "</div>\n",
              "      <button class=\"colab-df-convert\" onclick=\"convertToInteractive('df-be27f45b-2857-410d-9fb3-6b2ad7cef7d8')\"\n",
              "              title=\"Convert this dataframe to an interactive table.\"\n",
              "              style=\"display:none;\">\n",
              "        \n",
              "  <svg xmlns=\"http://www.w3.org/2000/svg\" height=\"24px\"viewBox=\"0 0 24 24\"\n",
              "       width=\"24px\">\n",
              "    <path d=\"M0 0h24v24H0V0z\" fill=\"none\"/>\n",
              "    <path d=\"M18.56 5.44l.94 2.06.94-2.06 2.06-.94-2.06-.94-.94-2.06-.94 2.06-2.06.94zm-11 1L8.5 8.5l.94-2.06 2.06-.94-2.06-.94L8.5 2.5l-.94 2.06-2.06.94zm10 10l.94 2.06.94-2.06 2.06-.94-2.06-.94-.94-2.06-.94 2.06-2.06.94z\"/><path d=\"M17.41 7.96l-1.37-1.37c-.4-.4-.92-.59-1.43-.59-.52 0-1.04.2-1.43.59L10.3 9.45l-7.72 7.72c-.78.78-.78 2.05 0 2.83L4 21.41c.39.39.9.59 1.41.59.51 0 1.02-.2 1.41-.59l7.78-7.78 2.81-2.81c.8-.78.8-2.07 0-2.86zM5.41 20L4 18.59l7.72-7.72 1.47 1.35L5.41 20z\"/>\n",
              "  </svg>\n",
              "      </button>\n",
              "      \n",
              "  <style>\n",
              "    .colab-df-container {\n",
              "      display:flex;\n",
              "      flex-wrap:wrap;\n",
              "      gap: 12px;\n",
              "    }\n",
              "\n",
              "    .colab-df-convert {\n",
              "      background-color: #E8F0FE;\n",
              "      border: none;\n",
              "      border-radius: 50%;\n",
              "      cursor: pointer;\n",
              "      display: none;\n",
              "      fill: #1967D2;\n",
              "      height: 32px;\n",
              "      padding: 0 0 0 0;\n",
              "      width: 32px;\n",
              "    }\n",
              "\n",
              "    .colab-df-convert:hover {\n",
              "      background-color: #E2EBFA;\n",
              "      box-shadow: 0px 1px 2px rgba(60, 64, 67, 0.3), 0px 1px 3px 1px rgba(60, 64, 67, 0.15);\n",
              "      fill: #174EA6;\n",
              "    }\n",
              "\n",
              "    [theme=dark] .colab-df-convert {\n",
              "      background-color: #3B4455;\n",
              "      fill: #D2E3FC;\n",
              "    }\n",
              "\n",
              "    [theme=dark] .colab-df-convert:hover {\n",
              "      background-color: #434B5C;\n",
              "      box-shadow: 0px 1px 3px 1px rgba(0, 0, 0, 0.15);\n",
              "      filter: drop-shadow(0px 1px 2px rgba(0, 0, 0, 0.3));\n",
              "      fill: #FFFFFF;\n",
              "    }\n",
              "  </style>\n",
              "\n",
              "      <script>\n",
              "        const buttonEl =\n",
              "          document.querySelector('#df-be27f45b-2857-410d-9fb3-6b2ad7cef7d8 button.colab-df-convert');\n",
              "        buttonEl.style.display =\n",
              "          google.colab.kernel.accessAllowed ? 'block' : 'none';\n",
              "\n",
              "        async function convertToInteractive(key) {\n",
              "          const element = document.querySelector('#df-be27f45b-2857-410d-9fb3-6b2ad7cef7d8');\n",
              "          const dataTable =\n",
              "            await google.colab.kernel.invokeFunction('convertToInteractive',\n",
              "                                                     [key], {});\n",
              "          if (!dataTable) return;\n",
              "\n",
              "          const docLinkHtml = 'Like what you see? Visit the ' +\n",
              "            '<a target=\"_blank\" href=https://colab.research.google.com/notebooks/data_table.ipynb>data table notebook</a>'\n",
              "            + ' to learn more about interactive tables.';\n",
              "          element.innerHTML = '';\n",
              "          dataTable['output_type'] = 'display_data';\n",
              "          await google.colab.output.renderOutput(dataTable, element);\n",
              "          const docLink = document.createElement('div');\n",
              "          docLink.innerHTML = docLinkHtml;\n",
              "          element.appendChild(docLink);\n",
              "        }\n",
              "      </script>\n",
              "    </div>\n",
              "  </div>\n",
              "  "
            ]
          },
          "metadata": {},
          "execution_count": 245
        }
      ],
      "source": [
        "full_table[\"panier_moyen\"] = full_table[\"montant_total_achat\"]/full_table[\"freq_achat\"]\n",
        "full_table"
      ]
    },
    {
      "cell_type": "code",
      "source": [
        "# On peut regarder la répartition des âges dans les ventes :\n",
        "\n",
        "x = full_table['age'].unique()\n",
        "\n",
        "y = full_table.groupby('age')['price'].sum()\n",
        "\n",
        "plt.figure(figsize=(15,15))\n",
        "plt.scatter(x, y)"
      ],
      "metadata": {
        "colab": {
          "base_uri": "https://localhost:8080/",
          "height": 880
        },
        "id": "NKWqdpHecxgk",
        "outputId": "38eef303-3ad7-403c-e63b-db29aae340cd"
      },
      "execution_count": 246,
      "outputs": [
        {
          "output_type": "execute_result",
          "data": {
            "text/plain": [
              "<matplotlib.collections.PathCollection at 0x7f5f0b447ed0>"
            ]
          },
          "metadata": {},
          "execution_count": 246
        },
        {
          "output_type": "display_data",
          "data": {
            "text/plain": [
              "<Figure size 1080x1080 with 1 Axes>"
            ],
            "image/png": "[encoded data removed]"
          },
          "metadata": {
            "needs_background": "light"
          }
        }
      ]
    },
    {
      "cell_type": "markdown",
      "source": [
        "On voit sur le nuage de point ci-dessus que le CA/age est plus élevé pour les âges du segment 31-50 ans."
      ],
      "metadata": {
        "id": "MpCQcW15jk0B"
      }
    },
    {
      "cell_type": "code",
      "execution_count": 247,
      "metadata": {
        "id": "81D-GgsHRBBt"
      },
      "outputs": [],
      "source": [
        "#On veut calculer le coef de Gini et la courbe de Lorenz de la répartion des ventes\n",
        "# - par clients:\n",
        "client = full_table.groupby(by=\"client_id\")[\"price\"].sum().sort_values(ascending=True).to_numpy()\n",
        "# - par livres:\n",
        "livre = full_table.groupby(by=\"id_prod\")[\"price\"].sum().sort_values(ascending=True).to_numpy()"
      ]
    },
    {
      "cell_type": "code",
      "execution_count": 248,
      "metadata": {
        "colab": {
          "base_uri": "https://localhost:8080/"
        },
        "id": "dM59BvtwRBBt",
        "outputId": "81990a98-2d7e-4e08-dfb0-91a05c98a0b0"
      },
      "outputs": [
        {
          "output_type": "stream",
          "name": "stdout",
          "text": [
            "coef Gini pour les clients :  0.4463965884675667\n",
            "coef Gini pour les livres :  0.7428265830646286\n"
          ]
        }
      ],
      "source": [
        "#Coefficient de Gini\n",
        "\n",
        "def gini(arr):\n",
        "    ## first sort\n",
        "    sorted_arr = arr.copy()\n",
        "    sorted_arr.sort()\n",
        "    n = arr.size\n",
        "    coef_ = 2. / n\n",
        "    const_ = (n + 1.) / n\n",
        "    weighted_sum = sum([(i+1)*yi for i, yi in enumerate(sorted_arr)])\n",
        "    return coef_*weighted_sum/(sorted_arr.sum()) - const_\n",
        "\n",
        "print(\"coef Gini pour les clients : \", gini(client))\n",
        "print(\"coef Gini pour les livres : \", gini(livre))"
      ]
    },
    {
      "cell_type": "code",
      "execution_count": 249,
      "metadata": {
        "colab": {
          "base_uri": "https://localhost:8080/",
          "height": 1000
        },
        "id": "MH6LvnIzRBBt",
        "outputId": "c415ee69-0231-43db-e111-debdc8ea9f46"
      },
      "outputs": [
        {
          "output_type": "stream",
          "name": "stdout",
          "text": [
            "None\n",
            "None\n"
          ]
        },
        {
          "output_type": "display_data",
          "data": {
            "text/plain": [
              "<Figure size 720x720 with 1 Axes>"
            ],
            "image/png": "[encoded data removed]"
          },
          "metadata": {
            "needs_background": "light"
          }
        },
        {
          "output_type": "display_data",
          "data": {
            "text/plain": [
              "<Figure size 720x720 with 1 Axes>"
            ],
            "image/png": "[encoded data removed]"
          },
          "metadata": {
            "needs_background": "light"
          }
        }
      ],
      "source": [
        "#Courbe de Lorenz\n",
        "\n",
        "def lorenz_curve(X, label):\n",
        "    X_lorenz = X.cumsum() / X.sum()\n",
        "    X_lorenz = np.insert(X_lorenz, 0, 0) \n",
        "    X_lorenz[0], X_lorenz[-1]\n",
        "    fig, ax = plt.subplots(figsize=[10,10])\n",
        "    ## scatter plot of Lorenz curve\n",
        "    ax.scatter(np.arange(X_lorenz.size)/(X_lorenz.size-1), X_lorenz, \n",
        "               marker='s', color='blue', s=1)\n",
        "    ## line plot of equality\n",
        "    ax.plot([0,1], [0,1], color='k')\n",
        "    title = \"Répartition des ventes entre les \" + label\n",
        "    ax.set_title(title)\n",
        "    ax.set_ylabel(\"Proportion des ventes\")\n",
        "    xlabel = \"Proportion des \" + label\n",
        "    ax.set_xlabel(xlabel)\n",
        "\n",
        "print(lorenz_curve(client, \"clients\"))\n",
        "print(lorenz_curve(livre, \"livres\"))"
      ]
    },
    {
      "cell_type": "markdown",
      "metadata": {
        "id": "NKRsKzG0RBBu"
      },
      "source": [
        "### On voit sur la 2e courbe de Lorenz un effet Pareto pour les livres : environ 20% des livres permettent la réalisation d'environ 80% du chiffre d'affaire."
      ]
    },
    {
      "cell_type": "markdown",
      "metadata": {
        "id": "t2d0HsDMRBBu"
      },
      "source": [
        "# TESTS"
      ]
    },
    {
      "cell_type": "code",
      "execution_count": 250,
      "metadata": {
        "colab": {
          "base_uri": "https://localhost:8080/"
        },
        "id": "lLMTgveFRBBu",
        "outputId": "2c0f8fa4-5091-44cf-ee61-f97f1eb28c78"
      },
      "outputs": [
        {
          "output_type": "stream",
          "name": "stdout",
          "text": [
            "<class 'pandas.core.frame.DataFrame'>\n",
            "Int64Index: 679332 entries, 0 to 679331\n",
            "Data columns (total 12 columns):\n",
            " #   Column               Non-Null Count   Dtype   \n",
            "---  ------               --------------   -----   \n",
            " 0   id_prod              679332 non-null  object  \n",
            " 1   session_id           679332 non-null  object  \n",
            " 2   client_id            679332 non-null  object  \n",
            " 3   sex                  679332 non-null  object  \n",
            " 4   birth                679332 non-null  int64   \n",
            " 5   price                679332 non-null  float64 \n",
            " 6   categ                679332 non-null  float64 \n",
            " 7   age                  679332 non-null  int64   \n",
            " 8   segment              679332 non-null  category\n",
            " 9   montant_total_achat  679332 non-null  float64 \n",
            " 10  freq_achat           679332 non-null  int64   \n",
            " 11  panier_moyen         679332 non-null  float64 \n",
            "dtypes: category(1), float64(4), int64(3), object(4)\n",
            "memory usage: 62.8+ MB\n"
          ]
        }
      ],
      "source": [
        "full_table.info()"
      ]
    },
    {
      "cell_type": "code",
      "execution_count": 251,
      "metadata": {
        "colab": {
          "base_uri": "https://localhost:8080/"
        },
        "id": "2TcpCvKcRBBv",
        "outputId": "a0940962-eef7-4877-a75a-7735d9dcd989"
      },
      "outputs": [
        {
          "output_type": "stream",
          "name": "stdout",
          "text": [
            "numérique:  ['birth', 'price', 'categ', 'age', 'montant_total_achat', 'freq_achat', 'panier_moyen']\n",
            "catégorique :  ['id_prod', 'session_id', 'client_id', 'sex', 'segment']\n"
          ]
        }
      ],
      "source": [
        "# On trie nos colonnes pour déterminer les tests en fonction du type de variable.\n",
        "\n",
        "num_list = []\n",
        "cat_list = []\n",
        "\n",
        "for column in full_table:\n",
        "    if is_numeric_dtype(full_table[column]):\n",
        "        num_list.append(column)\n",
        "    elif is_string_dtype(full_table[column]):\n",
        "        cat_list.append(column)\n",
        "    else:\n",
        "        cat_list.append(column)\n",
        "print(\"numérique: \", num_list)\n",
        "print(\"catégorique : \", cat_list)"
      ]
    },
    {
      "cell_type": "markdown",
      "metadata": {
        "id": "DgWET5ADRBBv"
      },
      "source": [
        "## Test CHI² entre genre et catégorie achetée\n",
        "\n",
        "Un test Chi² est utilisé pour comparer des variables catégoriques entre-elles."
      ]
    },
    {
      "cell_type": "code",
      "execution_count": 252,
      "metadata": {
        "id": "lomWQMczRBBw"
      },
      "outputs": [],
      "source": [
        "from scipy.stats import chi2_contingency\n",
        "from scipy.stats import chi2"
      ]
    },
    {
      "cell_type": "code",
      "execution_count": 253,
      "metadata": {
        "colab": {
          "base_uri": "https://localhost:8080/"
        },
        "id": "yJKcLRiQRBBw",
        "outputId": "74783b78-3ea4-4246-da8e-f072c5e1fb1d"
      },
      "outputs": [
        {
          "output_type": "stream",
          "name": "stdout",
          "text": [
            "categ     0.0     1.0    2.0\n",
            "sex                         \n",
            "f      206220  114899  17283\n",
            "m      209460  112270  19200\n"
          ]
        }
      ],
      "source": [
        "contingency_table = pd.crosstab(full_table.sex, full_table.categ)\n",
        "print(contingency_table)"
      ]
    },
    {
      "cell_type": "markdown",
      "metadata": {
        "id": "JnAZ-NikRBBw"
      },
      "source": [
        "H0 : pas de lien entre genre et catégorie achetée\n",
        "\n",
        "Ha : on rejette H0"
      ]
    },
    {
      "cell_type": "code",
      "execution_count": 254,
      "metadata": {
        "colab": {
          "base_uri": "https://localhost:8080/"
        },
        "id": "FD0jeykRRBBx",
        "outputId": "a51c4d84-8611-4799-ab3c-690fad3790b8"
      },
      "outputs": [
        {
          "output_type": "stream",
          "name": "stdout",
          "text": [
            "1.1989607410166063e-32\n",
            "On rejette H0, on ne peut pas prouver qu'il n'y a pas de lien entre les deux variables\n"
          ]
        }
      ],
      "source": [
        "significance_level = 0.05\n",
        "\n",
        "c, p, dof, expected = chi2_contingency(contingency_table)\n",
        "print(p)\n",
        "if p <= significance_level: \n",
        "    print('On rejette H0, on ne peut pas prouver qu\\'il n\\'y a pas de lien entre les deux variables') \n",
        "else: \n",
        "    print('On accepte H0, il n\\'y a pas de lien entre les deux variables')"
      ]
    },
    {
      "cell_type": "markdown",
      "metadata": {
        "id": "cSGqro0DRBBx"
      },
      "source": [
        "## Test CHI² entre age et catégorie achetée"
      ]
    },
    {
      "cell_type": "code",
      "execution_count": 255,
      "metadata": {
        "colab": {
          "base_uri": "https://localhost:8080/"
        },
        "id": "WiudfixuRBBx",
        "outputId": "6fc627f0-8248-411e-9236-72e6040860e2"
      },
      "outputs": [
        {
          "output_type": "stream",
          "name": "stdout",
          "text": [
            "categ       0.0    1.0    2.0\n",
            "segment                      \n",
            "17-30     16701  29975  33182\n",
            "31-50    319591  98121   1486\n",
            "51 et +   79388  99073   1815\n"
          ]
        }
      ],
      "source": [
        "contingency_table = pd.crosstab(full_table.segment, full_table.categ)\n",
        "print(contingency_table)"
      ]
    },
    {
      "cell_type": "markdown",
      "metadata": {
        "id": "lqMyeF3uRBBy"
      },
      "source": [
        "H0 : pas de lien entre groupe d'âge et catégorie achetée\n",
        "\n",
        "Ha : on rejette H0"
      ]
    },
    {
      "cell_type": "code",
      "execution_count": 256,
      "metadata": {
        "colab": {
          "base_uri": "https://localhost:8080/"
        },
        "id": "6k7FcQ23RBBy",
        "outputId": "39963a27-02dd-4fcc-e796-47b2fcba24ac"
      },
      "outputs": [
        {
          "output_type": "stream",
          "name": "stdout",
          "text": [
            "0.0\n",
            "On rejette H0, on ne peut pas prouver qu'il n'y a pas de lien entre les deux variables\n"
          ]
        }
      ],
      "source": [
        "significance_level = 0.05\n",
        "\n",
        "c, p, dof, expected = chi2_contingency(contingency_table)\n",
        "print(p)\n",
        "if p <= significance_level: \n",
        "    print('On rejette H0, on ne peut pas prouver qu\\'il n\\'y a pas de lien entre les deux variables') \n",
        "else: \n",
        "    print('On accepte H0, il n\\'y a pas de lien entre les deux variables')"
      ]
    },
    {
      "cell_type": "markdown",
      "metadata": {
        "id": "sYe-kcfCRBBy"
      },
      "source": [
        "## Test correlation Pearson entre l'age (num) et la frequence d'achat\n",
        "La correlation de Pearson compare 2 variables numériques"
      ]
    },
    {
      "cell_type": "code",
      "execution_count": 257,
      "metadata": {
        "colab": {
          "base_uri": "https://localhost:8080/"
        },
        "id": "-pVVvMRSRBBy",
        "outputId": "ae663a7a-344b-439c-cc12-2ce390d8985c"
      },
      "outputs": [
        {
          "output_type": "stream",
          "name": "stdout",
          "text": [
            "-0.018608958104244608\n"
          ]
        }
      ],
      "source": [
        "age = full_table[\"age\"]\n",
        "freq = full_table[\"freq_achat\"]\n",
        "\n",
        "from scipy.stats import pearsonr\n",
        "corr, _ = pearsonr(age, freq)\n",
        "\n",
        "print(corr)"
      ]
    },
    {
      "cell_type": "markdown",
      "metadata": {
        "id": "BMMSlBcmRBBz"
      },
      "source": [
        "La correlation est proche de 0, on peut donc dire qu'il n'y a pas de lien entre l'âge des clients et la fréquence de leurs achats."
      ]
    },
    {
      "cell_type": "markdown",
      "metadata": {
        "id": "V3zgCrPJRBBz"
      },
      "source": [
        "## Test de normalité : Kolmogorov-Smirnov"
      ]
    },
    {
      "cell_type": "code",
      "execution_count": 258,
      "metadata": {
        "colab": {
          "base_uri": "https://localhost:8080/"
        },
        "id": "spu7MpO7RBBz",
        "outputId": "25976d94-26b9-4a22-f87a-ccc35e953cb8"
      },
      "outputs": [
        {
          "output_type": "stream",
          "name": "stdout",
          "text": [
            "birth\n",
            "On ne peut pas dire que la distribution est normale.\n",
            "price\n",
            "On ne peut pas dire que la distribution est normale.\n",
            "categ\n",
            "On ne peut pas dire que la distribution est normale.\n",
            "age\n",
            "On ne peut pas dire que la distribution est normale.\n",
            "montant_total_achat\n",
            "On ne peut pas dire que la distribution est normale.\n",
            "freq_achat\n",
            "On ne peut pas dire que la distribution est normale.\n",
            "panier_moyen\n",
            "On ne peut pas dire que la distribution est normale.\n"
          ]
        }
      ],
      "source": [
        "# Pour pouvoir utiliser les test ANOVA, il faut vérifier que les valeurs de nos variables sont normalement distribuées. Pour cela nous utilisons un test de kolmogorov-smirnov.\n",
        "from numpy.random import normal\n",
        "from scipy.stats import kstest\n",
        "\n",
        "H0 = 'La distribution est normale.'\n",
        "Ha = 'On ne peut pas dire que la distribution est normale.'\n",
        "\n",
        "def KS_test(data):\n",
        "    data = data.to_numpy()\n",
        "    k = kstest(data, 'norm')\n",
        "    if k.pvalue < 0.05:\n",
        "        print(Ha)\n",
        "    else:\n",
        "        print(H0)\n",
        "\n",
        "for variable in num_list:\n",
        "    print(variable)\n",
        "    KS_test(full_table[variable])\n",
        "    \n",
        "\n"
      ]
    },
    {
      "cell_type": "markdown",
      "metadata": {
        "id": "eoPrna0ZRBB0"
      },
      "source": [
        "## Test de Kruskal-Wallis"
      ]
    },
    {
      "cell_type": "markdown",
      "metadata": {
        "id": "D2lJ41e4RBB0"
      },
      "source": [
        "Les valeurs ne suivent pas une distribution normale, nous allons devoir utiliser l'équivalent non paramétrique de l'ANOVA : le test de Kruskal-Wallis"
      ]
    },
    {
      "cell_type": "markdown",
      "metadata": {
        "id": "27A-VLRERBB0"
      },
      "source": [
        "### Test entre les montants totaux des achats des clients, en fonction des groupes d'âge auxquels ils appartiennent."
      ]
    },
    {
      "cell_type": "code",
      "execution_count": 259,
      "metadata": {
        "colab": {
          "base_uri": "https://localhost:8080/"
        },
        "id": "pniqTcNsRBB1",
        "outputId": "6219bc28-c32f-4512-9f6f-0fffbf37f4aa"
      },
      "outputs": [
        {
          "output_type": "stream",
          "name": "stdout",
          "text": [
            "P Value : 0.0\n",
            "Les médianes des 3 groupes ne sont pas identiques, il y a sûrement un lien entre le groupe d'âge et la variable comparée.\n"
          ]
        }
      ],
      "source": [
        "from scipy import stats\n",
        "\n",
        "full_table[\"segment\"] = full_table[\"segment\"].astype(str)\n",
        "full_table[\"segment\"].unique()\n",
        "\n",
        "\n",
        "H0 = \"Les médianes des 3 groupes sont identiques.\"\n",
        "\n",
        "Ha = \"Les médianes des 3 groupes ne sont pas identiques, il y a sûrement un lien entre le groupe d\\'âge et la variable comparée.\"\n",
        "group1 = full_table[full_table[\"segment\"] == \"17-30\"][\"montant_total_achat\"]\n",
        "group2 = full_table[full_table[\"segment\"] == \"31-50\"][\"montant_total_achat\"]\n",
        "group3 = full_table[full_table[\"segment\"] == \"51 et +\"][\"montant_total_achat\"]\n",
        "\n",
        "a = stats.kruskal(group1, group2, group3)\n",
        "print(\"P Value :\",a.pvalue)\n",
        "if a.pvalue < 0.05:\n",
        "    print(Ha)\n",
        "else:\n",
        "    print(H0)"
      ]
    },
    {
      "cell_type": "markdown",
      "metadata": {
        "id": "SMoSue8YRBB1"
      },
      "source": [
        "### Test entre la fréquence des achats des clients, en fonction des groupes d'âge auxquels ils appartiennent."
      ]
    },
    {
      "cell_type": "code",
      "execution_count": 260,
      "metadata": {
        "colab": {
          "base_uri": "https://localhost:8080/"
        },
        "id": "mU2T-6rrRBB1",
        "outputId": "c1c28d2f-1ce4-4a71-f7f1-b4c4356ff2ba"
      },
      "outputs": [
        {
          "output_type": "stream",
          "name": "stdout",
          "text": [
            "P Value : 0.0\n",
            "Les médianes des 3 groupes ne sont pas identiques, il y a sûrement un lien entre le groupe d'âge et la variable comparée.\n"
          ]
        }
      ],
      "source": [
        "group1 = full_table[full_table[\"segment\"] == \"17-30\"][\"freq_achat\"]\n",
        "group2 = full_table[full_table[\"segment\"] == \"31-50\"][\"freq_achat\"]\n",
        "group3 = full_table[full_table[\"segment\"] == \"51 et +\"][\"freq_achat\"]\n",
        "\n",
        "a = stats.kruskal(group1, group2, group3)\n",
        "print(\"P Value :\",a.pvalue)\n",
        "if a.pvalue < 0.05:\n",
        "    print(Ha)\n",
        "else:\n",
        "    print(H0)"
      ]
    },
    {
      "cell_type": "markdown",
      "metadata": {
        "id": "NYrGm5zZRBB2"
      },
      "source": [
        "### Test entre le montant du panier moyen des clients, en fonction des groupes d'âge auxquels ils appartiennent."
      ]
    },
    {
      "cell_type": "code",
      "execution_count": 261,
      "metadata": {
        "colab": {
          "base_uri": "https://localhost:8080/"
        },
        "id": "BN5wdzOMRBB2",
        "outputId": "023b855c-9e3c-4893-d62b-960674f8a3f5"
      },
      "outputs": [
        {
          "output_type": "stream",
          "name": "stdout",
          "text": [
            "P Value : 0.0\n",
            "Les médianes des 3 groupes ne sont pas identiques, il y a sûrement un lien entre le groupe d'âge et la variable comparée.\n"
          ]
        }
      ],
      "source": [
        "group1 = full_table[full_table[\"segment\"] == \"17-30\"][\"panier_moyen\"]\n",
        "group2 = full_table[full_table[\"segment\"] == \"31-50\"][\"panier_moyen\"]\n",
        "group3 = full_table[full_table[\"segment\"] == \"51 et +\"][\"panier_moyen\"]\n",
        "\n",
        "a = stats.kruskal(group1, group2, group3)\n",
        "print(\"P Value :\",a.pvalue)\n",
        "if a.pvalue < 0.05:\n",
        "    print(Ha)\n",
        "else:\n",
        "    print(H0)"
      ]
    }
  ],
  "metadata": {
    "interpreter": {
      "hash": "3517812652b21a22ccb91f61679567c7098b9ad5766b77ce3612729284ffc94c"
    },
    "kernelspec": {
      "display_name": "Python 3.9.7 ('base')",
      "language": "python",
      "name": "python3"
    },
    "language_info": {
      "codemirror_mode": {
        "name": "ipython",
        "version": 3
      },
      "file_extension": ".py",
      "mimetype": "text/x-python",
      "name": "python",
      "nbconvert_exporter": "python",
      "pygments_lexer": "ipython3",
      "version": "3.9.12"
    },
    "orig_nbformat": 4,
    "colab": {
      "name": "DEPUYDT_Quentin_1_notebook_052022.ipynb",
      "provenance": [],
      "collapsed_sections": [
        "xtgitl4WRBBl",
        "NKRsKzG0RBBu",
        "DgWET5ADRBBv",
        "cSGqro0DRBBx",
        "sYe-kcfCRBBy",
        "V3zgCrPJRBBz",
        "eoPrna0ZRBB0",
        "27A-VLRERBB0",
        "SMoSue8YRBB1",
        "NYrGm5zZRBB2"
      ]
    }
  },
  "nbformat": 4,
  "nbformat_minor": 0
}