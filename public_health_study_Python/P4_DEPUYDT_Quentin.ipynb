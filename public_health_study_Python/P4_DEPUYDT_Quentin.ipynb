{
 "cells": [
  {
   "cell_type": "code",
   "execution_count": 1,
   "id": "02995249",
   "metadata": {},
   "outputs": [],
   "source": [
    "%matplotlib inline\n",
    "import pandas as pd\n",
    "import numpy as np\n",
    "import matplotlib as mpl\n",
    "import matplotlib.pyplot as plt"
   ]
  },
  {
   "cell_type": "code",
   "execution_count": 2,
   "id": "94aceb9f",
   "metadata": {},
   "outputs": [],
   "source": [
    "#On importe les fichiers CSV sous forme de dataframes\n",
    "aide_alimentaire = pd.read_csv(\"aide_alimentaire.csv\")\n",
    "dispo_alimentaire = pd.read_csv(\"dispo_alimentaire.csv\")\n",
    "population = pd.read_csv(\"population.csv\")\n",
    "sous_nutrition = pd.read_csv(\"sous_nutrition.csv\")"
   ]
  },
  {
   "cell_type": "markdown",
   "id": "0b7ebc28",
   "metadata": {},
   "source": [
    "On regarde à quoi ressemblent les tables pour voir si des modifications sont à prévoir."
   ]
  },
  {
   "cell_type": "code",
   "execution_count": 3,
   "id": "423cdd71",
   "metadata": {},
   "outputs": [
    {
     "data": {
      "text/html": [
       "<div>\n",
       "<style scoped>\n",
       "    .dataframe tbody tr th:only-of-type {\n",
       "        vertical-align: middle;\n",
       "    }\n",
       "\n",
       "    .dataframe tbody tr th {\n",
       "        vertical-align: top;\n",
       "    }\n",
       "\n",
       "    .dataframe thead th {\n",
       "        text-align: right;\n",
       "    }\n",
       "</style>\n",
       "<table border=\"1\" class=\"dataframe\">\n",
       "  <thead>\n",
       "    <tr style=\"text-align: right;\">\n",
       "      <th></th>\n",
       "      <th>Pays bénéficiaire</th>\n",
       "      <th>Année</th>\n",
       "      <th>Produit</th>\n",
       "      <th>Valeur</th>\n",
       "    </tr>\n",
       "  </thead>\n",
       "  <tbody>\n",
       "    <tr>\n",
       "      <th>0</th>\n",
       "      <td>Afghanistan</td>\n",
       "      <td>2013</td>\n",
       "      <td>Autres non-céréales</td>\n",
       "      <td>682</td>\n",
       "    </tr>\n",
       "    <tr>\n",
       "      <th>1</th>\n",
       "      <td>Afghanistan</td>\n",
       "      <td>2014</td>\n",
       "      <td>Autres non-céréales</td>\n",
       "      <td>335</td>\n",
       "    </tr>\n",
       "    <tr>\n",
       "      <th>2</th>\n",
       "      <td>Afghanistan</td>\n",
       "      <td>2013</td>\n",
       "      <td>Blé et Farin</td>\n",
       "      <td>39224</td>\n",
       "    </tr>\n",
       "    <tr>\n",
       "      <th>3</th>\n",
       "      <td>Afghanistan</td>\n",
       "      <td>2014</td>\n",
       "      <td>Blé et Farin</td>\n",
       "      <td>15160</td>\n",
       "    </tr>\n",
       "    <tr>\n",
       "      <th>4</th>\n",
       "      <td>Afghanistan</td>\n",
       "      <td>2013</td>\n",
       "      <td>Céréales</td>\n",
       "      <td>40504</td>\n",
       "    </tr>\n",
       "  </tbody>\n",
       "</table>\n",
       "</div>"
      ],
      "text/plain": [
       "  Pays bénéficiaire  Année              Produit  Valeur\n",
       "0       Afghanistan   2013  Autres non-céréales     682\n",
       "1       Afghanistan   2014  Autres non-céréales     335\n",
       "2       Afghanistan   2013         Blé et Farin   39224\n",
       "3       Afghanistan   2014         Blé et Farin   15160\n",
       "4       Afghanistan   2013             Céréales   40504"
      ]
     },
     "execution_count": 3,
     "metadata": {},
     "output_type": "execute_result"
    }
   ],
   "source": [
    "aide_alimentaire.head()"
   ]
  },
  {
   "cell_type": "code",
   "execution_count": 4,
   "id": "d013fa42",
   "metadata": {},
   "outputs": [
    {
     "data": {
      "text/html": [
       "<div>\n",
       "<style scoped>\n",
       "    .dataframe tbody tr th:only-of-type {\n",
       "        vertical-align: middle;\n",
       "    }\n",
       "\n",
       "    .dataframe tbody tr th {\n",
       "        vertical-align: top;\n",
       "    }\n",
       "\n",
       "    .dataframe thead th {\n",
       "        text-align: right;\n",
       "    }\n",
       "</style>\n",
       "<table border=\"1\" class=\"dataframe\">\n",
       "  <thead>\n",
       "    <tr style=\"text-align: right;\">\n",
       "      <th></th>\n",
       "      <th>Zone</th>\n",
       "      <th>Produit</th>\n",
       "      <th>Origine</th>\n",
       "      <th>Aliments pour animaux</th>\n",
       "      <th>Autres Utilisations</th>\n",
       "      <th>Disponibilité alimentaire (Kcal/personne/jour)</th>\n",
       "      <th>Disponibilité alimentaire en quantité (kg/personne/an)</th>\n",
       "      <th>Disponibilité de matière grasse en quantité (g/personne/jour)</th>\n",
       "      <th>Disponibilité de protéines en quantité (g/personne/jour)</th>\n",
       "      <th>Disponibilité intérieure</th>\n",
       "      <th>Exportations - Quantité</th>\n",
       "      <th>Importations - Quantité</th>\n",
       "      <th>Nourriture</th>\n",
       "      <th>Pertes</th>\n",
       "      <th>Production</th>\n",
       "      <th>Semences</th>\n",
       "      <th>Traitement</th>\n",
       "      <th>Variation de stock</th>\n",
       "    </tr>\n",
       "  </thead>\n",
       "  <tbody>\n",
       "    <tr>\n",
       "      <th>0</th>\n",
       "      <td>Afghanistan</td>\n",
       "      <td>Abats Comestible</td>\n",
       "      <td>animale</td>\n",
       "      <td>NaN</td>\n",
       "      <td>NaN</td>\n",
       "      <td>5.0</td>\n",
       "      <td>1.72</td>\n",
       "      <td>0.20</td>\n",
       "      <td>0.77</td>\n",
       "      <td>53.0</td>\n",
       "      <td>NaN</td>\n",
       "      <td>NaN</td>\n",
       "      <td>53.0</td>\n",
       "      <td>NaN</td>\n",
       "      <td>53.0</td>\n",
       "      <td>NaN</td>\n",
       "      <td>NaN</td>\n",
       "      <td>NaN</td>\n",
       "    </tr>\n",
       "    <tr>\n",
       "      <th>1</th>\n",
       "      <td>Afghanistan</td>\n",
       "      <td>Agrumes, Autres</td>\n",
       "      <td>vegetale</td>\n",
       "      <td>NaN</td>\n",
       "      <td>NaN</td>\n",
       "      <td>1.0</td>\n",
       "      <td>1.29</td>\n",
       "      <td>0.01</td>\n",
       "      <td>0.02</td>\n",
       "      <td>41.0</td>\n",
       "      <td>2.0</td>\n",
       "      <td>40.0</td>\n",
       "      <td>39.0</td>\n",
       "      <td>2.0</td>\n",
       "      <td>3.0</td>\n",
       "      <td>NaN</td>\n",
       "      <td>NaN</td>\n",
       "      <td>NaN</td>\n",
       "    </tr>\n",
       "    <tr>\n",
       "      <th>2</th>\n",
       "      <td>Afghanistan</td>\n",
       "      <td>Aliments pour enfants</td>\n",
       "      <td>vegetale</td>\n",
       "      <td>NaN</td>\n",
       "      <td>NaN</td>\n",
       "      <td>1.0</td>\n",
       "      <td>0.06</td>\n",
       "      <td>0.01</td>\n",
       "      <td>0.03</td>\n",
       "      <td>2.0</td>\n",
       "      <td>NaN</td>\n",
       "      <td>2.0</td>\n",
       "      <td>2.0</td>\n",
       "      <td>NaN</td>\n",
       "      <td>NaN</td>\n",
       "      <td>NaN</td>\n",
       "      <td>NaN</td>\n",
       "      <td>NaN</td>\n",
       "    </tr>\n",
       "    <tr>\n",
       "      <th>3</th>\n",
       "      <td>Afghanistan</td>\n",
       "      <td>Ananas</td>\n",
       "      <td>vegetale</td>\n",
       "      <td>NaN</td>\n",
       "      <td>NaN</td>\n",
       "      <td>0.0</td>\n",
       "      <td>0.00</td>\n",
       "      <td>NaN</td>\n",
       "      <td>NaN</td>\n",
       "      <td>0.0</td>\n",
       "      <td>NaN</td>\n",
       "      <td>0.0</td>\n",
       "      <td>0.0</td>\n",
       "      <td>NaN</td>\n",
       "      <td>NaN</td>\n",
       "      <td>NaN</td>\n",
       "      <td>NaN</td>\n",
       "      <td>NaN</td>\n",
       "    </tr>\n",
       "    <tr>\n",
       "      <th>4</th>\n",
       "      <td>Afghanistan</td>\n",
       "      <td>Bananes</td>\n",
       "      <td>vegetale</td>\n",
       "      <td>NaN</td>\n",
       "      <td>NaN</td>\n",
       "      <td>4.0</td>\n",
       "      <td>2.70</td>\n",
       "      <td>0.02</td>\n",
       "      <td>0.05</td>\n",
       "      <td>82.0</td>\n",
       "      <td>NaN</td>\n",
       "      <td>82.0</td>\n",
       "      <td>82.0</td>\n",
       "      <td>NaN</td>\n",
       "      <td>NaN</td>\n",
       "      <td>NaN</td>\n",
       "      <td>NaN</td>\n",
       "      <td>NaN</td>\n",
       "    </tr>\n",
       "  </tbody>\n",
       "</table>\n",
       "</div>"
      ],
      "text/plain": [
       "          Zone                Produit   Origine  Aliments pour animaux  \\\n",
       "0  Afghanistan       Abats Comestible   animale                    NaN   \n",
       "1  Afghanistan        Agrumes, Autres  vegetale                    NaN   \n",
       "2  Afghanistan  Aliments pour enfants  vegetale                    NaN   \n",
       "3  Afghanistan                 Ananas  vegetale                    NaN   \n",
       "4  Afghanistan                Bananes  vegetale                    NaN   \n",
       "\n",
       "   Autres Utilisations  Disponibilité alimentaire (Kcal/personne/jour)  \\\n",
       "0                  NaN                                             5.0   \n",
       "1                  NaN                                             1.0   \n",
       "2                  NaN                                             1.0   \n",
       "3                  NaN                                             0.0   \n",
       "4                  NaN                                             4.0   \n",
       "\n",
       "   Disponibilité alimentaire en quantité (kg/personne/an)  \\\n",
       "0                                               1.72        \n",
       "1                                               1.29        \n",
       "2                                               0.06        \n",
       "3                                               0.00        \n",
       "4                                               2.70        \n",
       "\n",
       "   Disponibilité de matière grasse en quantité (g/personne/jour)  \\\n",
       "0                                               0.20               \n",
       "1                                               0.01               \n",
       "2                                               0.01               \n",
       "3                                                NaN               \n",
       "4                                               0.02               \n",
       "\n",
       "   Disponibilité de protéines en quantité (g/personne/jour)  \\\n",
       "0                                               0.77          \n",
       "1                                               0.02          \n",
       "2                                               0.03          \n",
       "3                                                NaN          \n",
       "4                                               0.05          \n",
       "\n",
       "   Disponibilité intérieure  Exportations - Quantité  Importations - Quantité  \\\n",
       "0                      53.0                      NaN                      NaN   \n",
       "1                      41.0                      2.0                     40.0   \n",
       "2                       2.0                      NaN                      2.0   \n",
       "3                       0.0                      NaN                      0.0   \n",
       "4                      82.0                      NaN                     82.0   \n",
       "\n",
       "   Nourriture  Pertes  Production  Semences  Traitement  Variation de stock  \n",
       "0        53.0     NaN        53.0       NaN         NaN                 NaN  \n",
       "1        39.0     2.0         3.0       NaN         NaN                 NaN  \n",
       "2         2.0     NaN         NaN       NaN         NaN                 NaN  \n",
       "3         0.0     NaN         NaN       NaN         NaN                 NaN  \n",
       "4        82.0     NaN         NaN       NaN         NaN                 NaN  "
      ]
     },
     "execution_count": 4,
     "metadata": {},
     "output_type": "execute_result"
    }
   ],
   "source": [
    "dispo_alimentaire.head()"
   ]
  },
  {
   "cell_type": "code",
   "execution_count": 5,
   "id": "17e7e46a",
   "metadata": {},
   "outputs": [
    {
     "data": {
      "text/html": [
       "<div>\n",
       "<style scoped>\n",
       "    .dataframe tbody tr th:only-of-type {\n",
       "        vertical-align: middle;\n",
       "    }\n",
       "\n",
       "    .dataframe tbody tr th {\n",
       "        vertical-align: top;\n",
       "    }\n",
       "\n",
       "    .dataframe thead th {\n",
       "        text-align: right;\n",
       "    }\n",
       "</style>\n",
       "<table border=\"1\" class=\"dataframe\">\n",
       "  <thead>\n",
       "    <tr style=\"text-align: right;\">\n",
       "      <th></th>\n",
       "      <th>Zone</th>\n",
       "      <th>Année</th>\n",
       "      <th>Valeur</th>\n",
       "    </tr>\n",
       "  </thead>\n",
       "  <tbody>\n",
       "    <tr>\n",
       "      <th>0</th>\n",
       "      <td>Afghanistan</td>\n",
       "      <td>2013</td>\n",
       "      <td>32269.589</td>\n",
       "    </tr>\n",
       "    <tr>\n",
       "      <th>1</th>\n",
       "      <td>Afghanistan</td>\n",
       "      <td>2014</td>\n",
       "      <td>33370.794</td>\n",
       "    </tr>\n",
       "    <tr>\n",
       "      <th>2</th>\n",
       "      <td>Afghanistan</td>\n",
       "      <td>2015</td>\n",
       "      <td>34413.603</td>\n",
       "    </tr>\n",
       "    <tr>\n",
       "      <th>3</th>\n",
       "      <td>Afghanistan</td>\n",
       "      <td>2016</td>\n",
       "      <td>35383.032</td>\n",
       "    </tr>\n",
       "    <tr>\n",
       "      <th>4</th>\n",
       "      <td>Afghanistan</td>\n",
       "      <td>2017</td>\n",
       "      <td>36296.113</td>\n",
       "    </tr>\n",
       "  </tbody>\n",
       "</table>\n",
       "</div>"
      ],
      "text/plain": [
       "          Zone  Année     Valeur\n",
       "0  Afghanistan   2013  32269.589\n",
       "1  Afghanistan   2014  33370.794\n",
       "2  Afghanistan   2015  34413.603\n",
       "3  Afghanistan   2016  35383.032\n",
       "4  Afghanistan   2017  36296.113"
      ]
     },
     "execution_count": 5,
     "metadata": {},
     "output_type": "execute_result"
    }
   ],
   "source": [
    "population.head()"
   ]
  },
  {
   "cell_type": "code",
   "execution_count": 6,
   "id": "0045faa7",
   "metadata": {},
   "outputs": [
    {
     "data": {
      "text/html": [
       "<div>\n",
       "<style scoped>\n",
       "    .dataframe tbody tr th:only-of-type {\n",
       "        vertical-align: middle;\n",
       "    }\n",
       "\n",
       "    .dataframe tbody tr th {\n",
       "        vertical-align: top;\n",
       "    }\n",
       "\n",
       "    .dataframe thead th {\n",
       "        text-align: right;\n",
       "    }\n",
       "</style>\n",
       "<table border=\"1\" class=\"dataframe\">\n",
       "  <thead>\n",
       "    <tr style=\"text-align: right;\">\n",
       "      <th></th>\n",
       "      <th>Zone</th>\n",
       "      <th>Année</th>\n",
       "      <th>Valeur</th>\n",
       "    </tr>\n",
       "  </thead>\n",
       "  <tbody>\n",
       "    <tr>\n",
       "      <th>0</th>\n",
       "      <td>Afghanistan</td>\n",
       "      <td>2012-2014</td>\n",
       "      <td>8.6</td>\n",
       "    </tr>\n",
       "    <tr>\n",
       "      <th>1</th>\n",
       "      <td>Afghanistan</td>\n",
       "      <td>2013-2015</td>\n",
       "      <td>8.8</td>\n",
       "    </tr>\n",
       "    <tr>\n",
       "      <th>2</th>\n",
       "      <td>Afghanistan</td>\n",
       "      <td>2014-2016</td>\n",
       "      <td>8.9</td>\n",
       "    </tr>\n",
       "    <tr>\n",
       "      <th>3</th>\n",
       "      <td>Afghanistan</td>\n",
       "      <td>2015-2017</td>\n",
       "      <td>9.7</td>\n",
       "    </tr>\n",
       "    <tr>\n",
       "      <th>4</th>\n",
       "      <td>Afghanistan</td>\n",
       "      <td>2016-2018</td>\n",
       "      <td>10.5</td>\n",
       "    </tr>\n",
       "  </tbody>\n",
       "</table>\n",
       "</div>"
      ],
      "text/plain": [
       "          Zone      Année Valeur\n",
       "0  Afghanistan  2012-2014    8.6\n",
       "1  Afghanistan  2013-2015    8.8\n",
       "2  Afghanistan  2014-2016    8.9\n",
       "3  Afghanistan  2015-2017    9.7\n",
       "4  Afghanistan  2016-2018   10.5"
      ]
     },
     "execution_count": 6,
     "metadata": {},
     "output_type": "execute_result"
    }
   ],
   "source": [
    "sous_nutrition.head()"
   ]
  },
  {
   "cell_type": "markdown",
   "id": "2905c5ac",
   "metadata": {},
   "source": [
    "On se rend compte qu'il y a plusieurs modifications à faire pour améliorer la compréhension globale des tables.\n",
    "\n",
    "Sur l'ensemble des tables:\n",
    "- On supprime les accents pour éviter de potentiels problèmes."
   ]
  },
  {
   "cell_type": "code",
   "execution_count": 7,
   "id": "9b4624ca",
   "metadata": {},
   "outputs": [],
   "source": [
    "aide_alimentaire = aide_alimentaire.rename(columns={\"Pays bénéficiaire\": \"Pays beneficiaire\", \"Année\": \"Annee\"})\n",
    "dispo_alimentaire = dispo_alimentaire.rename(columns={\"Disponibilité alimentaire (Kcal/personne/jour)\": \"Disponibilite alimentaire (Kcal/personne/jour)\", \"Disponibilité alimentaire en quantité (kg/personne/an)\": \"Disponibilite alimentaire en quantite (kg/personne/an)\", \"Disponibilité de matière grasse en quantité (g/personne/jour)\": \"Disponibilite de matiere grasse en quantite (g/personne/jour)\", \"Disponibilité de protéines en quantité (g/personne/jour)\": \"Disponibilite de proteines en quantite (g/personne/jour)\", \"Disponibilité intérieure\": \"Disponibilite interieure\", \"Exportations - Quantité\": \"Exportations - Quantite\", \"Importations - Quantité\": \"Importations - Quantite\"})\n",
    "population = population.rename(columns={\"Année\": \"Annee\"})\n",
    "sous_nutrition = sous_nutrition.rename(columns={\"Année\": \"Annee\"})"
   ]
  },
  {
   "cell_type": "markdown",
   "id": "e92ff7b2",
   "metadata": {},
   "source": [
    "Table aide_alimentaire:\n",
    "- On change le nom de la colonne \"Pays Bénéficiaire\" en \"Zone\" pour correspondre avec les 3 autres tables.\n",
    "- On explicite la colonne \"Valeur\" en \"Aide en kg\".\n",
    "- On la multiplie par 1 000 pour avoir les valeurs en kg."
   ]
  },
  {
   "cell_type": "code",
   "execution_count": 8,
   "id": "2e5cf640",
   "metadata": {},
   "outputs": [],
   "source": [
    "aide_alimentaire = aide_alimentaire.rename(columns={\"Pays beneficiaire\": \"Zone\", \"Valeur\": \"Aide en kg\"})\n",
    "aide_alimentaire[\"Aide en kg\"] *= 1000"
   ]
  },
  {
   "cell_type": "markdown",
   "id": "7b787768",
   "metadata": {},
   "source": [
    "Table dispo_alimentaire:\n",
    "- On remplace les valeurs NaN par des 0 pour que les calculs se fassent sans problèmes.\n",
    "- Pour avoir toutes les valeurs en kg, on multiplie par 1 000 000 toutes les colonnes dont l'unité est milliers de tonnes."
   ]
  },
  {
   "cell_type": "code",
   "execution_count": 9,
   "id": "2d251e84",
   "metadata": {},
   "outputs": [],
   "source": [
    "dispo_alimentaire.fillna(0, inplace=True)\n",
    "\n",
    "colonnes_a_multi = [\"Aliments pour animaux\", \"Disponibilite interieure\", \"Exportations - Quantite\", \"Importations - Quantite\", \"Nourriture\", \"Pertes\", \"Production\", \"Semences\", \"Traitement\", \"Variation de stock\", \"Autres Utilisations\"]\n",
    "\n",
    "for foo in colonnes_a_multi:\n",
    "    dispo_alimentaire[foo] *= 1000000"
   ]
  },
  {
   "cell_type": "markdown",
   "id": "b0e817d0",
   "metadata": {},
   "source": [
    "Table population:\n",
    "- On change le nom de la colonne \"Valeur\" en \"Population\".\n",
    "- On multiplie par 1 000 pour avoir la population en habitants."
   ]
  },
  {
   "cell_type": "code",
   "execution_count": 10,
   "id": "08ed7ac5",
   "metadata": {},
   "outputs": [],
   "source": [
    "population = population.rename(columns={\"Valeur\": \"Population\"})\n",
    "population[\"Population\"] *= 1000"
   ]
  },
  {
   "cell_type": "markdown",
   "id": "df5d4907",
   "metadata": {},
   "source": [
    "Table sous_nutrition:\n",
    "- Après avoir effectué un sous_nutrition.info(), on se rend compte que la colonne \"Valeur\" n'est pas considérée comme numérique. On la convertit donc en nombre et on remplace les valeurs nulles par des 0.\n",
    "- On change le nom de la colonne \"Valeur\" en \"Pop_ss_nutrition\".\n",
    "- On multiplie par 1 000 000 pour avoir les valeurs en habitants.\n",
    "- Pour avoir une année précise plutôt qu'un interval, on sépare les années dans la colonne \"Annee\" grâce à l'application d'un .split() sur le \"-\" entre les années puis on fait la moyenne des 2 valeurs."
   ]
  },
  {
   "cell_type": "code",
   "execution_count": 11,
   "id": "8291e856",
   "metadata": {},
   "outputs": [],
   "source": [
    "sous_nutrition[\"Valeur\"] = pd.to_numeric(sous_nutrition[\"Valeur\"], errors=\"coerce\")\n",
    "sous_nutrition.fillna(0, inplace=True)\n",
    "sous_nutrition = sous_nutrition.rename(columns={\"Valeur\": \"Pop_ss_nutrition\"})\n",
    "sous_nutrition[\"Pop_ss_nutrition\"] *= 1000000\n",
    "sous_nutrition[\"Annee\"] = sous_nutrition[\"Annee\"].apply(lambda cell: int((int(cell.split('-')[1]) + int(cell.split('-')[0])) / 2))"
   ]
  },
  {
   "cell_type": "markdown",
   "id": "45420c6b",
   "metadata": {},
   "source": [
    "## DEMANDES DE MARC\n",
    "\n",
    "\n",
    "### Proportion de personnes en sous nutrition dans le monde :"
   ]
  },
  {
   "cell_type": "markdown",
   "id": "6ad791ff",
   "metadata": {},
   "source": [
    "On joint les tables population et sous_nutrition pour calculer la proportion de personne en sous nutrition dans le monde"
   ]
  },
  {
   "cell_type": "code",
   "execution_count": 12,
   "id": "209010f4",
   "metadata": {},
   "outputs": [],
   "source": [
    "df_pop_ss_nut = pd.merge(population, sous_nutrition, on='Zone', how='inner', suffixes=('_pop', '_ss_nut'))"
   ]
  },
  {
   "cell_type": "markdown",
   "id": "09ea25aa",
   "metadata": {},
   "source": [
    "On supprime toutes les lignes ayant des années qui différent entre les deux tables jointes"
   ]
  },
  {
   "cell_type": "code",
   "execution_count": 13,
   "id": "9c8215a8",
   "metadata": {},
   "outputs": [],
   "source": [
    "df_pop_ss_nut = df_pop_ss_nut.drop(df_pop_ss_nut[df_pop_ss_nut.Annee_pop != df_pop_ss_nut.Annee_ss_nut].index)"
   ]
  },
  {
   "cell_type": "markdown",
   "id": "b35a87f7",
   "metadata": {},
   "source": [
    "On cible l'année 2017 et on supprime les colonnes \"Annee\" devenues superflues."
   ]
  },
  {
   "cell_type": "code",
   "execution_count": 14,
   "id": "7fc05e5b",
   "metadata": {},
   "outputs": [
    {
     "data": {
      "text/html": [
       "<div>\n",
       "<style scoped>\n",
       "    .dataframe tbody tr th:only-of-type {\n",
       "        vertical-align: middle;\n",
       "    }\n",
       "\n",
       "    .dataframe tbody tr th {\n",
       "        vertical-align: top;\n",
       "    }\n",
       "\n",
       "    .dataframe thead th {\n",
       "        text-align: right;\n",
       "    }\n",
       "</style>\n",
       "<table border=\"1\" class=\"dataframe\">\n",
       "  <thead>\n",
       "    <tr style=\"text-align: right;\">\n",
       "      <th></th>\n",
       "      <th>Zone</th>\n",
       "      <th>Population</th>\n",
       "      <th>Pop_ss_nutrition</th>\n",
       "    </tr>\n",
       "  </thead>\n",
       "  <tbody>\n",
       "    <tr>\n",
       "      <th>28</th>\n",
       "      <td>Afghanistan</td>\n",
       "      <td>36296113.0</td>\n",
       "      <td>10500000.0</td>\n",
       "    </tr>\n",
       "    <tr>\n",
       "      <th>64</th>\n",
       "      <td>Afrique du Sud</td>\n",
       "      <td>57009756.0</td>\n",
       "      <td>3100000.0</td>\n",
       "    </tr>\n",
       "    <tr>\n",
       "      <th>100</th>\n",
       "      <td>Albanie</td>\n",
       "      <td>2884169.0</td>\n",
       "      <td>100000.0</td>\n",
       "    </tr>\n",
       "    <tr>\n",
       "      <th>136</th>\n",
       "      <td>Algérie</td>\n",
       "      <td>41389189.0</td>\n",
       "      <td>1300000.0</td>\n",
       "    </tr>\n",
       "    <tr>\n",
       "      <th>172</th>\n",
       "      <td>Allemagne</td>\n",
       "      <td>82658409.0</td>\n",
       "      <td>0.0</td>\n",
       "    </tr>\n",
       "  </tbody>\n",
       "</table>\n",
       "</div>"
      ],
      "text/plain": [
       "               Zone  Population  Pop_ss_nutrition\n",
       "28      Afghanistan  36296113.0        10500000.0\n",
       "64   Afrique du Sud  57009756.0         3100000.0\n",
       "100         Albanie   2884169.0          100000.0\n",
       "136         Algérie  41389189.0         1300000.0\n",
       "172       Allemagne  82658409.0               0.0"
      ]
     },
     "execution_count": 14,
     "metadata": {},
     "output_type": "execute_result"
    }
   ],
   "source": [
    "df_pop_ss_nut_2017 = df_pop_ss_nut.loc[df_pop_ss_nut[\"Annee_pop\"] == 2017]\n",
    "df_pop_ss_nut_2017 = df_pop_ss_nut_2017.drop(columns=[\"Annee_pop\", \"Annee_ss_nut\"])\n",
    "df_pop_ss_nut_2017.head()"
   ]
  },
  {
   "cell_type": "code",
   "execution_count": 15,
   "id": "813bf8e5",
   "metadata": {},
   "outputs": [
    {
     "data": {
      "text/plain": [
       "Text(0.5, 1.0, 'Proportion de personne en sous nutrition dans le monde en 2017')"
      ]
     },
     "execution_count": 15,
     "metadata": {},
     "output_type": "execute_result"
    },
    {
     "data": {
      "image/png": "[encoded data removed]",
      "text/plain": [
       "<Figure size 432x288 with 1 Axes>"
      ]
     },
     "metadata": {},
     "output_type": "display_data"
    }
   ],
   "source": [
    "prop_ss_nut_2017 = df_pop_ss_nut_2017[\"Pop_ss_nutrition\"].sum()*100/df_pop_ss_nut_2017[\"Population\"].sum()\n",
    "# print(\"En 2017 dans le monde, il y avait environ {:.2f} % de la population en sous nutrition \".format(prop_ss_nut_2017))\n",
    "\n",
    "labels = [\"Personnes en sous-nutrition\", \"Reste du monde\"]\n",
    "cat = [df_pop_ss_nut_2017[\"Pop_ss_nutrition\"].sum(), df_pop_ss_nut_2017[\"Population\"].sum()-df_pop_ss_nut_2017[\"Pop_ss_nutrition\"].sum()]\n",
    "explode = (0.5, 0)\n",
    "colors = [\"tab:blue\", \"tab:orange\", \"tab:green\", \"tab:red\", \"tab:purple\", \"tab:brown\", \"tab:pink\", \"tab:gray\", \"tab:olive\", \"tab:cyan\"]\n",
    "\n",
    "fig, ax=plt.subplots()\n",
    "ax.pie(cat, labels=labels, explode=explode, autopct='%1.1f%%', shadow=True, startangle=0, colors=colors)\n",
    "ax.set_title(\"Proportion de personne en sous nutrition dans le monde en 2017\")"
   ]
  },
  {
   "cell_type": "markdown",
   "id": "955356aa",
   "metadata": {},
   "source": [
    "### Le nombre de personnes théoriques qui pourrait être nourri à partir de la disponibilité alimentaire :"
   ]
  },
  {
   "cell_type": "markdown",
   "id": "c032ea2f",
   "metadata": {},
   "source": [
    "Les unité de disponibilité alimentaire sont en kcal/pers/jour, on doit donc multiplier chaque dispo par la population du pays pour avoir la disponibilité alimentaire par jour puis par 365 pour la disponibilité par an.\n",
    "\n",
    "On joint les tables dispo_alimentaire et population sur la colonne \"Zone\" en filtrant l'année 2017 sans inclure la colonne \"Année\" de la table population qui est superflue."
   ]
  },
  {
   "cell_type": "code",
   "execution_count": 16,
   "id": "7dab7be7",
   "metadata": {},
   "outputs": [],
   "source": [
    "dispo_alimentaire = dispo_alimentaire.merge(population.loc[population[\"Annee\"] == 2017,[\"Zone\", \"Population\"]], on='Zone')\n",
    "\n",
    "dispo_alimentaire[\"dispo_produit\"] = dispo_alimentaire[\"Disponibilite alimentaire (Kcal/personne/jour)\"]*dispo_alimentaire[\"Population\"]*365"
   ]
  },
  {
   "cell_type": "code",
   "execution_count": 17,
   "id": "e40f9af6",
   "metadata": {},
   "outputs": [
    {
     "name": "stdout",
     "output_type": "stream",
     "text": [
      "Dans le monde en 2017, on a produit 7,635,429,388,975,815 calories. De quoi nourrir 9,297,326,501 personnes, soit environ 123.17% de la population mondiale de l'époque.\n"
     ]
    }
   ],
   "source": [
    "# On fait la somme de toutes les disponibilités des produits pour avoir le nombre total de kcal produites.\n",
    "dispo_mondiale = dispo_alimentaire[\"dispo_produit\"].sum()\n",
    "\n",
    "# On divise ce résultat par les besoins moyens d'un humain soit 2250 de moyenne entre les hommes et les femmes selon l'OMS multiplié par 365 pour avoir les besoins annuels.\n",
    "nb_pers_nourri = dispo_mondiale/(2250*365)\n",
    "\n",
    "# On calcule ensuite la proportion de la population mondiale de 2017 que cela représente.\n",
    "prop = nb_pers_nourri / population.loc[population[\"Annee\"] == 2017][\"Population\"].sum()*100\n",
    "print(\"Dans le monde en 2017, on a produit {:,.0f} calories. De quoi nourrir {:,.0f} personnes, soit environ {:,.2f}% de la population mondiale de l'époque.\".format(dispo_mondiale, nb_pers_nourri, prop))"
   ]
  },
  {
   "cell_type": "markdown",
   "id": "0dafe040",
   "metadata": {},
   "source": [
    "### Le nombre de personnes théoriques qui pourrait être nourri à partir de la disponibilité alimentaire d'origine végétale :\n",
    "\n",
    "Même principe que précédemment sauf que l'on sélectionne uniquement les produits d'origine végétale avec un .loc[]"
   ]
  },
  {
   "cell_type": "code",
   "execution_count": 18,
   "id": "ba79390e",
   "metadata": {},
   "outputs": [
    {
     "name": "stdout",
     "output_type": "stream",
     "text": [
      "Dans le monde en 2017, on a produit 6,300,178,937,197,865 calories d'origine végétale. De quoi nourrir 7,671,450,761 personnes, soit environ 101.63% de la population mondiale de l'époque.\n"
     ]
    }
   ],
   "source": [
    "dispo_mondiale_vege = dispo_alimentaire.loc[dispo_alimentaire[\"Origine\"] == \"vegetale\"][\"dispo_produit\"].sum()\n",
    "nb_pers_nourri_vege = dispo_mondiale_vege/(2250*365)\n",
    "prop_vege = nb_pers_nourri_vege / population.loc[population[\"Annee\"] == 2017][\"Population\"].sum()*100\n",
    "print(\"Dans le monde en 2017, on a produit {:,.0f} calories d'origine végétale. De quoi nourrir {:,.0f} personnes, soit environ {:,.2f}% de la population mondiale de l'époque.\".format(dispo_mondiale_vege, nb_pers_nourri_vege, prop_vege))"
   ]
  },
  {
   "cell_type": "markdown",
   "id": "a971b6fb",
   "metadata": {},
   "source": [
    "### Utilisation de la disponibilité intérieure :"
   ]
  },
  {
   "cell_type": "code",
   "execution_count": 19,
   "id": "0f0bf504",
   "metadata": {},
   "outputs": [
    {
     "data": {
      "text/plain": [
       "Text(0.5, 1.1, 'Utilisation de la disponibilité intérieure dans le monde en 2017')"
      ]
     },
     "execution_count": 19,
     "metadata": {},
     "output_type": "execute_result"
    },
    {
     "data": {
      "image/png": "[encoded data removed]",
      "text/plain": [
       "<Figure size 1080x360 with 1 Axes>"
      ]
     },
     "metadata": {},
     "output_type": "display_data"
    }
   ],
   "source": [
    "utilisation_nourriture = dispo_alimentaire[\"Nourriture\"].sum()/dispo_alimentaire[\"Disponibilite interieure\"].sum()*100\n",
    "\n",
    "utilisation_semences = dispo_alimentaire[\"Semences\"].sum()/dispo_alimentaire[\"Disponibilite interieure\"].sum()*100\n",
    "\n",
    "utilisation_traitement = dispo_alimentaire[\"Traitement\"].sum()/dispo_alimentaire[\"Disponibilite interieure\"].sum()*100\n",
    "\n",
    "utilisation_autre = dispo_alimentaire[\"Autres Utilisations\"].sum()/dispo_alimentaire[\"Disponibilite interieure\"].sum()*100\n",
    "\n",
    "utilisation_animaux = dispo_alimentaire[\"Aliments pour animaux\"].sum()/dispo_alimentaire[\"Disponibilite interieure\"].sum()*100\n",
    "\n",
    "pertes = dispo_alimentaire[\"Pertes\"].sum()/dispo_alimentaire[\"Disponibilite interieure\"].sum()*100\n",
    "\n",
    "dispo_labels = [\"Nourriture\", \"Traitement\", \"Aliments pour animaux\", \"Autres utilisations\", \"Pertes\", \"Semences\"]\n",
    "dispo_sect = [utilisation_nourriture, utilisation_traitement, utilisation_animaux, utilisation_autre, pertes, utilisation_semences]\n",
    "explode = (0, 0.1, 0.2, 0.3, 0.4, 0.5)\n",
    "colors = [\"tab:blue\", \"tab:orange\", \"tab:green\", \"tab:red\", \"tab:purple\", \"tab:brown\", \"tab:pink\", \"tab:gray\", \"tab:olive\", \"tab:cyan\"]\n",
    "my_circle = plt.Circle((0, 0), 0.8, color='white')\n",
    "\n",
    "fig, ax=plt.subplots(figsize=(15, 5))\n",
    "ax.pie(dispo_sect, labels=dispo_labels, autopct='%1.2f%%', startangle=180, labeldistance=1.1, colors=colors, explode=explode)\n",
    "ax.axis('equal')\n",
    "fig.gca().add_artist(my_circle)\n",
    "ax.set_title(\"Utilisation de la disponibilité intérieure dans le monde en 2017\", loc=\"center\", pad=None, y=1.1, size=\"20\", c=\"c\")\n"
   ]
  },
  {
   "cell_type": "markdown",
   "id": "aae56cdf",
   "metadata": {},
   "source": [
    "## DEMANDES DE JULIEN\n",
    "\n",
    "### Utilisation des céréales :\n",
    "\n",
    "Après avoir cherché sur le site de la FAO, on trouve que les céréales regroupent les produits suivants :\n",
    "- Avoine\n",
    "- Blé\n",
    "- Céréales, Autres\n",
    "- Maïs\n",
    "- Millet\n",
    "- Orge\n",
    "- Riz (Eq Blanchi)\n",
    "- Seigle\n",
    "- Sorgho\n",
    "\n",
    "On sélectionne donc les produits correspondants et on recrée une table"
   ]
  },
  {
   "cell_type": "code",
   "execution_count": 20,
   "id": "dc99e7ec",
   "metadata": {},
   "outputs": [
    {
     "name": "stdout",
     "output_type": "stream",
     "text": [
      "Les céréales sont utilisées à 42.91% pour l'alimentation humaine et 36.14% pour l'alimentation animale.\n"
     ]
    }
   ],
   "source": [
    "cereales = dispo_alimentaire.loc[dispo_alimentaire[\"Produit\"].isin([\"Avoine\", \"Blé\", \"Céréales, Autres\", \"Maïs\", \"Millet\", \"Orge\", \"Riz (Eq Blanchi)\", \"Seigle\", \"Sorgho\"])]\n",
    "\n",
    "cereales_nourriture = cereales[\"Nourriture\"].sum()/cereales[\"Disponibilite interieure\"].sum()*100\n",
    "cereales_animaux = cereales[\"Aliments pour animaux\"].sum()/cereales[\"Disponibilite interieure\"].sum()*100\n",
    "\n",
    "print(\"Les céréales sont utilisées à {:.2f}% pour l'alimentation humaine et {:.2f}% pour l'alimentation animale.\".format(cereales_nourriture, cereales_animaux))"
   ]
  },
  {
   "cell_type": "markdown",
   "id": "f2f3e98f",
   "metadata": {},
   "source": [
    "### Cas du manioc en Thaïlande :\n",
    "\n",
    "On commence par calculer la proportion de thaïlandais en sous nutrition :"
   ]
  },
  {
   "cell_type": "code",
   "execution_count": 21,
   "id": "24e497fc",
   "metadata": {},
   "outputs": [],
   "source": [
    "ss_nut_thai = df_pop_ss_nut_2017.loc[df_pop_ss_nut_2017[\"Zone\"] == \"Thaïlande\"]\n",
    "prop_ss_nut_thai = ss_nut_thai[\"Pop_ss_nutrition\"].iloc[0]/ss_nut_thai[\"Population\"].iloc[0]*100"
   ]
  },
  {
   "cell_type": "markdown",
   "id": "1dd5c7c7",
   "metadata": {},
   "source": [
    "On regarde ensuite le ratio des exportations de manioc par rapport à sa production:"
   ]
  },
  {
   "cell_type": "code",
   "execution_count": 22,
   "id": "9480d649",
   "metadata": {},
   "outputs": [
    {
     "name": "stdout",
     "output_type": "stream",
     "text": [
      "En 2017, la Thaïlande a exporté 83.41% du manioc produit dans le pays alors que 8.96% de sa population étaient en sous nutrition.\n"
     ]
    }
   ],
   "source": [
    "manioc_thai = dispo_alimentaire.loc[(dispo_alimentaire[\"Zone\"] == \"Thaïlande\") & (dispo_alimentaire[\"Produit\"] == \"Manioc\")]\n",
    "export_manioc = manioc_thai[\"Exportations - Quantite\"].iloc[0]/manioc_thai[\"Production\"].iloc[0]*100\n",
    "print(\"En 2017, la Thaïlande a exporté {:.2f}% du manioc produit dans le pays alors que {:.2f}% de sa population étaient en sous nutrition.\".format(export_manioc, prop_ss_nut_thai))"
   ]
  },
  {
   "cell_type": "markdown",
   "id": "93b4d89b",
   "metadata": {},
   "source": [
    "## DEMANDES DE MELANIE\n",
    "\n",
    "Les pays avec la proportion de personnes en sous nutrition la plus forte :"
   ]
  },
  {
   "cell_type": "code",
   "execution_count": 23,
   "id": "b701b987",
   "metadata": {},
   "outputs": [
    {
     "data": {
      "text/html": [
       "<div>\n",
       "<style scoped>\n",
       "    .dataframe tbody tr th:only-of-type {\n",
       "        vertical-align: middle;\n",
       "    }\n",
       "\n",
       "    .dataframe tbody tr th {\n",
       "        vertical-align: top;\n",
       "    }\n",
       "\n",
       "    .dataframe thead th {\n",
       "        text-align: right;\n",
       "    }\n",
       "</style>\n",
       "<table border=\"1\" class=\"dataframe\">\n",
       "  <thead>\n",
       "    <tr style=\"text-align: right;\">\n",
       "      <th></th>\n",
       "      <th>Zone</th>\n",
       "      <th>Proportion_ss_nut</th>\n",
       "    </tr>\n",
       "  </thead>\n",
       "  <tbody>\n",
       "    <tr>\n",
       "      <th>2836</th>\n",
       "      <td>Haïti</td>\n",
       "      <td>48.259182</td>\n",
       "    </tr>\n",
       "    <tr>\n",
       "      <th>5680</th>\n",
       "      <td>République populaire démocratique de Corée</td>\n",
       "      <td>47.188685</td>\n",
       "    </tr>\n",
       "    <tr>\n",
       "      <th>3916</th>\n",
       "      <td>Madagascar</td>\n",
       "      <td>41.062924</td>\n",
       "    </tr>\n",
       "    <tr>\n",
       "      <th>3736</th>\n",
       "      <td>Libéria</td>\n",
       "      <td>38.279742</td>\n",
       "    </tr>\n",
       "    <tr>\n",
       "      <th>3628</th>\n",
       "      <td>Lesotho</td>\n",
       "      <td>38.249438</td>\n",
       "    </tr>\n",
       "    <tr>\n",
       "      <th>6616</th>\n",
       "      <td>Tchad</td>\n",
       "      <td>37.957606</td>\n",
       "    </tr>\n",
       "    <tr>\n",
       "      <th>5824</th>\n",
       "      <td>Rwanda</td>\n",
       "      <td>35.055619</td>\n",
       "    </tr>\n",
       "    <tr>\n",
       "      <th>4384</th>\n",
       "      <td>Mozambique</td>\n",
       "      <td>32.810898</td>\n",
       "    </tr>\n",
       "    <tr>\n",
       "      <th>6724</th>\n",
       "      <td>Timor-Leste</td>\n",
       "      <td>32.173531</td>\n",
       "    </tr>\n",
       "    <tr>\n",
       "      <th>28</th>\n",
       "      <td>Afghanistan</td>\n",
       "      <td>28.928718</td>\n",
       "    </tr>\n",
       "  </tbody>\n",
       "</table>\n",
       "</div>"
      ],
      "text/plain": [
       "                                            Zone  Proportion_ss_nut\n",
       "2836                                       Haïti          48.259182\n",
       "5680  République populaire démocratique de Corée          47.188685\n",
       "3916                                  Madagascar          41.062924\n",
       "3736                                     Libéria          38.279742\n",
       "3628                                     Lesotho          38.249438\n",
       "6616                                       Tchad          37.957606\n",
       "5824                                      Rwanda          35.055619\n",
       "4384                                  Mozambique          32.810898\n",
       "6724                                 Timor-Leste          32.173531\n",
       "28                                   Afghanistan          28.928718"
      ]
     },
     "execution_count": 23,
     "metadata": {},
     "output_type": "execute_result"
    }
   ],
   "source": [
    "df_pop_ss_nut_2017[\"Proportion_ss_nut\"] = df_pop_ss_nut_2017[\"Pop_ss_nutrition\"]/df_pop_ss_nut_2017[\"Population\"]*100\n",
    "df_pop_ss_nut_2017[[\"Zone\", \"Proportion_ss_nut\"]].sort_values(by=\"Proportion_ss_nut\", ascending=False).head(10)"
   ]
  },
  {
   "cell_type": "markdown",
   "id": "d14214c8",
   "metadata": {},
   "source": [
    "L'aide reçue par les pays depuis 2013 :"
   ]
  },
  {
   "cell_type": "code",
   "execution_count": 24,
   "id": "7593d585",
   "metadata": {},
   "outputs": [],
   "source": [
    "aide_depuis2013 = aide_alimentaire.groupby(\"Zone\")[[\"Zone\", \"Aide en kg\"]].sum()"
   ]
  },
  {
   "cell_type": "markdown",
   "id": "c04a07d1",
   "metadata": {},
   "source": [
    "Les pays ayant le plus bénéficié d'aide depuis 2013 :"
   ]
  },
  {
   "cell_type": "code",
   "execution_count": 25,
   "id": "113382b4",
   "metadata": {},
   "outputs": [],
   "source": [
    "sorted_aide_plus = aide_depuis2013.sort_values(by=\"Aide en kg\", ascending=False).reset_index()"
   ]
  },
  {
   "cell_type": "markdown",
   "id": "96b7380f",
   "metadata": {},
   "source": [
    "Les pays ayant le moins bénéficié d'aide depuis 2013 :"
   ]
  },
  {
   "cell_type": "code",
   "execution_count": 26,
   "id": "54fac365",
   "metadata": {},
   "outputs": [
    {
     "data": {
      "image/png": "[encoded data removed]",
      "text/plain": [
       "<Figure size 1080x720 with 2 Axes>"
      ]
     },
     "metadata": {
      "needs_background": "light"
     },
     "output_type": "display_data"
    }
   ],
   "source": [
    "sorted_aide_moins = aide_depuis2013.sort_values(by=\"Aide en kg\", ascending=True).reset_index()\n",
    "\n",
    "fig, ax = plt.subplots(2, 1, figsize=(15, 10))\n",
    "ax[0].barh(sorted_aide_plus[\"Zone\"].head(10), sorted_aide_plus[\"Aide en kg\"].head(10), color=colors)\n",
    "ax[0].set_title(\"Les 10 pays ayant reçu le plus d'aide alimentaire depuis 2013\")\n",
    "ax[0].set_xlabel(\"Aide reçue depuis 2013 en kg\")\n",
    "ax[0].grid(visible=True, axis='y')\n",
    "ax[0].invert_yaxis()\n",
    "ax[0].ticklabel_format(axis=\"x\", style=\"plain\")\n",
    "\n",
    "ax[1].barh(sorted_aide_moins[\"Zone\"].head(10), sorted_aide_moins[\"Aide en kg\"].head(10), color=colors)\n",
    "ax[1].set_title(\"Les 10 pays ayant reçu le moins d'aide alimentaire depuis 2013\")\n",
    "ax[1].set_xlabel(\"Aide reçue depuis 2013 en kg\")\n",
    "ax[1].grid(visible=True, axis='y')\n",
    "ax[1].ticklabel_format(axis=\"x\", style=\"plain\")"
   ]
  },
  {
   "cell_type": "markdown",
   "id": "ef051af8",
   "metadata": {},
   "source": [
    "Les pays avec la disponibilité par habitant la plus importante :"
   ]
  },
  {
   "cell_type": "code",
   "execution_count": 27,
   "id": "752ac9e2",
   "metadata": {},
   "outputs": [],
   "source": [
    "dispo_par_pays = dispo_alimentaire.groupby(by=\"Zone\")[[\"Zone\",\"Disponibilite alimentaire (Kcal/personne/jour)\"]].sum()\n",
    "dispo_plus = dispo_par_pays.sort_values(by=\"Disponibilite alimentaire (Kcal/personne/jour)\", ascending=False).reset_index()"
   ]
  },
  {
   "cell_type": "markdown",
   "id": "328ffce7",
   "metadata": {},
   "source": [
    "Les pays avec la disponibilité par habitant la plus faible :"
   ]
  },
  {
   "cell_type": "code",
   "execution_count": 28,
   "id": "778b9c67",
   "metadata": {},
   "outputs": [],
   "source": [
    "dispo_moins = dispo_par_pays.sort_values(by=\"Disponibilite alimentaire (Kcal/personne/jour)\").reset_index()"
   ]
  },
  {
   "cell_type": "code",
   "execution_count": 29,
   "id": "83fac431",
   "metadata": {},
   "outputs": [
    {
     "data": {
      "image/png": "[encoded data removed]",
      "text/plain": [
       "<Figure size 720x576 with 2 Axes>"
      ]
     },
     "metadata": {
      "needs_background": "light"
     },
     "output_type": "display_data"
    }
   ],
   "source": [
    "fig, ax = plt.subplots(2, 1, sharex=True, figsize=(10, 8))\n",
    "ax[0].barh(dispo_plus[\"Zone\"].head(10), dispo_plus[\"Disponibilite alimentaire (Kcal/personne/jour)\"].head(10), color=colors)\n",
    "ax[0].set_title(\"Les pays avec la disponibilité par habitant la plus importante\")\n",
    "ax[0].set_xlabel(\"Disponibilité par habitant en kcal/jour\")\n",
    "ax[0].yaxis.set_ticks(dispo_plus[\"Zone\"].head(10))\n",
    "ax[0].grid(visible=True, axis='x')\n",
    "ax[0].invert_yaxis()\n",
    "\n",
    "ax[1].barh(dispo_moins[\"Zone\"].head(10), dispo_moins[\"Disponibilite alimentaire (Kcal/personne/jour)\"].head(10), color=colors)\n",
    "ax[1].set_title(\"Les pays avec la disponibilité par habitant la plus faible\")\n",
    "ax[1].set_xlabel(\"Disponibilité par habitant en kcal/jour\")\n",
    "ax[1].yaxis.set_ticks(dispo_moins[\"Zone\"].head(10))\n",
    "ax[1].grid(visible=True, axis='x')"
   ]
  },
  {
   "cell_type": "markdown",
   "id": "8eec7793",
   "metadata": {},
   "source": [
    "Pour avoir une idée des pays dont l'état s'aggrave, on regarde ce qui ont la plus grande progression de population en sous nutrition depuis 2013."
   ]
  },
  {
   "cell_type": "markdown",
   "id": "1f8918eb",
   "metadata": {},
   "source": [
    "On joint les tables population et sous_nutrition sur la colonne \"Zone\" (en jointure interne pour garder toutes les infos) pour pouvoir calculer les proportions de personne en sous nutrition (comme au début du projet):"
   ]
  },
  {
   "cell_type": "code",
   "execution_count": 30,
   "id": "ab2e62f5",
   "metadata": {},
   "outputs": [],
   "source": [
    "population_ss_nut_par_annee = pd.merge(population, sous_nutrition, on='Zone', how='inner', suffixes=('_pop', '_ss_nut'))"
   ]
  },
  {
   "cell_type": "markdown",
   "id": "2a38cdc5",
   "metadata": {},
   "source": [
    "On supprime les doublons :"
   ]
  },
  {
   "cell_type": "code",
   "execution_count": 31,
   "id": "22438f67",
   "metadata": {},
   "outputs": [],
   "source": [
    "population_ss_nut_par_annee = population_ss_nut_par_annee.drop(population_ss_nut_par_annee.loc[population_ss_nut_par_annee[\"Annee_pop\"] != population_ss_nut_par_annee[\"Annee_ss_nut\"]].index)"
   ]
  },
  {
   "cell_type": "markdown",
   "id": "ae4d9bac",
   "metadata": {},
   "source": [
    "On calcule les taux de personne en sous nutrition par pays et par année, puis on crée 2 tables pour les années 2013 et 2018 :"
   ]
  },
  {
   "cell_type": "code",
   "execution_count": 32,
   "id": "32cf18b0",
   "metadata": {},
   "outputs": [],
   "source": [
    "population_ss_nut_par_annee[\"taux_ss_nut\"] = population_ss_nut_par_annee[\"Pop_ss_nutrition\"] / population_ss_nut_par_annee[\"Population\"] *100\n",
    "population_ss_nut_par_annee = population_ss_nut_par_annee.rename(columns={\"Annee_pop\" :\"Annee\"})\n",
    "population_ss_nut_par_annee = population_ss_nut_par_annee.drop([\"Annee_ss_nut\"], axis=1)\n",
    "\n",
    "population_ss_nut_2013 = population_ss_nut_par_annee.loc[(population_ss_nut_par_annee[\"Annee\"] == 2013) & (population_ss_nut_par_annee[\"Pop_ss_nutrition\"] > 0)]\n",
    "population_ss_nut_2018 = population_ss_nut_par_annee.loc[(population_ss_nut_par_annee[\"Annee\"] == 2018) & (population_ss_nut_par_annee[\"Pop_ss_nutrition\"] > 0)]"
   ]
  },
  {
   "cell_type": "markdown",
   "id": "f622525e",
   "metadata": {},
   "source": [
    "On joint les deux tables pour pouvoir calculer l'évolution du taux de sous nutrition entre 2013 puis on supprime les colonnes inutiles à la lecture des résultats :"
   ]
  },
  {
   "cell_type": "code",
   "execution_count": 33,
   "id": "97486aad",
   "metadata": {
    "scrolled": true
   },
   "outputs": [
    {
     "data": {
      "text/plain": [
       "Text(0.5, 1.0, 'Les 10 pays dans lesquels la sous nutrition a le plus progressé en 2013 et 2018')"
      ]
     },
     "execution_count": 33,
     "metadata": {},
     "output_type": "execute_result"
    },
    {
     "data": {
      "image/png": "[encoded data removed]",
      "text/plain": [
       "<Figure size 1080x360 with 1 Axes>"
      ]
     },
     "metadata": {
      "needs_background": "light"
     },
     "output_type": "display_data"
    }
   ],
   "source": [
    "evolution_ss_nut = pd.merge(population_ss_nut_2013, population_ss_nut_2018, on=\"Zone\", how=\"inner\", suffixes=(\"_2013\", \"_2018\"))\n",
    "\n",
    "evolution_ss_nut[\"Evolution_ss_nut\"] = (evolution_ss_nut[\"taux_ss_nut_2018\"] - evolution_ss_nut[\"taux_ss_nut_2013\"]) / evolution_ss_nut[\"taux_ss_nut_2013\"]*100\n",
    "evolution_ss_nut_mini = evolution_ss_nut[[\"Zone\", \"Evolution_ss_nut\"]]\n",
    "\n",
    "s_evolution_ss_nut_mini = evolution_ss_nut_mini.sort_values(by=\"Evolution_ss_nut\", ascending=False)\n",
    "\n",
    "s_evolution_ss_nut_mini.head(10)\n",
    "\n",
    "fig, ax = plt.subplots(figsize=(15, 5))\n",
    "ax.barh(s_evolution_ss_nut_mini[\"Zone\"].head(10), s_evolution_ss_nut_mini[\"Evolution_ss_nut\"].head(10), color=colors)\n",
    "ax.set_xlabel(\"Evolution du nombre d'habitant en sous nutrition en %\")\n",
    "ax.invert_yaxis()\n",
    "ax.grid(visible=True, axis=\"x\")\n",
    "ax.set_title(\"Les 10 pays dans lesquels la sous nutrition a le plus progressé en 2013 et 2018\")"
   ]
  }
 ],
 "metadata": {
  "celltoolbar": "Aucun(e)",
  "kernelspec": {
   "display_name": "Python 3 (ipykernel)",
   "language": "python",
   "name": "python3"
  },
  "language_info": {
   "codemirror_mode": {
    "name": "ipython",
    "version": 3
   },
   "file_extension": ".py",
   "mimetype": "text/x-python",
   "name": "python",
   "nbconvert_exporter": "python",
   "pygments_lexer": "ipython3",
   "version": "3.9.7"
  }
 },
 "nbformat": 4,
 "nbformat_minor": 5
}
