{
 "cells": [
  {
   "cell_type": "code",
   "execution_count": 1,
   "id": "a77dfc5d",
   "metadata": {},
   "outputs": [],
   "source": [
    "%matplotlib inline\n",
    "import pandas as pd\n",
    "import numpy as np\n",
    "import matplotlib as mpl\n",
    "import matplotlib.pyplot as plt\n",
    "import seaborn as sns"
   ]
  },
  {
   "cell_type": "code",
   "execution_count": 2,
   "id": "5ede442e",
   "metadata": {},
   "outputs": [],
   "source": [
    "missing_values = [\"n/a\", \"na\", \"--\", \" \"]"
   ]
  },
  {
   "cell_type": "code",
   "execution_count": 3,
   "id": "3d77e2e5",
   "metadata": {},
   "outputs": [],
   "source": [
    "erp = pd.read_csv(\"/home/redtaker/Documents/DATA ANALYST/Projet 5 - Gestion données boutique/erp.csv\", na_values = missing_values)\n",
    "liaison = pd.read_csv(\"/home/redtaker/Documents/DATA ANALYST/Projet 5 - Gestion données boutique/liaison.csv\", na_values = missing_values)\n",
    "web = pd.read_csv(\"/home/redtaker/Documents/DATA ANALYST/Projet 5 - Gestion données boutique/web.csv\", na_values = missing_values)"
   ]
  },
  {
   "cell_type": "markdown",
   "id": "6a9931d3",
   "metadata": {},
   "source": [
    "On doit préparer les données avant de faire la jointure.\n",
    "- supprimer les doublons\n",
    "- vérifier que les clés de nos tables sont bien uniques\n",
    "\n",
    "- Pour bien faire nos jointures il faut qu'il y ait tous les erp.product_id dont l'attribut onsale_web = 1 dans la table liaison.\n",
    "\n",
    "- Il faut aussi qu'il y ait tous les web.sku dans la table liaison, avec un product_id correspondant dans erp"
   ]
  },
  {
   "cell_type": "markdown",
   "id": "a73709ba",
   "metadata": {},
   "source": [
    "Suppression des doublons"
   ]
  },
  {
   "cell_type": "code",
   "execution_count": 4,
   "id": "0669a56b",
   "metadata": {},
   "outputs": [],
   "source": [
    "erp = erp.drop_duplicates()\n",
    "liaison = liaison.drop_duplicates()\n",
    "web = web.drop_duplicates()"
   ]
  },
  {
   "cell_type": "markdown",
   "id": "e9855e58",
   "metadata": {},
   "source": [
    "On regarde l'unicité de nos clés :\n",
    "   - pour erp"
   ]
  },
  {
   "cell_type": "code",
   "execution_count": 5,
   "id": "caaf9d3d",
   "metadata": {},
   "outputs": [
    {
     "name": "stdout",
     "output_type": "stream",
     "text": [
      "   product_id  onsale_web price  stock_quantity stock_status\n",
      "0        3847           1  24,2               0   outofstock\n",
      "1        3849           1  34,3               0   outofstock\n",
      "2        3850           1  20,8               0   outofstock\n",
      "3        4032           1  14,1               0   outofstock\n",
      "4        4039           1    46               0   outofstock\n",
      "<class 'pandas.core.frame.DataFrame'>\n",
      "Int64Index: 825 entries, 0 to 824\n",
      "Data columns (total 5 columns):\n",
      " #   Column          Non-Null Count  Dtype  \n",
      "---  ------          --------------  -----  \n",
      " 0   product_id      825 non-null    int64  \n",
      " 1   onsale_web      825 non-null    int64  \n",
      " 2   price           825 non-null    float64\n",
      " 3   stock_quantity  825 non-null    int64  \n",
      " 4   stock_status    825 non-null    object \n",
      "dtypes: float64(1), int64(3), object(1)\n",
      "memory usage: 38.7+ KB\n",
      "None\n",
      "product_id        0\n",
      "onsale_web        0\n",
      "price             0\n",
      "stock_quantity    0\n",
      "stock_status      0\n",
      "dtype: int64\n",
      "(825, 5)\n",
      "True\n"
     ]
    }
   ],
   "source": [
    "print(erp.head())\n",
    "\n",
    "# conversion de la colonne price en float\n",
    "erp[\"price\"] = erp[\"price\"].replace(',', '.', regex=True) \n",
    "erp[\"price\"] = pd.to_numeric(erp[\"price\"])\n",
    "\n",
    "print(erp.info())\n",
    "print(erp.isna().sum())\n",
    "print(erp.shape)\n",
    "print(erp.shape[0] == erp[\"product_id\"].nunique())"
   ]
  },
  {
   "cell_type": "markdown",
   "id": "e0c16afc",
   "metadata": {},
   "source": [
    "- pour liaison"
   ]
  },
  {
   "cell_type": "code",
   "execution_count": 6,
   "id": "90181393",
   "metadata": {},
   "outputs": [
    {
     "name": "stdout",
     "output_type": "stream",
     "text": [
      "   product_id    sku\n",
      "0        3847  15298\n",
      "1        3849  15296\n",
      "2        3850  15300\n",
      "3        4032  19814\n",
      "4        4039  19815\n",
      "<class 'pandas.core.frame.DataFrame'>\n",
      "Int64Index: 825 entries, 0 to 824\n",
      "Data columns (total 2 columns):\n",
      " #   Column      Non-Null Count  Dtype \n",
      "---  ------      --------------  ----- \n",
      " 0   product_id  825 non-null    int64 \n",
      " 1   sku         734 non-null    object\n",
      "dtypes: int64(1), object(1)\n",
      "memory usage: 19.3+ KB\n",
      "None\n",
      "(825, 2)\n",
      "product_id     0\n",
      "sku           91\n",
      "dtype: int64\n",
      "True\n",
      "False\n"
     ]
    }
   ],
   "source": [
    "liaison = liaison.rename(columns={\"id_web\": \"sku\"})\n",
    "print(liaison.head())\n",
    "\n",
    "print(liaison.info())\n",
    "print(liaison.shape)\n",
    "print(liaison.isna().sum())\n",
    "\n",
    "print(liaison.shape[0] == liaison[\"product_id\"].nunique())\n",
    "\n",
    "print(liaison.shape[0] == liaison[\"sku\"].nunique())\n",
    "\n",
    "# Il y a donc plus de lignes avec un \"product_id\" mais sans \"sku\" dans la table liaison."
   ]
  },
  {
   "cell_type": "markdown",
   "id": "f1852897",
   "metadata": {},
   "source": [
    "- pour web"
   ]
  },
  {
   "cell_type": "code",
   "execution_count": 7,
   "id": "fb61f751",
   "metadata": {},
   "outputs": [
    {
     "name": "stdout",
     "output_type": "stream",
     "text": [
      "     sku  virtual  downloadable  rating_count  average_rating  total_sales  \\\n",
      "178  NaN        0             0             0             NaN          NaN   \n",
      "470  NaN        0             0             0             0.0          0.0   \n",
      "471  NaN        0             0             0             0.0          0.0   \n",
      "\n",
      "    tax_status  tax_class  post_author            post_date  ...  \\\n",
      "178        NaN        NaN          NaN                  NaN  ...   \n",
      "470    taxable        NaN          2.0  2018-07-31 12:07:23  ...   \n",
      "471    taxable        NaN          2.0  2018-08-08 11:23:43  ...   \n",
      "\n",
      "                                      post_name        post_modified  \\\n",
      "178                                         NaN                  NaN   \n",
      "470  pierre-jean-villa-cote-rotie-fongeant-2017  2019-11-02 13:24:15   \n",
      "471    pierre-jean-villa-condrieu-suspendu-2018  2019-11-02 13:24:01   \n",
      "\n",
      "       post_modified_gmt post_content_filtered post_parent  \\\n",
      "178                  NaN                   NaN         NaN   \n",
      "470  2019-11-02 12:24:15                   NaN         0.0   \n",
      "471  2019-11-02 12:24:01                   NaN         0.0   \n",
      "\n",
      "                                                  guid menu_order  post_type  \\\n",
      "178                                                NaN        NaN        NaN   \n",
      "470  https://www.bottle-neck.fr/?post_type=product&...        0.0    product   \n",
      "471  https://www.bottle-neck.fr/?post_type=product&...        0.0    product   \n",
      "\n",
      "    post_mime_type comment_count  \n",
      "178            NaN           NaN  \n",
      "470            NaN           0.0  \n",
      "471            NaN           0.0  \n",
      "\n",
      "[3 rows x 28 columns]\n"
     ]
    }
   ],
   "source": [
    "# print(web.isna().sum())\n",
    "print(web.loc[web[\"sku\"].isna()])"
   ]
  },
  {
   "cell_type": "markdown",
   "id": "ac8d6dc3",
   "metadata": {},
   "source": [
    "On voit sur le fichier que la colonne post_type doit être \"product\" sinon les sku sont en double car il y a un \"product\" et un \"attachment\" pour chaque sku de la table. On enlève aussi les sku Na car on ne peut pas les rapprocher de erp."
   ]
  },
  {
   "cell_type": "code",
   "execution_count": 8,
   "id": "da857509",
   "metadata": {},
   "outputs": [
    {
     "name": "stdout",
     "output_type": "stream",
     "text": [
      "<class 'pandas.core.frame.DataFrame'>\n",
      "Int64Index: 714 entries, 0 to 798\n",
      "Data columns (total 28 columns):\n",
      " #   Column                 Non-Null Count  Dtype  \n",
      "---  ------                 --------------  -----  \n",
      " 0   sku                    714 non-null    object \n",
      " 1   virtual                714 non-null    int64  \n",
      " 2   downloadable           714 non-null    int64  \n",
      " 3   rating_count           714 non-null    int64  \n",
      " 4   average_rating         714 non-null    float64\n",
      " 5   total_sales            714 non-null    float64\n",
      " 6   tax_status             714 non-null    object \n",
      " 7   tax_class              0 non-null      float64\n",
      " 8   post_author            714 non-null    float64\n",
      " 9   post_date              714 non-null    object \n",
      " 10  post_date_gmt          714 non-null    object \n",
      " 11  post_content           0 non-null      float64\n",
      " 12  post_title             714 non-null    object \n",
      " 13  post_excerpt           714 non-null    object \n",
      " 14  post_status            714 non-null    object \n",
      " 15  comment_status         714 non-null    object \n",
      " 16  ping_status            714 non-null    object \n",
      " 17  post_password          0 non-null      float64\n",
      " 18  post_name              714 non-null    object \n",
      " 19  post_modified          714 non-null    object \n",
      " 20  post_modified_gmt      714 non-null    object \n",
      " 21  post_content_filtered  0 non-null      float64\n",
      " 22  post_parent            714 non-null    float64\n",
      " 23  guid                   714 non-null    object \n",
      " 24  menu_order             714 non-null    float64\n",
      " 25  post_type              714 non-null    object \n",
      " 26  post_mime_type         0 non-null      object \n",
      " 27  comment_count          714 non-null    float64\n",
      "dtypes: float64(10), int64(3), object(15)\n",
      "memory usage: 161.8+ KB\n",
      "None\n",
      "(714, 28)\n",
      "sku                        0\n",
      "virtual                    0\n",
      "downloadable               0\n",
      "rating_count               0\n",
      "average_rating             0\n",
      "total_sales                0\n",
      "tax_status                 0\n",
      "tax_class                714\n",
      "post_author                0\n",
      "post_date                  0\n",
      "post_date_gmt              0\n",
      "post_content             714\n",
      "post_title                 0\n",
      "post_excerpt               0\n",
      "post_status                0\n",
      "comment_status             0\n",
      "ping_status                0\n",
      "post_password            714\n",
      "post_name                  0\n",
      "post_modified              0\n",
      "post_modified_gmt          0\n",
      "post_content_filtered    714\n",
      "post_parent                0\n",
      "guid                       0\n",
      "menu_order                 0\n",
      "post_type                  0\n",
      "post_mime_type           714\n",
      "comment_count              0\n",
      "dtype: int64\n",
      "True\n"
     ]
    }
   ],
   "source": [
    "mask = (web[\"post_type\"] == \"product\") & (web[\"sku\"].isna() == False)\n",
    "\n",
    "web = web.loc[mask]\n",
    "\n",
    "print(web.info())\n",
    "print(web.shape)\n",
    "print(web.isna().sum())\n",
    "print(web.shape[0] == web[\"sku\"].nunique())\n"
   ]
  },
  {
   "cell_type": "markdown",
   "id": "c1ab7839",
   "metadata": {},
   "source": [
    "Nos clés sont maintenant uniques (product_id pour erp et liaison, sku pour web).\n",
    "\n",
    "\n",
    "On vérifie maintenant les incohérences :"
   ]
  },
  {
   "cell_type": "code",
   "execution_count": 9,
   "id": "346573c4",
   "metadata": {},
   "outputs": [
    {
     "name": "stdout",
     "output_type": "stream",
     "text": [
      "91\n",
      "     product_id  onsale_web  price  stock_quantity stock_status\n",
      "242        4594           1  144.0               0   outofstock\n",
      "486        5070           1   84.7               0   outofstock\n",
      "487        5075           1   43.3               0   outofstock\n"
     ]
    }
   ],
   "source": [
    "# Dans les lignes de la table liaison avec product_id mais sans sku on va regarder si les produits sont supposés être vendu sur le site\n",
    "abc = liaison[liaison[\"sku\"].isna()][\"product_id\"].tolist()\n",
    "print(len(abc))\n",
    "product_not_sold = [elt for elt in abc if elt in erp.loc[erp[\"onsale_web\"] == 1]['product_id'].unique().tolist()]\n",
    "print(erp[erp[\"product_id\"].isin(product_not_sold)])"
   ]
  },
  {
   "cell_type": "code",
   "execution_count": 10,
   "id": "c1a99873",
   "metadata": {},
   "outputs": [
    {
     "data": {
      "text/plain": [
       "[]"
      ]
     },
     "execution_count": 10,
     "metadata": {},
     "output_type": "execute_result"
    }
   ],
   "source": [
    "# Ici j'ai la liste (vide) de tous les product_id qui sont dans erp mais pas dans liaison alors qu'ils sont vendus en ligne.\n",
    "ab = erp[erp[\"onsale_web\"]==1][\"product_id\"].tolist()\n",
    "[elt for elt in ab if elt not in liaison['product_id'].unique().tolist()]\n",
    "# C'est à dire que tous les produits vendu sur le site sont présents dans la table liaison, mais 3 n'ont pas de sku."
   ]
  },
  {
   "cell_type": "code",
   "execution_count": 11,
   "id": "a5a7bde9",
   "metadata": {},
   "outputs": [
    {
     "name": "stdout",
     "output_type": "stream",
     "text": [
      "[]\n"
     ]
    }
   ],
   "source": [
    "# Ici j'ai la liste de tous les sku qui sont dans web mais pas dans liaison.\n",
    "\n",
    "list2 = [elt for elt in web['sku'].unique().tolist() if elt not in liaison['sku'].unique().tolist()]\n",
    "print(list2)\n",
    "# Elle est vide, c'est à dire que tous les produits avec un sku de la table web sont présents dans la table liaison."
   ]
  },
  {
   "cell_type": "code",
   "execution_count": 12,
   "id": "475ace66",
   "metadata": {},
   "outputs": [
    {
     "name": "stdout",
     "output_type": "stream",
     "text": [
      "['13771', '15065', '14785', '12601', '15154', '14360', '15608', '15586', '15272', '15630', '14648', '14715', '14730', '14689', '14379', '15609', '14377', '13577', '15529', '14680-1']\n"
     ]
    }
   ],
   "source": [
    "# Ici j'ai la liste de tous les sku qui sont dans liaison mais pas dans web.\n",
    "# C'est à dire qu'ils n'ont pas été vendus.\n",
    "# J'ai retiré la valeur Nan car cela interfère avec la demande suivante.\n",
    "list1 = [elt for elt in liaison['sku'].unique().tolist() if elt not in web['sku'].unique().tolist()]\n",
    "list1 = [x for x in list1 if pd.isnull(x) == False]\n",
    "print(list1)"
   ]
  },
  {
   "cell_type": "code",
   "execution_count": 13,
   "id": "cec7bac4",
   "metadata": {},
   "outputs": [
    {
     "name": "stdout",
     "output_type": "stream",
     "text": [
      "     product_id      sku\n",
      "193        4289    13771\n",
      "236        4568    15065\n",
      "241        4584    14785\n",
      "355        4741    12601\n",
      "391        4864    15154\n",
      "394        4869    14360\n",
      "424        4921    15608\n",
      "425        4922    15586\n",
      "470        5018    15272\n",
      "473        5021    15630\n",
      "523        5505    14648\n",
      "540        5559    14715\n",
      "548        5570    14730\n",
      "613        5800    14689\n",
      "660        5953    14379\n",
      "661        5954    15609\n",
      "662        5955    14377\n",
      "664        5957    13577\n",
      "687        6100    15529\n",
      "823        7329  14680-1\n"
     ]
    }
   ],
   "source": [
    "# Ici j'ai les product_id correspondants à ces sku présents dans liaison mais pas dans web\n",
    "no_sale = liaison.loc[liaison[\"sku\"].isin(list1)]\n",
    "print(no_sale)"
   ]
  },
  {
   "cell_type": "code",
   "execution_count": 14,
   "id": "4546dbd7",
   "metadata": {},
   "outputs": [
    {
     "name": "stdout",
     "output_type": "stream",
     "text": [
      "     product_id  stock_quantity stock_status\n",
      "193        4289               0   outofstock\n",
      "236        4568               0   outofstock\n",
      "241        4584               0   outofstock\n",
      "355        4741               0   outofstock\n",
      "391        4864               0   outofstock\n",
      "394        4869               0   outofstock\n",
      "424        4921               0   outofstock\n",
      "425        4922               0   outofstock\n",
      "470        5018               0   outofstock\n",
      "473        5021               0   outofstock\n",
      "523        5505               0   outofstock\n",
      "540        5559               3      instock\n",
      "548        5570               0   outofstock\n",
      "613        5800               0   outofstock\n",
      "660        5953               0   outofstock\n",
      "661        5954               0   outofstock\n",
      "662        5955               0   outofstock\n",
      "664        5957               0   outofstock\n",
      "687        6100               0   outofstock\n",
      "823        7329              14      instock\n"
     ]
    }
   ],
   "source": [
    "# Je regarde maintenant s'ils ont un stock nul ou non\n",
    "print(erp[erp[\"product_id\"].isin(no_sale[\"product_id\"])][[\"product_id\", \"stock_quantity\", \"stock_status\"]])"
   ]
  },
  {
   "cell_type": "markdown",
   "id": "77c046b3",
   "metadata": {},
   "source": [
    "On voit ici qu'il y a 2 produits qui sont encore en stock. Il faudrait regarder pour faire une opération commerciale dédiée à ces produits pour relancer leurs ventes."
   ]
  },
  {
   "cell_type": "markdown",
   "id": "e918974b",
   "metadata": {},
   "source": [
    "## Préparation de la jointure des tables :\n",
    "\n",
    "Je vérifie ici si toutes les lignes de ma table web possèdent un sku unique que je peux relier au product id unique de ma table erp grâce à sa présence dans la table liaison :\n"
   ]
  },
  {
   "cell_type": "code",
   "execution_count": 15,
   "id": "817da763",
   "metadata": {},
   "outputs": [
    {
     "name": "stdout",
     "output_type": "stream",
     "text": [
      "714\n",
      "714\n"
     ]
    }
   ],
   "source": [
    "hyp = [elt for elt in web['sku'].unique().tolist() if elt in liaison['sku'].unique().tolist()]\n",
    "hyp1 = liaison[liaison[\"sku\"].isin(hyp)]\n",
    "print(len(hyp1))\n",
    "hyp2 = [elt for elt in hyp1[\"product_id\"].unique().tolist() if elt in erp[\"product_id\"].unique().tolist()]\n",
    "print(len(hyp2))"
   ]
  },
  {
   "cell_type": "markdown",
   "id": "427990a0",
   "metadata": {},
   "source": [
    "Le nombre de lignes est équivalent, je peux faire mes jointures."
   ]
  },
  {
   "cell_type": "code",
   "execution_count": 16,
   "id": "9c20eeb7",
   "metadata": {},
   "outputs": [
    {
     "data": {
      "text/plain": [
       "array([0, 1])"
      ]
     },
     "execution_count": 16,
     "metadata": {},
     "output_type": "execute_result"
    }
   ],
   "source": [
    "test = pd.merge(erp, liaison, on=\"product_id\", how=\"left\")\n",
    "missing_prod_in_liaison = test.loc[test['sku'].isna(), 'product_id'].tolist()\n",
    "test.loc[test['sku'].isna(), 'onsale_web'].unique()"
   ]
  },
  {
   "cell_type": "code",
   "execution_count": 17,
   "id": "cc43cfd3",
   "metadata": {},
   "outputs": [],
   "source": [
    "link1 = pd.merge(web, liaison, on=\"sku\", how=\"left\")\n",
    "link2 = pd.merge(link1, erp, on=\"product_id\", how=\"left\")"
   ]
  },
  {
   "cell_type": "markdown",
   "id": "78fd4f9a",
   "metadata": {},
   "source": [
    "Je fais des jointure à gauche en partant de la table web vers la table erp pour garder le plus d'informations possible."
   ]
  },
  {
   "cell_type": "code",
   "execution_count": 18,
   "id": "a7e98687",
   "metadata": {},
   "outputs": [
    {
     "name": "stdout",
     "output_type": "stream",
     "text": [
      "<class 'pandas.core.frame.DataFrame'>\n",
      "Int64Index: 714 entries, 0 to 713\n",
      "Data columns (total 33 columns):\n",
      " #   Column                 Non-Null Count  Dtype  \n",
      "---  ------                 --------------  -----  \n",
      " 0   sku                    714 non-null    object \n",
      " 1   virtual                714 non-null    int64  \n",
      " 2   downloadable           714 non-null    int64  \n",
      " 3   rating_count           714 non-null    int64  \n",
      " 4   average_rating         714 non-null    float64\n",
      " 5   total_sales            714 non-null    float64\n",
      " 6   tax_status             714 non-null    object \n",
      " 7   tax_class              0 non-null      float64\n",
      " 8   post_author            714 non-null    float64\n",
      " 9   post_date              714 non-null    object \n",
      " 10  post_date_gmt          714 non-null    object \n",
      " 11  post_content           0 non-null      float64\n",
      " 12  post_title             714 non-null    object \n",
      " 13  post_excerpt           714 non-null    object \n",
      " 14  post_status            714 non-null    object \n",
      " 15  comment_status         714 non-null    object \n",
      " 16  ping_status            714 non-null    object \n",
      " 17  post_password          0 non-null      float64\n",
      " 18  post_name              714 non-null    object \n",
      " 19  post_modified          714 non-null    object \n",
      " 20  post_modified_gmt      714 non-null    object \n",
      " 21  post_content_filtered  0 non-null      float64\n",
      " 22  post_parent            714 non-null    float64\n",
      " 23  guid                   714 non-null    object \n",
      " 24  menu_order             714 non-null    float64\n",
      " 25  post_type              714 non-null    object \n",
      " 26  post_mime_type         0 non-null      object \n",
      " 27  comment_count          714 non-null    float64\n",
      " 28  product_id             714 non-null    int64  \n",
      " 29  onsale_web             714 non-null    int64  \n",
      " 30  price                  714 non-null    float64\n",
      " 31  stock_quantity         714 non-null    int64  \n",
      " 32  stock_status           714 non-null    object \n",
      "dtypes: float64(11), int64(6), object(16)\n",
      "memory usage: 189.7+ KB\n"
     ]
    }
   ],
   "source": [
    "link2.info()"
   ]
  },
  {
   "cell_type": "code",
   "execution_count": 19,
   "id": "fff77fce",
   "metadata": {},
   "outputs": [
    {
     "data": {
      "text/plain": [
       "0"
      ]
     },
     "execution_count": 19,
     "metadata": {},
     "output_type": "execute_result"
    }
   ],
   "source": [
    "erp[\"price\"].isna().sum()"
   ]
  },
  {
   "cell_type": "code",
   "execution_count": 20,
   "id": "052dc576",
   "metadata": {},
   "outputs": [],
   "source": [
    "link2[\"price\"] = link2[\"price\"].replace(',', '.', regex=True)\n",
    "link2[\"price\"] = pd.to_numeric(link2[\"price\"])"
   ]
  },
  {
   "cell_type": "markdown",
   "id": "b6edef10",
   "metadata": {},
   "source": [
    "## Calcul du CA par produit :\n",
    "\n",
    "Pour cela on multiplie la colonne \"price\" par le nombre total de vente (\"total_sales\")\n",
    "\n",
    "Pour calculer le chiffre d'affaire en ligne, on fait la somme de la colonne CA/produit."
   ]
  },
  {
   "cell_type": "code",
   "execution_count": 21,
   "id": "725efbde",
   "metadata": {},
   "outputs": [
    {
     "name": "stdout",
     "output_type": "stream",
     "text": [
      "70568.6\n",
      "0                                      Bon cadeau de 25€\n",
      "1            Pierre Jean Villa Saint-Joseph Préface 2018\n",
      "2        Pierre Jean Villa Saint-Joseph Rouge Tildé 2017\n",
      "3      Pierre Jean Villa Crozes-Hermitage Accroche Co...\n",
      "4      Pierre Jean Villa IGP Collines Rhodaniennes Ga...\n",
      "                             ...                        \n",
      "709     Mouthes Le Bihan Côtes de Duras L'Aimé Chai 2015\n",
      "710           Camin Larredya Jurançon Sec La Virada 2018\n",
      "711       Domaine Jamet Côte Rôtie Fructus Voluptas 2018\n",
      "712         Clos du Mont-Olivet Châteauneuf-du-Pape 2007\n",
      "713    Domaine Saint-Nicolas Vin de France Blanc Les ...\n",
      "Name: post_title, Length: 714, dtype: object\n"
     ]
    }
   ],
   "source": [
    "link2[\"CA/produit\"] = link2[\"price\"]*link2[\"total_sales\"]\n",
    "CA_en_ligne = link2[\"CA/produit\"].sum()\n",
    "print(CA_en_ligne)\n",
    "print(link2[\"post_title\"])"
   ]
  },
  {
   "cell_type": "markdown",
   "id": "6c24c482",
   "metadata": {},
   "source": [
    "## Analyse des outliers :"
   ]
  },
  {
   "cell_type": "markdown",
   "id": "c61581ab",
   "metadata": {},
   "source": [
    "Pour analyser les valeurs de prix aberrantes, j'utilise Seaborn pour afficher la distribution de mes données."
   ]
  },
  {
   "cell_type": "code",
   "execution_count": 22,
   "id": "1ac2b811",
   "metadata": {},
   "outputs": [
    {
     "data": {
      "text/plain": [
       "<AxesSubplot:xlabel='price', ylabel='Density'>"
      ]
     },
     "execution_count": 22,
     "metadata": {},
     "output_type": "execute_result"
    },
    {
     "data": {
      "image/png": "[encoded data removed]",
      "text/plain": [
       "<Figure size 720x360 with 1 Axes>"
      ]
     },
     "metadata": {
      "needs_background": "light"
     },
     "output_type": "display_data"
    }
   ],
   "source": [
    "import warnings\n",
    "warnings.filterwarnings('ignore')\n",
    "plt.figure(figsize=(10,5))\n",
    "sns.distplot(link2['price'])"
   ]
  },
  {
   "cell_type": "markdown",
   "id": "beebd586",
   "metadata": {},
   "source": [
    "### Méthode des 3 standard deviations :"
   ]
  },
  {
   "cell_type": "code",
   "execution_count": 23,
   "id": "30b5d7b7",
   "metadata": {},
   "outputs": [
    {
     "name": "stdout",
     "output_type": "stream",
     "text": [
      "Upper Control Limit 115.92471202187313\n",
      "Lower Control Limit -50.9384375120692\n",
      "                                            post_title  price\n",
      "200     Champagne Egly-Ouriet Grand Cru Millésimé 2008  225.0\n",
      "202     Champagne Egly-Ouriet Grand Cru Blanc de Noirs  126.5\n",
      "219                               Cognac Frapin VIP XO  176.0\n",
      "222  Cognac Frapin Château de Fontpinot 1989 20 Ans...  157.0\n",
      "382  Domaine Des Croix Corton Charlemagne Grand Cru...  137.0\n",
      "426     David Duband Charmes-Chambertin Grand Cru 2014  217.5\n",
      "511  Domaine Weinbach Gewurztraminer Grand Cru Furs...  124.8\n",
      "553                Camille Giroud Clos de Vougeot 2016  175.0\n",
      "587  Coteaux Champenois Egly-Ouriet Ambonnay Rouge ...  191.3\n",
      "603  Wemyss Malts Single Cask Scotch Whisky Choc 'n...  122.0\n",
      "642             Champagne Gosset Célébris Vintage 2007  135.0\n",
      "648  Domaine Clerget Echezeaux Grand Cru En Orveaux...  116.4\n",
      "654  Domaine des Comtes Lafon Volnay 1er Cru Santen...  121.0\n",
      "657  Domaine des Comtes Lafon Volnay 1er Cru Champa...  121.0\n",
      "Empty DataFrame\n",
      "Columns: [post_title, price]\n",
      "Index: []\n"
     ]
    }
   ],
   "source": [
    "print(\"Upper Control Limit\",link2['price'].mean() + 3*link2['price'].std())\n",
    "print(\"Lower Control Limit\",link2['price'].mean() - 3*link2['price'].std())\n",
    "std_up = link2.loc[link2[\"price\"] > link2['price'].mean() + 3*link2['price'].std()]\n",
    "std_low = link2.loc[link2[\"price\"] < link2['price'].mean() - 3*link2['price'].std()]\n",
    "\n",
    "print(std_up[[\"post_title\", \"price\"]])\n",
    "print(std_low[[\"post_title\", \"price\"]])"
   ]
  },
  {
   "cell_type": "markdown",
   "id": "39164820",
   "metadata": {},
   "source": [
    "### Methode de l'intérvalle interquartile (IQR) "
   ]
  },
  {
   "cell_type": "code",
   "execution_count": 24,
   "id": "ead17df3",
   "metadata": {},
   "outputs": [
    {
     "data": {
      "text/plain": [
       "<AxesSubplot:xlabel='price'>"
      ]
     },
     "execution_count": 24,
     "metadata": {},
     "output_type": "execute_result"
    },
    {
     "data": {
      "image/png": "[encoded data removed]",
      "text/plain": [
       "<Figure size 432x288 with 1 Axes>"
      ]
     },
     "metadata": {
      "needs_background": "light"
     },
     "output_type": "display_data"
    }
   ],
   "source": [
    "sns.boxplot(link2['price'])"
   ]
  },
  {
   "cell_type": "code",
   "execution_count": 25,
   "id": "84182757",
   "metadata": {},
   "outputs": [
    {
     "name": "stdout",
     "output_type": "stream",
     "text": [
      "28.075000000000003\n",
      "84.28750000000001\n",
      "-28.012500000000003\n"
     ]
    }
   ],
   "source": [
    "percentile25 = link2['price'].quantile(0.25)\n",
    "percentile75 = link2['price'].quantile(0.75)\n",
    "iqr = percentile75 - percentile25\n",
    "upper_limit = percentile75 + 1.5 * iqr\n",
    "lower_limit = percentile25 - 1.5 * iqr\n",
    "\n",
    "print(iqr)\n",
    "print(upper_limit)\n",
    "print(lower_limit)"
   ]
  },
  {
   "cell_type": "code",
   "execution_count": 26,
   "id": "4be77341",
   "metadata": {
    "scrolled": false
   },
   "outputs": [
    {
     "name": "stdout",
     "output_type": "stream",
     "text": [
      "                                            post_title  price\n",
      "64   Zind-Humbrecht Riesling Grand Cru Rangen De Th...  100.0\n",
      "66   Zind-Humbrecht Pinot Gris Grand Cru Rangen De ...   88.4\n",
      "200     Champagne Egly-Ouriet Grand Cru Millésimé 2008  225.0\n",
      "202     Champagne Egly-Ouriet Grand Cru Blanc de Noirs  126.5\n",
      "206  Champagne Larmandier-Bernier Grand Cru Les Che...   85.6\n",
      "219                               Cognac Frapin VIP XO  176.0\n",
      "220              Cognac Frapin Château de Fontpinot XO  108.5\n",
      "222  Cognac Frapin Château de Fontpinot 1989 20 Ans...  157.0\n",
      "223                          Cognac Frapin Cigar Blend  104.0\n",
      "228  Château de Meursault Puligny-Montrachet 1er Cr...  109.6\n",
      "381  Domaine Des Croix Corton Grand Cru Les Grèves ...  102.3\n",
      "382  Domaine Des Croix Corton Charlemagne Grand Cru...  137.0\n",
      "426     David Duband Charmes-Chambertin Grand Cru 2014  217.5\n",
      "431  Domaine des Comtes Lafon Volnay 1er Cru Santen...  105.0\n",
      "432  Domaine des Comtes Lafon Volnay 1er Cru Santen...  105.0\n",
      "437  Champagne Agrapart &amp; Fils L'Avizoise Extra...  112.0\n",
      "438  Champagne Agrapart &amp; Fils Minéral Extra Br...   86.8\n",
      "502                      Tempier Bandol Cabassaou 2017   92.0\n",
      "511  Domaine Weinbach Gewurztraminer Grand Cru Furs...  124.8\n",
      "553                Camille Giroud Clos de Vougeot 2016  175.0\n",
      "587  Coteaux Champenois Egly-Ouriet Ambonnay Rouge ...  191.3\n",
      "602  Wemyss Malts Single Cask Scotch Whisky Chocola...   93.0\n",
      "603  Wemyss Malts Single Cask Scotch Whisky Choc 'n...  122.0\n",
      "604  Wemyss Malts Single Cask Scotch Whisky Chai Ca...  114.0\n",
      "642             Champagne Gosset Célébris Vintage 2007  135.0\n",
      "647  David Duband Chambolle-Musigny 1er Cru Les Sen...  105.6\n",
      "648  Domaine Clerget Echezeaux Grand Cru En Orveaux...  116.4\n",
      "653  Domaine des Comtes Lafon Volnay 1er Cru Santen...  115.0\n",
      "654  Domaine des Comtes Lafon Volnay 1er Cru Santen...  121.0\n",
      "655  Domaine des Comtes Lafon Volnay 1er Cru Champa...   99.0\n",
      "656  Domaine des Comtes Lafon Volnay 1er Cru Champa...  115.0\n",
      "657  Domaine des Comtes Lafon Volnay 1er Cru Champa...  121.0\n",
      "Empty DataFrame\n",
      "Columns: [post_title, price]\n",
      "Index: []\n"
     ]
    }
   ],
   "source": [
    "IQR_up = link2.loc[link2[\"price\"] > upper_limit]\n",
    "IQR_low = link2.loc[link2[\"price\"] < lower_limit]\n",
    "\n",
    "print(IQR_up[[\"post_title\", \"price\"]])\n",
    "print(IQR_low[[\"post_title\", \"price\"]])"
   ]
  },
  {
   "cell_type": "markdown",
   "id": "01f8d2b0",
   "metadata": {},
   "source": [
    "Selon les deux différentes méthodes de recherche des outliers nous n'obtenons pas la même liste.\n",
    "On ensuite vérifier les prix un à un en ligne, à la main ou avec une méthode de scrapping."
   ]
  },
  {
   "cell_type": "markdown",
   "id": "51428955",
   "metadata": {},
   "source": [
    "# Web scrapping"
   ]
  },
  {
   "cell_type": "markdown",
   "id": "4a786405",
   "metadata": {},
   "source": [
    "Afin de récupérer les prix des produits outliers en ligne, on peut chercher sur le site wine-searcher.com. Ce site a une structure url principale identiques pour les recherches, la différence étant au milieu de l'adresse comportant la référence du produit recherché, chaque mot étant séparé par un tiret.\n",
    "On peut donc reprendre les références des outliers et générer les adresses url des recherches afin d'aller récupérer les prix automatiquement en utilisant la librairie lxml et le module de scrapping requests.\n",
    "Pour cela il faut entrer le xPath de l'élément recherché sur la page web pour récupérer son contenu.\n",
    "\n",
    "Malheureusement après avoir effectué plusieurs requêtes, Wine-Searcher nous a bloqué et nos requêtes retournent maintenant une erreur 403, nous empêchant de rendre la tâche de vérification des prix outliers complètement automatique."
   ]
  },
  {
   "cell_type": "code",
   "execution_count": 64,
   "id": "2683b436",
   "metadata": {},
   "outputs": [
    {
     "name": "stdout",
     "output_type": "stream",
     "text": [
      "https://www.wine-searcher.com/find/champagne-egly-ouriet-grand-cru-millesime-2008/france\n",
      "https://www.wine-searcher.com/find/champagne-egly-ouriet-grand-cru-brut-blanc-de-noirs/france\n",
      "https://www.wine-searcher.com/find/cognac-frapin-vip-xo/france\n",
      "https://www.wine-searcher.com/find/cognac-frapin-chateau-de-fontpinot-1989-20-ans/france\n",
      "https://www.wine-searcher.com/find/domaine-des-croix-corton-charlemagne-grand-cru-2016/france\n",
      "https://www.wine-searcher.com/find/david-duband-charmes-chambertin-grand-cru-2014/france\n",
      "https://www.wine-searcher.com/find/domaine-weinbach-gewurztraminer-gc-furstentum-sgn-2010/france\n",
      "https://www.wine-searcher.com/find/camille-giroud-clos-de-vougeot-2016/france\n",
      "https://www.wine-searcher.com/find/coteaux-champenois-egly-ouriet-ambonnay-rouge-2016/france\n",
      "https://www.wine-searcher.com/find/wemyss-malts-single-cask-scotch-whisky-choc-n-nut-pretzel-2001/france\n",
      "https://www.wine-searcher.com/find/champagne-gosset-celebris-vintage-2007/france\n",
      "https://www.wine-searcher.com/find/domaine-clerget-echezeaux-en-orveaux-2015/france\n",
      "https://www.wine-searcher.com/find/domaine-des-comtes-lafon-volnay-1er-cru-santenots-du-milieu-2016/france\n",
      "https://www.wine-searcher.com/find/domaine-des-comtes-lafon-volnay-1er-cru-champans-2016/france\n"
     ]
    }
   ],
   "source": [
    "base = \"https://www.wine-searcher.com/find/\"\n",
    "wineli = std_up[\"post_name\"].replace(\"-\", \"+\").to_list()\n",
    "suffix = \"/france\"\n",
    "\n",
    "for wine in wineli:\n",
    "    stwine = str(wine)\n",
    "    urls = base + stwine + suffix\n",
    "    print(urls)"
   ]
  },
  {
   "cell_type": "code",
   "execution_count": 65,
   "id": "99721030",
   "metadata": {},
   "outputs": [],
   "source": [
    "from lxml import html\n",
    "import requests"
   ]
  },
  {
   "cell_type": "code",
   "execution_count": 67,
   "id": "6a1af85d",
   "metadata": {},
   "outputs": [
    {
     "name": "stdout",
     "output_type": "stream",
     "text": [
      "403\n"
     ]
    }
   ],
   "source": [
    "page = requests.get('https://www.wine-searcher.com/find/egly+ouriet+grand+cru+brut+millesime+champagne+france/2008')\n",
    "tree = html.fromstring(page.content)\n",
    "\n",
    "print(page.status_code)"
   ]
  },
  {
   "cell_type": "code",
   "execution_count": 68,
   "id": "3af9b155",
   "metadata": {},
   "outputs": [
    {
     "name": "stdout",
     "output_type": "stream",
     "text": [
      "b' {\"appId\": \"PXK6S8okp3\", \"jsClientSrc\": \"/K6S8okp3/init.js\", \"firstPartyEnabled\": true, \"vid\": \"\", \"uuid\": \"82d03b84-b378-11ec-8a60-4e7852684b4b\", \"hostUrl\": \"/K6S8okp3/xhr\", \"blockScript\": \"/K6S8okp3/captcha/captcha.js?a=c&u=82d03b84-b378-11ec-8a60-4e7852684b4b&v=&m=0\" } '\n"
     ]
    }
   ],
   "source": [
    "import requests\n",
    "\n",
    "headers = {\n",
    "    'accept': 'application/json',\n",
    "    'X-CSRF-TOKEN': 'lO6ICvViwHmyLtx5A6BdoCTbdvnv7kw8MH4JNJyf',\n",
    "}\n",
    "\n",
    "response = requests.get('https://www.wine-searcher.com/find/egly+ouriet+grand+cru+brut+millesime+champagne+france/2008', headers=headers)\n",
    "print(response.content)"
   ]
  },
  {
   "cell_type": "code",
   "execution_count": 69,
   "id": "4b4aa60a",
   "metadata": {},
   "outputs": [
    {
     "name": "stdout",
     "output_type": "stream",
     "text": [
      "Prices:  []\n"
     ]
    }
   ],
   "source": [
    "prices = tree.xpath('//*[@id=\"productInfo\"]/div/ul[1]/li[1]/ul/li/ul/li[2]/span[1]')\n",
    "print('Prices: ', prices)"
   ]
  },
  {
   "cell_type": "code",
   "execution_count": null,
   "id": "4b3a4f45",
   "metadata": {},
   "outputs": [],
   "source": []
  }
 ],
 "metadata": {
  "kernelspec": {
   "display_name": "Python 3 (ipykernel)",
   "language": "python",
   "name": "python3"
  },
  "language_info": {
   "codemirror_mode": {
    "name": "ipython",
    "version": 3
   },
   "file_extension": ".py",
   "mimetype": "text/x-python",
   "name": "python",
   "nbconvert_exporter": "python",
   "pygments_lexer": "ipython3",
   "version": "3.9.7"
  }
 },
 "nbformat": 4,
 "nbformat_minor": 5
}
